{
 "cells": [
  {
   "cell_type": "code",
   "execution_count": 4,
   "metadata": {
    "vscode": {
     "languageId": "r"
    }
   },
   "outputs": [],
   "source": [
    "library(tidyverse)\n",
    "library(tsibble)\n",
    "library(fable)"
   ]
  },
  {
   "cell_type": "markdown",
   "metadata": {},
   "source": [
    "### Import the housing data"
   ]
  },
  {
   "cell_type": "code",
   "execution_count": 5,
   "metadata": {
    "vscode": {
     "languageId": "r"
    }
   },
   "outputs": [
    {
     "data": {
      "text/html": [
       "<style>\n",
       ".list-inline {list-style: none; margin:0; padding: 0}\n",
       ".list-inline>li {display: inline-block}\n",
       ".list-inline>li:not(:last-child)::after {content: \"\\00b7\"; padding: 0 .5ex}\n",
       "</style>\n",
       "<ol class=list-inline><li>288385</li><li>10</li></ol>\n"
      ],
      "text/latex": [
       "\\begin{enumerate*}\n",
       "\\item 288385\n",
       "\\item 10\n",
       "\\end{enumerate*}\n"
      ],
      "text/markdown": [
       "1. 288385\n",
       "2. 10\n",
       "\n",
       "\n"
      ],
      "text/plain": [
       "[1] 288385     10"
      ]
     },
     "metadata": {},
     "output_type": "display_data"
    }
   ],
   "source": [
    "df <- read.csv('monthly_housing_inventory.csv')\n",
    "df %>% dim()"
   ]
  },
  {
   "cell_type": "markdown",
   "metadata": {},
   "source": [
    "### Extract county, state, and create date variable\n",
    "The `county_name` contains the `county` and `state`. Use `regex` to extract those into separate fields. Convert the `month_date_yyyymm` from an integer to a `monthly date`.\n"
   ]
  },
  {
   "cell_type": "code",
   "execution_count": 7,
   "metadata": {
    "vscode": {
     "languageId": "r"
    }
   },
   "outputs": [
    {
     "data": {
      "text/html": [
       "<table class=\"dataframe\">\n",
       "<caption>A data.frame: 6 × 13</caption>\n",
       "<thead>\n",
       "\t<tr><th></th><th scope=col>month_date_yyyymm</th><th scope=col>county_name</th><th scope=col>median_listing_price</th><th scope=col>active_listing_count</th><th scope=col>new_listing_count</th><th scope=col>pending_listing_count</th><th scope=col>median_listing_price_per_square_foot</th><th scope=col>median_square_feet</th><th scope=col>average_listing_price</th><th scope=col>total_listing_count</th><th scope=col>county</th><th scope=col>state</th><th scope=col>month_date</th></tr>\n",
       "\t<tr><th></th><th scope=col>&lt;int&gt;</th><th scope=col>&lt;chr&gt;</th><th scope=col>&lt;dbl&gt;</th><th scope=col>&lt;dbl&gt;</th><th scope=col>&lt;dbl&gt;</th><th scope=col>&lt;dbl&gt;</th><th scope=col>&lt;dbl&gt;</th><th scope=col>&lt;dbl&gt;</th><th scope=col>&lt;dbl&gt;</th><th scope=col>&lt;dbl&gt;</th><th scope=col>&lt;chr&gt;</th><th scope=col>&lt;chr&gt;</th><th scope=col>&lt;mth&gt;</th></tr>\n",
       "</thead>\n",
       "<tbody>\n",
       "\t<tr><th scope=row>1</th><td>202403</td><td>hartley, tx</td><td>425000</td><td> 12</td><td>  0</td><td> 1</td><td>289</td><td>3024</td><td>444336</td><td> 12</td><td>hartley</td><td>tx</td><td>2024 Mar</td></tr>\n",
       "\t<tr><th scope=row>2</th><td>202403</td><td>rock, mn   </td><td>309900</td><td> 21</td><td>  8</td><td>13</td><td>136</td><td>2016</td><td>397205</td><td> 35</td><td>rock   </td><td>mn</td><td>2024 Mar</td></tr>\n",
       "\t<tr><th scope=row>3</th><td>202403</td><td>carter, ok </td><td>199000</td><td>165</td><td> 56</td><td>59</td><td>127</td><td>1633</td><td>306719</td><td>222</td><td>carter </td><td>ok</td><td>2024 Mar</td></tr>\n",
       "\t<tr><th scope=row>4</th><td>202403</td><td>mckean, pa </td><td>169000</td><td> 48</td><td> 12</td><td>25</td><td> 89</td><td>1898</td><td>187270</td><td> 71</td><td>mckean </td><td>pa</td><td>2024 Mar</td></tr>\n",
       "\t<tr><th scope=row>5</th><td>202403</td><td>etowah, al </td><td>248950</td><td>236</td><td>128</td><td>67</td><td>124</td><td>1894</td><td>296370</td><td>303</td><td>etowah </td><td>al</td><td>2024 Mar</td></tr>\n",
       "\t<tr><th scope=row>6</th><td>202403</td><td>dawson, ga </td><td>679450</td><td>135</td><td> 76</td><td>80</td><td>227</td><td>2802</td><td>814852</td><td>211</td><td>dawson </td><td>ga</td><td>2024 Mar</td></tr>\n",
       "</tbody>\n",
       "</table>\n"
      ],
      "text/latex": [
       "A data.frame: 6 × 13\n",
       "\\begin{tabular}{r|lllllllllllll}\n",
       "  & month\\_date\\_yyyymm & county\\_name & median\\_listing\\_price & active\\_listing\\_count & new\\_listing\\_count & pending\\_listing\\_count & median\\_listing\\_price\\_per\\_square\\_foot & median\\_square\\_feet & average\\_listing\\_price & total\\_listing\\_count & county & state & month\\_date\\\\\n",
       "  & <int> & <chr> & <dbl> & <dbl> & <dbl> & <dbl> & <dbl> & <dbl> & <dbl> & <dbl> & <chr> & <chr> & <mth>\\\\\n",
       "\\hline\n",
       "\t1 & 202403 & hartley, tx & 425000 &  12 &   0 &  1 & 289 & 3024 & 444336 &  12 & hartley & tx & 2024 Mar\\\\\n",
       "\t2 & 202403 & rock, mn    & 309900 &  21 &   8 & 13 & 136 & 2016 & 397205 &  35 & rock    & mn & 2024 Mar\\\\\n",
       "\t3 & 202403 & carter, ok  & 199000 & 165 &  56 & 59 & 127 & 1633 & 306719 & 222 & carter  & ok & 2024 Mar\\\\\n",
       "\t4 & 202403 & mckean, pa  & 169000 &  48 &  12 & 25 &  89 & 1898 & 187270 &  71 & mckean  & pa & 2024 Mar\\\\\n",
       "\t5 & 202403 & etowah, al  & 248950 & 236 & 128 & 67 & 124 & 1894 & 296370 & 303 & etowah  & al & 2024 Mar\\\\\n",
       "\t6 & 202403 & dawson, ga  & 679450 & 135 &  76 & 80 & 227 & 2802 & 814852 & 211 & dawson  & ga & 2024 Mar\\\\\n",
       "\\end{tabular}\n"
      ],
      "text/markdown": [
       "\n",
       "A data.frame: 6 × 13\n",
       "\n",
       "| <!--/--> | month_date_yyyymm &lt;int&gt; | county_name &lt;chr&gt; | median_listing_price &lt;dbl&gt; | active_listing_count &lt;dbl&gt; | new_listing_count &lt;dbl&gt; | pending_listing_count &lt;dbl&gt; | median_listing_price_per_square_foot &lt;dbl&gt; | median_square_feet &lt;dbl&gt; | average_listing_price &lt;dbl&gt; | total_listing_count &lt;dbl&gt; | county &lt;chr&gt; | state &lt;chr&gt; | month_date &lt;mth&gt; |\n",
       "|---|---|---|---|---|---|---|---|---|---|---|---|---|---|\n",
       "| 1 | 202403 | hartley, tx | 425000 |  12 |   0 |  1 | 289 | 3024 | 444336 |  12 | hartley | tx | 2024 Mar |\n",
       "| 2 | 202403 | rock, mn    | 309900 |  21 |   8 | 13 | 136 | 2016 | 397205 |  35 | rock    | mn | 2024 Mar |\n",
       "| 3 | 202403 | carter, ok  | 199000 | 165 |  56 | 59 | 127 | 1633 | 306719 | 222 | carter  | ok | 2024 Mar |\n",
       "| 4 | 202403 | mckean, pa  | 169000 |  48 |  12 | 25 |  89 | 1898 | 187270 |  71 | mckean  | pa | 2024 Mar |\n",
       "| 5 | 202403 | etowah, al  | 248950 | 236 | 128 | 67 | 124 | 1894 | 296370 | 303 | etowah  | al | 2024 Mar |\n",
       "| 6 | 202403 | dawson, ga  | 679450 | 135 |  76 | 80 | 227 | 2802 | 814852 | 211 | dawson  | ga | 2024 Mar |\n",
       "\n"
      ],
      "text/plain": [
       "  month_date_yyyymm county_name median_listing_price active_listing_count\n",
       "1 202403            hartley, tx 425000                12                 \n",
       "2 202403            rock, mn    309900                21                 \n",
       "3 202403            carter, ok  199000               165                 \n",
       "4 202403            mckean, pa  169000                48                 \n",
       "5 202403            etowah, al  248950               236                 \n",
       "6 202403            dawson, ga  679450               135                 \n",
       "  new_listing_count pending_listing_count median_listing_price_per_square_foot\n",
       "1   0                1                    289                                 \n",
       "2   8               13                    136                                 \n",
       "3  56               59                    127                                 \n",
       "4  12               25                     89                                 \n",
       "5 128               67                    124                                 \n",
       "6  76               80                    227                                 \n",
       "  median_square_feet average_listing_price total_listing_count county  state\n",
       "1 3024               444336                 12                 hartley tx   \n",
       "2 2016               397205                 35                 rock    mn   \n",
       "3 1633               306719                222                 carter  ok   \n",
       "4 1898               187270                 71                 mckean  pa   \n",
       "5 1894               296370                303                 etowah  al   \n",
       "6 2802               814852                211                 dawson  ga   \n",
       "  month_date\n",
       "1 2024 Mar  \n",
       "2 2024 Mar  \n",
       "3 2024 Mar  \n",
       "4 2024 Mar  \n",
       "5 2024 Mar  \n",
       "6 2024 Mar  "
      ]
     },
     "metadata": {},
     "output_type": "display_data"
    }
   ],
   "source": [
    "df <-  df %>% \n",
    "mutate(county = str_extract(county_name, '^(.*)?, ([a-z]{2})$', group=1)) %>%\n",
    "mutate(state = str_extract(county_name, '^(.*)?, ([a-z]{2})$', group=2)) %>%\n",
    "mutate(month_date = tsibble::yearmonth(as.character(month_date_yyyymm), '%Y%m'))\n",
    "\n",
    "df %>% head()"
   ]
  },
  {
   "cell_type": "code",
   "execution_count": 8,
   "metadata": {
    "vscode": {
     "languageId": "r"
    }
   },
   "outputs": [
    {
     "data": {
      "text/html": [
       "<style>\n",
       ".list-inline {list-style: none; margin:0; padding: 0}\n",
       ".list-inline>li {display: inline-block}\n",
       ".list-inline>li:not(:last-child)::after {content: \"\\00b7\"; padding: 0 .5ex}\n",
       "</style>\n",
       "<ol class=list-inline><li>22674</li><li>13</li></ol>\n"
      ],
      "text/latex": [
       "\\begin{enumerate*}\n",
       "\\item 22674\n",
       "\\item 13\n",
       "\\end{enumerate*}\n"
      ],
      "text/markdown": [
       "1. 22674\n",
       "2. 13\n",
       "\n",
       "\n"
      ],
      "text/plain": [
       "[1] 22674    13"
      ]
     },
     "metadata": {},
     "output_type": "display_data"
    }
   ],
   "source": [
    "# If doing option 3 you may want to filter the data ahead of time to reduce the processing\n",
    "df_five_states <- df %>% filter(state %in% c('md', 'va', 'pa', 'de', 'nj'))\n",
    "df_five_states %>% dim()"
   ]
  },
  {
   "cell_type": "code",
   "execution_count": 10,
   "metadata": {
    "vscode": {
     "languageId": "r"
    }
   },
   "outputs": [],
   "source": [
    "df_ts <- df %>% as_tsibble(index=month_date, key=c(state, county))\n",
    "df_five_states_ts <- df_five_states %>% as_tsibble(index=month_date, key=c(state, county))"
   ]
  },
  {
   "cell_type": "code",
   "execution_count": 11,
   "metadata": {
    "vscode": {
     "languageId": "r"
    }
   },
   "outputs": [
    {
     "data": {
      "text/html": [
       "<table class=\"dataframe\">\n",
       "<caption>A tbl_ts: 6 × 13</caption>\n",
       "<thead>\n",
       "\t<tr><th scope=col>month_date_yyyymm</th><th scope=col>county_name</th><th scope=col>median_listing_price</th><th scope=col>active_listing_count</th><th scope=col>new_listing_count</th><th scope=col>pending_listing_count</th><th scope=col>median_listing_price_per_square_foot</th><th scope=col>median_square_feet</th><th scope=col>average_listing_price</th><th scope=col>total_listing_count</th><th scope=col>county</th><th scope=col>state</th><th scope=col>month_date</th></tr>\n",
       "\t<tr><th scope=col>&lt;int&gt;</th><th scope=col>&lt;chr&gt;</th><th scope=col>&lt;dbl&gt;</th><th scope=col>&lt;dbl&gt;</th><th scope=col>&lt;dbl&gt;</th><th scope=col>&lt;dbl&gt;</th><th scope=col>&lt;dbl&gt;</th><th scope=col>&lt;dbl&gt;</th><th scope=col>&lt;dbl&gt;</th><th scope=col>&lt;dbl&gt;</th><th scope=col>&lt;chr&gt;</th><th scope=col>&lt;chr&gt;</th><th scope=col>&lt;mth&gt;</th></tr>\n",
       "</thead>\n",
       "<tbody>\n",
       "\t<tr><td>201607</td><td>kent, de</td><td>240000</td><td>1203</td><td>332</td><td>412</td><td>119</td><td>1916</td><td>248196</td><td>1596</td><td>kent</td><td>de</td><td>2016 Jul</td></tr>\n",
       "\t<tr><td>201608</td><td>kent, de</td><td>238925</td><td>1202</td><td>282</td><td>389</td><td>118</td><td>1911</td><td>244720</td><td>1588</td><td>kent</td><td>de</td><td>2016 Aug</td></tr>\n",
       "\t<tr><td>201609</td><td>kent, de</td><td>239000</td><td>1192</td><td>362</td><td>278</td><td>119</td><td>1898</td><td>245363</td><td>1461</td><td>kent</td><td>de</td><td>2016 Sep</td></tr>\n",
       "\t<tr><td>201610</td><td>kent, de</td><td>239700</td><td>1184</td><td>272</td><td>410</td><td>119</td><td>1909</td><td>247105</td><td>1603</td><td>kent</td><td>de</td><td>2016 Oct</td></tr>\n",
       "\t<tr><td>201611</td><td>kent, de</td><td>238600</td><td>1160</td><td>274</td><td>382</td><td>119</td><td>1909</td><td>245420</td><td>1544</td><td>kent</td><td>de</td><td>2016 Nov</td></tr>\n",
       "\t<tr><td>201612</td><td>kent, de</td><td>235780</td><td>1099</td><td>184</td><td>346</td><td>118</td><td>1897</td><td>241322</td><td>1443</td><td>kent</td><td>de</td><td>2016 Dec</td></tr>\n",
       "</tbody>\n",
       "</table>\n"
      ],
      "text/latex": [
       "A tbl\\_ts: 6 × 13\n",
       "\\begin{tabular}{lllllllllllll}\n",
       " month\\_date\\_yyyymm & county\\_name & median\\_listing\\_price & active\\_listing\\_count & new\\_listing\\_count & pending\\_listing\\_count & median\\_listing\\_price\\_per\\_square\\_foot & median\\_square\\_feet & average\\_listing\\_price & total\\_listing\\_count & county & state & month\\_date\\\\\n",
       " <int> & <chr> & <dbl> & <dbl> & <dbl> & <dbl> & <dbl> & <dbl> & <dbl> & <dbl> & <chr> & <chr> & <mth>\\\\\n",
       "\\hline\n",
       "\t 201607 & kent, de & 240000 & 1203 & 332 & 412 & 119 & 1916 & 248196 & 1596 & kent & de & 2016 Jul\\\\\n",
       "\t 201608 & kent, de & 238925 & 1202 & 282 & 389 & 118 & 1911 & 244720 & 1588 & kent & de & 2016 Aug\\\\\n",
       "\t 201609 & kent, de & 239000 & 1192 & 362 & 278 & 119 & 1898 & 245363 & 1461 & kent & de & 2016 Sep\\\\\n",
       "\t 201610 & kent, de & 239700 & 1184 & 272 & 410 & 119 & 1909 & 247105 & 1603 & kent & de & 2016 Oct\\\\\n",
       "\t 201611 & kent, de & 238600 & 1160 & 274 & 382 & 119 & 1909 & 245420 & 1544 & kent & de & 2016 Nov\\\\\n",
       "\t 201612 & kent, de & 235780 & 1099 & 184 & 346 & 118 & 1897 & 241322 & 1443 & kent & de & 2016 Dec\\\\\n",
       "\\end{tabular}\n"
      ],
      "text/markdown": [
       "\n",
       "A tbl_ts: 6 × 13\n",
       "\n",
       "| month_date_yyyymm &lt;int&gt; | county_name &lt;chr&gt; | median_listing_price &lt;dbl&gt; | active_listing_count &lt;dbl&gt; | new_listing_count &lt;dbl&gt; | pending_listing_count &lt;dbl&gt; | median_listing_price_per_square_foot &lt;dbl&gt; | median_square_feet &lt;dbl&gt; | average_listing_price &lt;dbl&gt; | total_listing_count &lt;dbl&gt; | county &lt;chr&gt; | state &lt;chr&gt; | month_date &lt;mth&gt; |\n",
       "|---|---|---|---|---|---|---|---|---|---|---|---|---|\n",
       "| 201607 | kent, de | 240000 | 1203 | 332 | 412 | 119 | 1916 | 248196 | 1596 | kent | de | 2016 Jul |\n",
       "| 201608 | kent, de | 238925 | 1202 | 282 | 389 | 118 | 1911 | 244720 | 1588 | kent | de | 2016 Aug |\n",
       "| 201609 | kent, de | 239000 | 1192 | 362 | 278 | 119 | 1898 | 245363 | 1461 | kent | de | 2016 Sep |\n",
       "| 201610 | kent, de | 239700 | 1184 | 272 | 410 | 119 | 1909 | 247105 | 1603 | kent | de | 2016 Oct |\n",
       "| 201611 | kent, de | 238600 | 1160 | 274 | 382 | 119 | 1909 | 245420 | 1544 | kent | de | 2016 Nov |\n",
       "| 201612 | kent, de | 235780 | 1099 | 184 | 346 | 118 | 1897 | 241322 | 1443 | kent | de | 2016 Dec |\n",
       "\n"
      ],
      "text/plain": [
       "  month_date_yyyymm county_name median_listing_price active_listing_count\n",
       "1 201607            kent, de    240000               1203                \n",
       "2 201608            kent, de    238925               1202                \n",
       "3 201609            kent, de    239000               1192                \n",
       "4 201610            kent, de    239700               1184                \n",
       "5 201611            kent, de    238600               1160                \n",
       "6 201612            kent, de    235780               1099                \n",
       "  new_listing_count pending_listing_count median_listing_price_per_square_foot\n",
       "1 332               412                   119                                 \n",
       "2 282               389                   118                                 \n",
       "3 362               278                   119                                 \n",
       "4 272               410                   119                                 \n",
       "5 274               382                   119                                 \n",
       "6 184               346                   118                                 \n",
       "  median_square_feet average_listing_price total_listing_count county state\n",
       "1 1916               248196                1596                kent   de   \n",
       "2 1911               244720                1588                kent   de   \n",
       "3 1898               245363                1461                kent   de   \n",
       "4 1909               247105                1603                kent   de   \n",
       "5 1909               245420                1544                kent   de   \n",
       "6 1897               241322                1443                kent   de   \n",
       "  month_date\n",
       "1 2016 Jul  \n",
       "2 2016 Aug  \n",
       "3 2016 Sep  \n",
       "4 2016 Oct  \n",
       "5 2016 Nov  \n",
       "6 2016 Dec  "
      ]
     },
     "metadata": {},
     "output_type": "display_data"
    }
   ],
   "source": [
    "df_five_states_ts <- df_five_states_ts %>%\n",
    "fill_gaps()\n",
    "\n",
    "df_five_states_ts %>% head()"
   ]
  },
  {
   "cell_type": "code",
   "execution_count": 12,
   "metadata": {
    "vscode": {
     "languageId": "r"
    }
   },
   "outputs": [
    {
     "data": {
      "text/html": [
       "<style>\n",
       ".list-inline {list-style: none; margin:0; padding: 0}\n",
       ".list-inline>li {display: inline-block}\n",
       ".list-inline>li:not(:last-child)::after {content: \"\\00b7\"; padding: 0 .5ex}\n",
       "</style>\n",
       "<ol class=list-inline><li>22802</li><li>13</li></ol>\n"
      ],
      "text/latex": [
       "\\begin{enumerate*}\n",
       "\\item 22802\n",
       "\\item 13\n",
       "\\end{enumerate*}\n"
      ],
      "text/markdown": [
       "1. 22802\n",
       "2. 13\n",
       "\n",
       "\n"
      ],
      "text/plain": [
       "[1] 22802    13"
      ]
     },
     "metadata": {},
     "output_type": "display_data"
    }
   ],
   "source": [
    "df_five_states_ts %>% dim()"
   ]
  },
  {
   "cell_type": "markdown",
   "metadata": {},
   "source": [
    "### Sample Filling for the Five States in Option-3"
   ]
  },
  {
   "cell_type": "code",
   "execution_count": 15,
   "metadata": {
    "vscode": {
     "languageId": "r"
    }
   },
   "outputs": [
    {
     "data": {
      "text/html": [
       "<style>\n",
       ".list-inline {list-style: none; margin:0; padding: 0}\n",
       ".list-inline>li {display: inline-block}\n",
       ".list-inline>li:not(:last-child)::after {content: \"\\00b7\"; padding: 0 .5ex}\n",
       "</style>\n",
       "<ol class=list-inline><li>0</li><li>4</li></ol>\n"
      ],
      "text/latex": [
       "\\begin{enumerate*}\n",
       "\\item 0\n",
       "\\item 4\n",
       "\\end{enumerate*}\n"
      ],
      "text/markdown": [
       "1. 0\n",
       "2. 4\n",
       "\n",
       "\n"
      ],
      "text/plain": [
       "[1] 0 4"
      ]
     },
     "metadata": {},
     "output_type": "display_data"
    }
   ],
   "source": [
    "df_five_states_ts_filled <- df_five_states_ts |>\n",
    "  model(ARIMA(active_listing_count ~ pdq(0:1, 0:1, 0:1) + PDQ(0,0,0))) |>\n",
    "  fabletools::interpolate(df_five_states_ts)\n",
    "\n",
    "df_five_states_ts_filled %>% filter(is.na(active_listing_count)) %>% dim()"
   ]
  },
  {
   "cell_type": "code",
   "execution_count": 17,
   "metadata": {
    "vscode": {
     "languageId": "r"
    }
   },
   "outputs": [
    {
     "data": {
      "text/html": [
       "<table class=\"dataframe\">\n",
       "<caption>A data.frame: 248 × 3</caption>\n",
       "<thead>\n",
       "\t<tr><th scope=col>state</th><th scope=col>county</th><th scope=col>n</th></tr>\n",
       "\t<tr><th scope=col>&lt;chr&gt;</th><th scope=col>&lt;chr&gt;</th><th scope=col>&lt;int&gt;</th></tr>\n",
       "</thead>\n",
       "<tbody>\n",
       "\t<tr><td>de</td><td>kent           </td><td>93</td></tr>\n",
       "\t<tr><td>de</td><td>new castle     </td><td>93</td></tr>\n",
       "\t<tr><td>de</td><td>sussex         </td><td>93</td></tr>\n",
       "\t<tr><td>md</td><td>allegany       </td><td>93</td></tr>\n",
       "\t<tr><td>md</td><td>anne arundel   </td><td>93</td></tr>\n",
       "\t<tr><td>md</td><td>baltimore      </td><td>93</td></tr>\n",
       "\t<tr><td>md</td><td>baltimore city </td><td>93</td></tr>\n",
       "\t<tr><td>md</td><td>calvert        </td><td>93</td></tr>\n",
       "\t<tr><td>md</td><td>caroline       </td><td>93</td></tr>\n",
       "\t<tr><td>md</td><td>carroll        </td><td>93</td></tr>\n",
       "\t<tr><td>md</td><td>cecil          </td><td>93</td></tr>\n",
       "\t<tr><td>md</td><td>charles        </td><td>93</td></tr>\n",
       "\t<tr><td>md</td><td>dorchester     </td><td>93</td></tr>\n",
       "\t<tr><td>md</td><td>frederick      </td><td>93</td></tr>\n",
       "\t<tr><td>md</td><td>garrett        </td><td>93</td></tr>\n",
       "\t<tr><td>md</td><td>harford        </td><td>93</td></tr>\n",
       "\t<tr><td>md</td><td>howard         </td><td>93</td></tr>\n",
       "\t<tr><td>md</td><td>kent           </td><td>93</td></tr>\n",
       "\t<tr><td>md</td><td>montgomery     </td><td>93</td></tr>\n",
       "\t<tr><td>md</td><td>prince george's</td><td>93</td></tr>\n",
       "\t<tr><td>md</td><td>queen anne's   </td><td>93</td></tr>\n",
       "\t<tr><td>md</td><td>somerset       </td><td>93</td></tr>\n",
       "\t<tr><td>md</td><td>st. mary's     </td><td>93</td></tr>\n",
       "\t<tr><td>md</td><td>talbot         </td><td>93</td></tr>\n",
       "\t<tr><td>md</td><td>washington     </td><td>93</td></tr>\n",
       "\t<tr><td>md</td><td>wicomico       </td><td>93</td></tr>\n",
       "\t<tr><td>md</td><td>worcester      </td><td>93</td></tr>\n",
       "\t<tr><td>nj</td><td>atlantic       </td><td>93</td></tr>\n",
       "\t<tr><td>nj</td><td>bergen         </td><td>93</td></tr>\n",
       "\t<tr><td>nj</td><td>burlington     </td><td>93</td></tr>\n",
       "\t<tr><td>⋮</td><td>⋮</td><td>⋮</td></tr>\n",
       "\t<tr><td>va</td><td>rappahannock       </td><td>93</td></tr>\n",
       "\t<tr><td>va</td><td>richmond           </td><td>93</td></tr>\n",
       "\t<tr><td>va</td><td>richmond city      </td><td>93</td></tr>\n",
       "\t<tr><td>va</td><td>roanoke            </td><td>93</td></tr>\n",
       "\t<tr><td>va</td><td>roanoke city       </td><td>93</td></tr>\n",
       "\t<tr><td>va</td><td>rockbridge         </td><td>93</td></tr>\n",
       "\t<tr><td>va</td><td>rockingham         </td><td>93</td></tr>\n",
       "\t<tr><td>va</td><td>russell            </td><td>93</td></tr>\n",
       "\t<tr><td>va</td><td>salem              </td><td>93</td></tr>\n",
       "\t<tr><td>va</td><td>scott              </td><td>93</td></tr>\n",
       "\t<tr><td>va</td><td>shenandoah         </td><td>93</td></tr>\n",
       "\t<tr><td>va</td><td>smyth              </td><td>93</td></tr>\n",
       "\t<tr><td>va</td><td>southampton        </td><td>93</td></tr>\n",
       "\t<tr><td>va</td><td>spotsylvania       </td><td>93</td></tr>\n",
       "\t<tr><td>va</td><td>stafford           </td><td>93</td></tr>\n",
       "\t<tr><td>va</td><td>staunton city      </td><td>93</td></tr>\n",
       "\t<tr><td>va</td><td>suffolk city       </td><td>93</td></tr>\n",
       "\t<tr><td>va</td><td>surry              </td><td>93</td></tr>\n",
       "\t<tr><td>va</td><td>sussex             </td><td>93</td></tr>\n",
       "\t<tr><td>va</td><td>tazewell           </td><td>93</td></tr>\n",
       "\t<tr><td>va</td><td>virginia beach city</td><td>93</td></tr>\n",
       "\t<tr><td>va</td><td>warren             </td><td>93</td></tr>\n",
       "\t<tr><td>va</td><td>washington         </td><td>93</td></tr>\n",
       "\t<tr><td>va</td><td>waynesboro city    </td><td>93</td></tr>\n",
       "\t<tr><td>va</td><td>westmoreland       </td><td>93</td></tr>\n",
       "\t<tr><td>va</td><td>williamsburg city  </td><td>22</td></tr>\n",
       "\t<tr><td>va</td><td>winchester city    </td><td>93</td></tr>\n",
       "\t<tr><td>va</td><td>wise               </td><td>93</td></tr>\n",
       "\t<tr><td>va</td><td>wythe              </td><td>93</td></tr>\n",
       "\t<tr><td>va</td><td>york               </td><td>93</td></tr>\n",
       "</tbody>\n",
       "</table>\n"
      ],
      "text/latex": [
       "A data.frame: 248 × 3\n",
       "\\begin{tabular}{lll}\n",
       " state & county & n\\\\\n",
       " <chr> & <chr> & <int>\\\\\n",
       "\\hline\n",
       "\t de & kent            & 93\\\\\n",
       "\t de & new castle      & 93\\\\\n",
       "\t de & sussex          & 93\\\\\n",
       "\t md & allegany        & 93\\\\\n",
       "\t md & anne arundel    & 93\\\\\n",
       "\t md & baltimore       & 93\\\\\n",
       "\t md & baltimore city  & 93\\\\\n",
       "\t md & calvert         & 93\\\\\n",
       "\t md & caroline        & 93\\\\\n",
       "\t md & carroll         & 93\\\\\n",
       "\t md & cecil           & 93\\\\\n",
       "\t md & charles         & 93\\\\\n",
       "\t md & dorchester      & 93\\\\\n",
       "\t md & frederick       & 93\\\\\n",
       "\t md & garrett         & 93\\\\\n",
       "\t md & harford         & 93\\\\\n",
       "\t md & howard          & 93\\\\\n",
       "\t md & kent            & 93\\\\\n",
       "\t md & montgomery      & 93\\\\\n",
       "\t md & prince george's & 93\\\\\n",
       "\t md & queen anne's    & 93\\\\\n",
       "\t md & somerset        & 93\\\\\n",
       "\t md & st. mary's      & 93\\\\\n",
       "\t md & talbot          & 93\\\\\n",
       "\t md & washington      & 93\\\\\n",
       "\t md & wicomico        & 93\\\\\n",
       "\t md & worcester       & 93\\\\\n",
       "\t nj & atlantic        & 93\\\\\n",
       "\t nj & bergen          & 93\\\\\n",
       "\t nj & burlington      & 93\\\\\n",
       "\t ⋮ & ⋮ & ⋮\\\\\n",
       "\t va & rappahannock        & 93\\\\\n",
       "\t va & richmond            & 93\\\\\n",
       "\t va & richmond city       & 93\\\\\n",
       "\t va & roanoke             & 93\\\\\n",
       "\t va & roanoke city        & 93\\\\\n",
       "\t va & rockbridge          & 93\\\\\n",
       "\t va & rockingham          & 93\\\\\n",
       "\t va & russell             & 93\\\\\n",
       "\t va & salem               & 93\\\\\n",
       "\t va & scott               & 93\\\\\n",
       "\t va & shenandoah          & 93\\\\\n",
       "\t va & smyth               & 93\\\\\n",
       "\t va & southampton         & 93\\\\\n",
       "\t va & spotsylvania        & 93\\\\\n",
       "\t va & stafford            & 93\\\\\n",
       "\t va & staunton city       & 93\\\\\n",
       "\t va & suffolk city        & 93\\\\\n",
       "\t va & surry               & 93\\\\\n",
       "\t va & sussex              & 93\\\\\n",
       "\t va & tazewell            & 93\\\\\n",
       "\t va & virginia beach city & 93\\\\\n",
       "\t va & warren              & 93\\\\\n",
       "\t va & washington          & 93\\\\\n",
       "\t va & waynesboro city     & 93\\\\\n",
       "\t va & westmoreland        & 93\\\\\n",
       "\t va & williamsburg city   & 22\\\\\n",
       "\t va & winchester city     & 93\\\\\n",
       "\t va & wise                & 93\\\\\n",
       "\t va & wythe               & 93\\\\\n",
       "\t va & york                & 93\\\\\n",
       "\\end{tabular}\n"
      ],
      "text/markdown": [
       "\n",
       "A data.frame: 248 × 3\n",
       "\n",
       "| state &lt;chr&gt; | county &lt;chr&gt; | n &lt;int&gt; |\n",
       "|---|---|---|\n",
       "| de | kent            | 93 |\n",
       "| de | new castle      | 93 |\n",
       "| de | sussex          | 93 |\n",
       "| md | allegany        | 93 |\n",
       "| md | anne arundel    | 93 |\n",
       "| md | baltimore       | 93 |\n",
       "| md | baltimore city  | 93 |\n",
       "| md | calvert         | 93 |\n",
       "| md | caroline        | 93 |\n",
       "| md | carroll         | 93 |\n",
       "| md | cecil           | 93 |\n",
       "| md | charles         | 93 |\n",
       "| md | dorchester      | 93 |\n",
       "| md | frederick       | 93 |\n",
       "| md | garrett         | 93 |\n",
       "| md | harford         | 93 |\n",
       "| md | howard          | 93 |\n",
       "| md | kent            | 93 |\n",
       "| md | montgomery      | 93 |\n",
       "| md | prince george's | 93 |\n",
       "| md | queen anne's    | 93 |\n",
       "| md | somerset        | 93 |\n",
       "| md | st. mary's      | 93 |\n",
       "| md | talbot          | 93 |\n",
       "| md | washington      | 93 |\n",
       "| md | wicomico        | 93 |\n",
       "| md | worcester       | 93 |\n",
       "| nj | atlantic        | 93 |\n",
       "| nj | bergen          | 93 |\n",
       "| nj | burlington      | 93 |\n",
       "| ⋮ | ⋮ | ⋮ |\n",
       "| va | rappahannock        | 93 |\n",
       "| va | richmond            | 93 |\n",
       "| va | richmond city       | 93 |\n",
       "| va | roanoke             | 93 |\n",
       "| va | roanoke city        | 93 |\n",
       "| va | rockbridge          | 93 |\n",
       "| va | rockingham          | 93 |\n",
       "| va | russell             | 93 |\n",
       "| va | salem               | 93 |\n",
       "| va | scott               | 93 |\n",
       "| va | shenandoah          | 93 |\n",
       "| va | smyth               | 93 |\n",
       "| va | southampton         | 93 |\n",
       "| va | spotsylvania        | 93 |\n",
       "| va | stafford            | 93 |\n",
       "| va | staunton city       | 93 |\n",
       "| va | suffolk city        | 93 |\n",
       "| va | surry               | 93 |\n",
       "| va | sussex              | 93 |\n",
       "| va | tazewell            | 93 |\n",
       "| va | virginia beach city | 93 |\n",
       "| va | warren              | 93 |\n",
       "| va | washington          | 93 |\n",
       "| va | waynesboro city     | 93 |\n",
       "| va | westmoreland        | 93 |\n",
       "| va | williamsburg city   | 22 |\n",
       "| va | winchester city     | 93 |\n",
       "| va | wise                | 93 |\n",
       "| va | wythe               | 93 |\n",
       "| va | york                | 93 |\n",
       "\n"
      ],
      "text/plain": [
       "    state county              n \n",
       "1   de    kent                93\n",
       "2   de    new castle          93\n",
       "3   de    sussex              93\n",
       "4   md    allegany            93\n",
       "5   md    anne arundel        93\n",
       "6   md    baltimore           93\n",
       "7   md    baltimore city      93\n",
       "8   md    calvert             93\n",
       "9   md    caroline            93\n",
       "10  md    carroll             93\n",
       "11  md    cecil               93\n",
       "12  md    charles             93\n",
       "13  md    dorchester          93\n",
       "14  md    frederick           93\n",
       "15  md    garrett             93\n",
       "16  md    harford             93\n",
       "17  md    howard              93\n",
       "18  md    kent                93\n",
       "19  md    montgomery          93\n",
       "20  md    prince george's     93\n",
       "21  md    queen anne's        93\n",
       "22  md    somerset            93\n",
       "23  md    st. mary's          93\n",
       "24  md    talbot              93\n",
       "25  md    washington          93\n",
       "26  md    wicomico            93\n",
       "27  md    worcester           93\n",
       "28  nj    atlantic            93\n",
       "29  nj    bergen              93\n",
       "30  nj    burlington          93\n",
       "⋮   ⋮     ⋮                   ⋮ \n",
       "219 va    rappahannock        93\n",
       "220 va    richmond            93\n",
       "221 va    richmond city       93\n",
       "222 va    roanoke             93\n",
       "223 va    roanoke city        93\n",
       "224 va    rockbridge          93\n",
       "225 va    rockingham          93\n",
       "226 va    russell             93\n",
       "227 va    salem               93\n",
       "228 va    scott               93\n",
       "229 va    shenandoah          93\n",
       "230 va    smyth               93\n",
       "231 va    southampton         93\n",
       "232 va    spotsylvania        93\n",
       "233 va    stafford            93\n",
       "234 va    staunton city       93\n",
       "235 va    suffolk city        93\n",
       "236 va    surry               93\n",
       "237 va    sussex              93\n",
       "238 va    tazewell            93\n",
       "239 va    virginia beach city 93\n",
       "240 va    warren              93\n",
       "241 va    washington          93\n",
       "242 va    waynesboro city     93\n",
       "243 va    westmoreland        93\n",
       "244 va    williamsburg city   22\n",
       "245 va    winchester city     93\n",
       "246 va    wise                93\n",
       "247 va    wythe               93\n",
       "248 va    york                93"
      ]
     },
     "metadata": {},
     "output_type": "display_data"
    }
   ],
   "source": [
    "df_five_states %>% count(state, county)"
   ]
  },
  {
   "cell_type": "markdown",
   "metadata": {},
   "source": [
    "### Sample Aggregation for National Data\n",
    "Probably want to do this before you set as a tsibble, otherwise the aggregation gets problematic due to the inner workings of the tsibble package."
   ]
  },
  {
   "cell_type": "code",
   "execution_count": null,
   "metadata": {
    "vscode": {
     "languageId": "r"
    }
   },
   "outputs": [
    {
     "data": {
      "text/html": [
       "<table class=\"dataframe\">\n",
       "<caption>A tbl_ts: 6 × 3</caption>\n",
       "<thead>\n",
       "\t<tr><th scope=col>total_listings</th><th scope=col>wgt_median_square_feet</th><th scope=col>month_date</th></tr>\n",
       "\t<tr><th scope=col>&lt;dbl&gt;</th><th scope=col>&lt;dbl&gt;</th><th scope=col>&lt;mth&gt;</th></tr>\n",
       "</thead>\n",
       "<tbody>\n",
       "\t<tr><td>1873362</td><td>1984.003</td><td>2016 Jul</td></tr>\n",
       "\t<tr><td>1845212</td><td>1974.786</td><td>2016 Aug</td></tr>\n",
       "\t<tr><td>1809143</td><td>1970.087</td><td>2016 Sep</td></tr>\n",
       "\t<tr><td>1753435</td><td>1964.404</td><td>2016 Oct</td></tr>\n",
       "\t<tr><td>1664952</td><td>1956.831</td><td>2016 Nov</td></tr>\n",
       "\t<tr><td>1522590</td><td>1941.071</td><td>2016 Dec</td></tr>\n",
       "</tbody>\n",
       "</table>\n"
      ],
      "text/latex": [
       "A tbl\\_ts: 6 × 3\n",
       "\\begin{tabular}{lll}\n",
       " total\\_listings & wgt\\_median\\_square\\_feet & month\\_date\\\\\n",
       " <dbl> & <dbl> & <mth>\\\\\n",
       "\\hline\n",
       "\t 1873362 & 1984.003 & 2016 Jul\\\\\n",
       "\t 1845212 & 1974.786 & 2016 Aug\\\\\n",
       "\t 1809143 & 1970.087 & 2016 Sep\\\\\n",
       "\t 1753435 & 1964.404 & 2016 Oct\\\\\n",
       "\t 1664952 & 1956.831 & 2016 Nov\\\\\n",
       "\t 1522590 & 1941.071 & 2016 Dec\\\\\n",
       "\\end{tabular}\n"
      ],
      "text/markdown": [
       "\n",
       "A tbl_ts: 6 × 3\n",
       "\n",
       "| total_listings &lt;dbl&gt; | wgt_median_square_feet &lt;dbl&gt; | month_date &lt;mth&gt; |\n",
       "|---|---|---|\n",
       "| 1873362 | 1984.003 | 2016 Jul |\n",
       "| 1845212 | 1974.786 | 2016 Aug |\n",
       "| 1809143 | 1970.087 | 2016 Sep |\n",
       "| 1753435 | 1964.404 | 2016 Oct |\n",
       "| 1664952 | 1956.831 | 2016 Nov |\n",
       "| 1522590 | 1941.071 | 2016 Dec |\n",
       "\n"
      ],
      "text/plain": [
       "  total_listings wgt_median_square_feet month_date\n",
       "1 1873362        1984.003               2016 Jul  \n",
       "2 1845212        1974.786               2016 Aug  \n",
       "3 1809143        1970.087               2016 Sep  \n",
       "4 1753435        1964.404               2016 Oct  \n",
       "5 1664952        1956.831               2016 Nov  \n",
       "6 1522590        1941.071               2016 Dec  "
      ]
     },
     "metadata": {},
     "output_type": "display_data"
    }
   ],
   "source": [
    "df %>%\n",
    "mutate(feet = median_square_feet * total_listing_count) %>%\n",
    "group_by(month_date_yyyymm) %>%\n",
    "summarise(\n",
    "    total_listings = sum(total_listing_count, na.rm = TRUE),\n",
    "    feet = sum(feet, na.rm=TRUE)\n",
    ", .groups='drop') %>%\n",
    "mutate(wgt_median_square_feet = feet / total_listings) %>%\n",
    "mutate(month_date = tsibble::yearmonth(as.character(month_date_yyyymm), '%Y%m')) %>%\n",
    "select(-feet, -month_date_yyyymm) %>%\n",
    "as_tsibble(index=month_date) %>%\n",
    "head()"
   ]
  },
  {
   "cell_type": "markdown",
   "metadata": {},
   "source": [
    "### Sample Aggregate Set-up\n",
    "For Simplicity, I would only pick a metric that can be summed."
   ]
  },
  {
   "cell_type": "code",
   "execution_count": null,
   "metadata": {
    "vscode": {
     "languageId": "r"
    }
   },
   "outputs": [
    {
     "data": {
      "text/html": [
       "<table class=\"dataframe\">\n",
       "<caption>A tbl_ts: 6 × 5</caption>\n",
       "<thead>\n",
       "\t<tr><th scope=col>month_date</th><th scope=col>state</th><th scope=col>county</th><th scope=col>total_listing</th><th scope=col>pending_listings</th></tr>\n",
       "\t<tr><th scope=col>&lt;mth&gt;</th><th scope=col>&lt;chr*&gt;</th><th scope=col>&lt;chr*&gt;</th><th scope=col>&lt;dbl&gt;</th><th scope=col>&lt;dbl&gt;</th></tr>\n",
       "</thead>\n",
       "<tbody>\n",
       "\t<tr><td>2016 Jul</td><td>&lt;aggregated&gt;</td><td>&lt;aggregated&gt;</td><td>1873362</td><td>414444</td></tr>\n",
       "\t<tr><td>2016 Aug</td><td>&lt;aggregated&gt;</td><td>&lt;aggregated&gt;</td><td>1845212</td><td>393440</td></tr>\n",
       "\t<tr><td>2016 Sep</td><td>&lt;aggregated&gt;</td><td>&lt;aggregated&gt;</td><td>1809143</td><td>370710</td></tr>\n",
       "\t<tr><td>2016 Oct</td><td>&lt;aggregated&gt;</td><td>&lt;aggregated&gt;</td><td>1753435</td><td>352650</td></tr>\n",
       "\t<tr><td>2016 Nov</td><td>&lt;aggregated&gt;</td><td>&lt;aggregated&gt;</td><td>1664952</td><td>331782</td></tr>\n",
       "\t<tr><td>2016 Dec</td><td>&lt;aggregated&gt;</td><td>&lt;aggregated&gt;</td><td>1522590</td><td>292734</td></tr>\n",
       "</tbody>\n",
       "</table>\n"
      ],
      "text/latex": [
       "A tbl\\_ts: 6 × 5\n",
       "\\begin{tabular}{lllll}\n",
       " month\\_date & state & county & total\\_listing & pending\\_listings\\\\\n",
       " <mth> & <chr*> & <chr*> & <dbl> & <dbl>\\\\\n",
       "\\hline\n",
       "\t 2016 Jul & <aggregated> & <aggregated> & 1873362 & 414444\\\\\n",
       "\t 2016 Aug & <aggregated> & <aggregated> & 1845212 & 393440\\\\\n",
       "\t 2016 Sep & <aggregated> & <aggregated> & 1809143 & 370710\\\\\n",
       "\t 2016 Oct & <aggregated> & <aggregated> & 1753435 & 352650\\\\\n",
       "\t 2016 Nov & <aggregated> & <aggregated> & 1664952 & 331782\\\\\n",
       "\t 2016 Dec & <aggregated> & <aggregated> & 1522590 & 292734\\\\\n",
       "\\end{tabular}\n"
      ],
      "text/markdown": [
       "\n",
       "A tbl_ts: 6 × 5\n",
       "\n",
       "| month_date &lt;mth&gt; | state &lt;chr*&gt; | county &lt;chr*&gt; | total_listing &lt;dbl&gt; | pending_listings &lt;dbl&gt; |\n",
       "|---|---|---|---|---|\n",
       "| 2016 Jul | &lt;aggregated&gt; | &lt;aggregated&gt; | 1873362 | 414444 |\n",
       "| 2016 Aug | &lt;aggregated&gt; | &lt;aggregated&gt; | 1845212 | 393440 |\n",
       "| 2016 Sep | &lt;aggregated&gt; | &lt;aggregated&gt; | 1809143 | 370710 |\n",
       "| 2016 Oct | &lt;aggregated&gt; | &lt;aggregated&gt; | 1753435 | 352650 |\n",
       "| 2016 Nov | &lt;aggregated&gt; | &lt;aggregated&gt; | 1664952 | 331782 |\n",
       "| 2016 Dec | &lt;aggregated&gt; | &lt;aggregated&gt; | 1522590 | 292734 |\n",
       "\n"
      ],
      "text/plain": [
       "  month_date state        county       total_listing pending_listings\n",
       "1 2016 Jul   <aggregated> <aggregated> 1873362       414444          \n",
       "2 2016 Aug   <aggregated> <aggregated> 1845212       393440          \n",
       "3 2016 Sep   <aggregated> <aggregated> 1809143       370710          \n",
       "4 2016 Oct   <aggregated> <aggregated> 1753435       352650          \n",
       "5 2016 Nov   <aggregated> <aggregated> 1664952       331782          \n",
       "6 2016 Dec   <aggregated> <aggregated> 1522590       292734          "
      ]
     },
     "metadata": {},
     "output_type": "display_data"
    }
   ],
   "source": [
    "df_ts %>%\n",
    "fabletools::aggregate_key(\n",
    "    state / county,\n",
    "    total_listing=sum(total_listing_count),\n",
    "    pending_listings=sum(pending_listing_count,na.rm=TRUE)\n",
    ") %>%\n",
    "head()"
   ]
  },
  {
   "cell_type": "code",
   "execution_count": null,
   "metadata": {
    "vscode": {
     "languageId": "r"
    }
   },
   "outputs": [],
   "source": []
  }
 ],
 "metadata": {
  "kernelspec": {
   "display_name": "R",
   "language": "R",
   "name": "ir"
  },
  "language_info": {
   "codemirror_mode": "r",
   "file_extension": ".r",
   "mimetype": "text/x-r-source",
   "name": "R",
   "pygments_lexer": "r",
   "version": "4.3.1"
  }
 },
 "nbformat": 4,
 "nbformat_minor": 2
}
