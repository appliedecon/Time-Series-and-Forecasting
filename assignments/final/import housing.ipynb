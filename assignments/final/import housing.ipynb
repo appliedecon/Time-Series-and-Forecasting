{
 "cells": [
  {
   "cell_type": "code",
   "execution_count": 1,
   "metadata": {
    "vscode": {
     "languageId": "r"
    }
   },
   "outputs": [
    {
     "name": "stderr",
     "output_type": "stream",
     "text": [
      "Warning message:\n",
      "\"package 'ggplot2' was built under R version 4.3.2\"\n",
      "── \u001b[1mAttaching core tidyverse packages\u001b[22m ──────────────────────── tidyverse 2.0.0 ──\n",
      "\u001b[32m✔\u001b[39m \u001b[34mdplyr    \u001b[39m 1.1.2     \u001b[32m✔\u001b[39m \u001b[34mreadr    \u001b[39m 2.1.4\n",
      "\u001b[32m✔\u001b[39m \u001b[34mforcats  \u001b[39m 1.0.0     \u001b[32m✔\u001b[39m \u001b[34mstringr  \u001b[39m 1.5.0\n",
      "\u001b[32m✔\u001b[39m \u001b[34mggplot2  \u001b[39m 3.4.4     \u001b[32m✔\u001b[39m \u001b[34mtibble   \u001b[39m 3.2.1\n",
      "\u001b[32m✔\u001b[39m \u001b[34mlubridate\u001b[39m 1.9.2     \u001b[32m✔\u001b[39m \u001b[34mtidyr    \u001b[39m 1.3.0\n",
      "\u001b[32m✔\u001b[39m \u001b[34mpurrr    \u001b[39m 1.0.2     \n",
      "── \u001b[1mConflicts\u001b[22m ────────────────────────────────────────── tidyverse_conflicts() ──\n",
      "\u001b[31m✖\u001b[39m \u001b[34mdplyr\u001b[39m::\u001b[32mfilter()\u001b[39m masks \u001b[34mstats\u001b[39m::filter()\n",
      "\u001b[31m✖\u001b[39m \u001b[34mdplyr\u001b[39m::\u001b[32mlag()\u001b[39m    masks \u001b[34mstats\u001b[39m::lag()\n",
      "\u001b[36mℹ\u001b[39m Use the conflicted package (\u001b[3m\u001b[34m<http://conflicted.r-lib.org/>\u001b[39m\u001b[23m) to force all conflicts to become errors\n",
      "\n",
      "Attaching package: 'tsibble'\n",
      "\n",
      "\n",
      "The following object is masked from 'package:lubridate':\n",
      "\n",
      "    interval\n",
      "\n",
      "\n",
      "The following objects are masked from 'package:base':\n",
      "\n",
      "    intersect, setdiff, union\n",
      "\n",
      "\n"
     ]
    }
   ],
   "source": [
    "library(tidyverse)\n",
    "library(tsibble)"
   ]
  },
  {
   "cell_type": "markdown",
   "metadata": {},
   "source": [
    "### Import the housing data"
   ]
  },
  {
   "cell_type": "code",
   "execution_count": 2,
   "metadata": {
    "vscode": {
     "languageId": "r"
    }
   },
   "outputs": [
    {
     "data": {
      "text/html": [
       "<style>\n",
       ".list-inline {list-style: none; margin:0; padding: 0}\n",
       ".list-inline>li {display: inline-block}\n",
       ".list-inline>li:not(:last-child)::after {content: \"\\00b7\"; padding: 0 .5ex}\n",
       "</style>\n",
       "<ol class=list-inline><li>288385</li><li>10</li></ol>\n"
      ],
      "text/latex": [
       "\\begin{enumerate*}\n",
       "\\item 288385\n",
       "\\item 10\n",
       "\\end{enumerate*}\n"
      ],
      "text/markdown": [
       "1. 288385\n",
       "2. 10\n",
       "\n",
       "\n"
      ],
      "text/plain": [
       "[1] 288385     10"
      ]
     },
     "metadata": {},
     "output_type": "display_data"
    }
   ],
   "source": [
    "df <- read.csv('monthly_housing_inventory.csv')\n",
    "df %>% dim()"
   ]
  },
  {
   "cell_type": "code",
   "execution_count": 3,
   "metadata": {
    "vscode": {
     "languageId": "r"
    }
   },
   "outputs": [
    {
     "data": {
      "text/html": [
       "<table class=\"dataframe\">\n",
       "<caption>A data.frame: 6 × 10</caption>\n",
       "<thead>\n",
       "\t<tr><th></th><th scope=col>month_date_yyyymm</th><th scope=col>county_name</th><th scope=col>median_listing_price</th><th scope=col>active_listing_count</th><th scope=col>new_listing_count</th><th scope=col>pending_listing_count</th><th scope=col>median_listing_price_per_square_foot</th><th scope=col>median_square_feet</th><th scope=col>average_listing_price</th><th scope=col>total_listing_count</th></tr>\n",
       "\t<tr><th></th><th scope=col>&lt;int&gt;</th><th scope=col>&lt;chr&gt;</th><th scope=col>&lt;dbl&gt;</th><th scope=col>&lt;dbl&gt;</th><th scope=col>&lt;dbl&gt;</th><th scope=col>&lt;dbl&gt;</th><th scope=col>&lt;dbl&gt;</th><th scope=col>&lt;dbl&gt;</th><th scope=col>&lt;dbl&gt;</th><th scope=col>&lt;dbl&gt;</th></tr>\n",
       "</thead>\n",
       "<tbody>\n",
       "\t<tr><th scope=row>1</th><td>202403</td><td>hartley, tx</td><td>425000</td><td> 12</td><td>  0</td><td> 1</td><td>289</td><td>3024</td><td>444336</td><td> 12</td></tr>\n",
       "\t<tr><th scope=row>2</th><td>202403</td><td>rock, mn   </td><td>309900</td><td> 21</td><td>  8</td><td>13</td><td>136</td><td>2016</td><td>397205</td><td> 35</td></tr>\n",
       "\t<tr><th scope=row>3</th><td>202403</td><td>carter, ok </td><td>199000</td><td>165</td><td> 56</td><td>59</td><td>127</td><td>1633</td><td>306719</td><td>222</td></tr>\n",
       "\t<tr><th scope=row>4</th><td>202403</td><td>mckean, pa </td><td>169000</td><td> 48</td><td> 12</td><td>25</td><td> 89</td><td>1898</td><td>187270</td><td> 71</td></tr>\n",
       "\t<tr><th scope=row>5</th><td>202403</td><td>etowah, al </td><td>248950</td><td>236</td><td>128</td><td>67</td><td>124</td><td>1894</td><td>296370</td><td>303</td></tr>\n",
       "\t<tr><th scope=row>6</th><td>202403</td><td>dawson, ga </td><td>679450</td><td>135</td><td> 76</td><td>80</td><td>227</td><td>2802</td><td>814852</td><td>211</td></tr>\n",
       "</tbody>\n",
       "</table>\n"
      ],
      "text/latex": [
       "A data.frame: 6 × 10\n",
       "\\begin{tabular}{r|llllllllll}\n",
       "  & month\\_date\\_yyyymm & county\\_name & median\\_listing\\_price & active\\_listing\\_count & new\\_listing\\_count & pending\\_listing\\_count & median\\_listing\\_price\\_per\\_square\\_foot & median\\_square\\_feet & average\\_listing\\_price & total\\_listing\\_count\\\\\n",
       "  & <int> & <chr> & <dbl> & <dbl> & <dbl> & <dbl> & <dbl> & <dbl> & <dbl> & <dbl>\\\\\n",
       "\\hline\n",
       "\t1 & 202403 & hartley, tx & 425000 &  12 &   0 &  1 & 289 & 3024 & 444336 &  12\\\\\n",
       "\t2 & 202403 & rock, mn    & 309900 &  21 &   8 & 13 & 136 & 2016 & 397205 &  35\\\\\n",
       "\t3 & 202403 & carter, ok  & 199000 & 165 &  56 & 59 & 127 & 1633 & 306719 & 222\\\\\n",
       "\t4 & 202403 & mckean, pa  & 169000 &  48 &  12 & 25 &  89 & 1898 & 187270 &  71\\\\\n",
       "\t5 & 202403 & etowah, al  & 248950 & 236 & 128 & 67 & 124 & 1894 & 296370 & 303\\\\\n",
       "\t6 & 202403 & dawson, ga  & 679450 & 135 &  76 & 80 & 227 & 2802 & 814852 & 211\\\\\n",
       "\\end{tabular}\n"
      ],
      "text/markdown": [
       "\n",
       "A data.frame: 6 × 10\n",
       "\n",
       "| <!--/--> | month_date_yyyymm &lt;int&gt; | county_name &lt;chr&gt; | median_listing_price &lt;dbl&gt; | active_listing_count &lt;dbl&gt; | new_listing_count &lt;dbl&gt; | pending_listing_count &lt;dbl&gt; | median_listing_price_per_square_foot &lt;dbl&gt; | median_square_feet &lt;dbl&gt; | average_listing_price &lt;dbl&gt; | total_listing_count &lt;dbl&gt; |\n",
       "|---|---|---|---|---|---|---|---|---|---|---|\n",
       "| 1 | 202403 | hartley, tx | 425000 |  12 |   0 |  1 | 289 | 3024 | 444336 |  12 |\n",
       "| 2 | 202403 | rock, mn    | 309900 |  21 |   8 | 13 | 136 | 2016 | 397205 |  35 |\n",
       "| 3 | 202403 | carter, ok  | 199000 | 165 |  56 | 59 | 127 | 1633 | 306719 | 222 |\n",
       "| 4 | 202403 | mckean, pa  | 169000 |  48 |  12 | 25 |  89 | 1898 | 187270 |  71 |\n",
       "| 5 | 202403 | etowah, al  | 248950 | 236 | 128 | 67 | 124 | 1894 | 296370 | 303 |\n",
       "| 6 | 202403 | dawson, ga  | 679450 | 135 |  76 | 80 | 227 | 2802 | 814852 | 211 |\n",
       "\n"
      ],
      "text/plain": [
       "  month_date_yyyymm county_name median_listing_price active_listing_count\n",
       "1 202403            hartley, tx 425000                12                 \n",
       "2 202403            rock, mn    309900                21                 \n",
       "3 202403            carter, ok  199000               165                 \n",
       "4 202403            mckean, pa  169000                48                 \n",
       "5 202403            etowah, al  248950               236                 \n",
       "6 202403            dawson, ga  679450               135                 \n",
       "  new_listing_count pending_listing_count median_listing_price_per_square_foot\n",
       "1   0                1                    289                                 \n",
       "2   8               13                    136                                 \n",
       "3  56               59                    127                                 \n",
       "4  12               25                     89                                 \n",
       "5 128               67                    124                                 \n",
       "6  76               80                    227                                 \n",
       "  median_square_feet average_listing_price total_listing_count\n",
       "1 3024               444336                 12                \n",
       "2 2016               397205                 35                \n",
       "3 1633               306719                222                \n",
       "4 1898               187270                 71                \n",
       "5 1894               296370                303                \n",
       "6 2802               814852                211                "
      ]
     },
     "metadata": {},
     "output_type": "display_data"
    }
   ],
   "source": [
    "df %>% head()"
   ]
  },
  {
   "cell_type": "markdown",
   "metadata": {},
   "source": [
    "### Extract county, state, and create date variable\n",
    "The `county_name` contains the `county` and `state`. Use `regex` to extract those into separate fields. Convert the `month_date_yyyymm` from an integer to a `monthly date`.\n"
   ]
  },
  {
   "cell_type": "code",
   "execution_count": 4,
   "metadata": {
    "vscode": {
     "languageId": "r"
    }
   },
   "outputs": [
    {
     "data": {
      "text/html": [
       "<table class=\"dataframe\">\n",
       "<caption>A data.frame: 6 × 13</caption>\n",
       "<thead>\n",
       "\t<tr><th></th><th scope=col>month_date_yyyymm</th><th scope=col>county_name</th><th scope=col>median_listing_price</th><th scope=col>active_listing_count</th><th scope=col>new_listing_count</th><th scope=col>pending_listing_count</th><th scope=col>median_listing_price_per_square_foot</th><th scope=col>median_square_feet</th><th scope=col>average_listing_price</th><th scope=col>total_listing_count</th><th scope=col>county</th><th scope=col>state</th><th scope=col>month_date</th></tr>\n",
       "\t<tr><th></th><th scope=col>&lt;int&gt;</th><th scope=col>&lt;chr&gt;</th><th scope=col>&lt;dbl&gt;</th><th scope=col>&lt;dbl&gt;</th><th scope=col>&lt;dbl&gt;</th><th scope=col>&lt;dbl&gt;</th><th scope=col>&lt;dbl&gt;</th><th scope=col>&lt;dbl&gt;</th><th scope=col>&lt;dbl&gt;</th><th scope=col>&lt;dbl&gt;</th><th scope=col>&lt;chr&gt;</th><th scope=col>&lt;chr&gt;</th><th scope=col>&lt;mth&gt;</th></tr>\n",
       "</thead>\n",
       "<tbody>\n",
       "\t<tr><th scope=row>1</th><td>202403</td><td>hartley, tx</td><td>425000</td><td> 12</td><td>  0</td><td> 1</td><td>289</td><td>3024</td><td>444336</td><td> 12</td><td>hartley</td><td>tx</td><td>2024 Mar</td></tr>\n",
       "\t<tr><th scope=row>2</th><td>202403</td><td>rock, mn   </td><td>309900</td><td> 21</td><td>  8</td><td>13</td><td>136</td><td>2016</td><td>397205</td><td> 35</td><td>rock   </td><td>mn</td><td>2024 Mar</td></tr>\n",
       "\t<tr><th scope=row>3</th><td>202403</td><td>carter, ok </td><td>199000</td><td>165</td><td> 56</td><td>59</td><td>127</td><td>1633</td><td>306719</td><td>222</td><td>carter </td><td>ok</td><td>2024 Mar</td></tr>\n",
       "\t<tr><th scope=row>4</th><td>202403</td><td>mckean, pa </td><td>169000</td><td> 48</td><td> 12</td><td>25</td><td> 89</td><td>1898</td><td>187270</td><td> 71</td><td>mckean </td><td>pa</td><td>2024 Mar</td></tr>\n",
       "\t<tr><th scope=row>5</th><td>202403</td><td>etowah, al </td><td>248950</td><td>236</td><td>128</td><td>67</td><td>124</td><td>1894</td><td>296370</td><td>303</td><td>etowah </td><td>al</td><td>2024 Mar</td></tr>\n",
       "\t<tr><th scope=row>6</th><td>202403</td><td>dawson, ga </td><td>679450</td><td>135</td><td> 76</td><td>80</td><td>227</td><td>2802</td><td>814852</td><td>211</td><td>dawson </td><td>ga</td><td>2024 Mar</td></tr>\n",
       "</tbody>\n",
       "</table>\n"
      ],
      "text/latex": [
       "A data.frame: 6 × 13\n",
       "\\begin{tabular}{r|lllllllllllll}\n",
       "  & month\\_date\\_yyyymm & county\\_name & median\\_listing\\_price & active\\_listing\\_count & new\\_listing\\_count & pending\\_listing\\_count & median\\_listing\\_price\\_per\\_square\\_foot & median\\_square\\_feet & average\\_listing\\_price & total\\_listing\\_count & county & state & month\\_date\\\\\n",
       "  & <int> & <chr> & <dbl> & <dbl> & <dbl> & <dbl> & <dbl> & <dbl> & <dbl> & <dbl> & <chr> & <chr> & <mth>\\\\\n",
       "\\hline\n",
       "\t1 & 202403 & hartley, tx & 425000 &  12 &   0 &  1 & 289 & 3024 & 444336 &  12 & hartley & tx & 2024 Mar\\\\\n",
       "\t2 & 202403 & rock, mn    & 309900 &  21 &   8 & 13 & 136 & 2016 & 397205 &  35 & rock    & mn & 2024 Mar\\\\\n",
       "\t3 & 202403 & carter, ok  & 199000 & 165 &  56 & 59 & 127 & 1633 & 306719 & 222 & carter  & ok & 2024 Mar\\\\\n",
       "\t4 & 202403 & mckean, pa  & 169000 &  48 &  12 & 25 &  89 & 1898 & 187270 &  71 & mckean  & pa & 2024 Mar\\\\\n",
       "\t5 & 202403 & etowah, al  & 248950 & 236 & 128 & 67 & 124 & 1894 & 296370 & 303 & etowah  & al & 2024 Mar\\\\\n",
       "\t6 & 202403 & dawson, ga  & 679450 & 135 &  76 & 80 & 227 & 2802 & 814852 & 211 & dawson  & ga & 2024 Mar\\\\\n",
       "\\end{tabular}\n"
      ],
      "text/markdown": [
       "\n",
       "A data.frame: 6 × 13\n",
       "\n",
       "| <!--/--> | month_date_yyyymm &lt;int&gt; | county_name &lt;chr&gt; | median_listing_price &lt;dbl&gt; | active_listing_count &lt;dbl&gt; | new_listing_count &lt;dbl&gt; | pending_listing_count &lt;dbl&gt; | median_listing_price_per_square_foot &lt;dbl&gt; | median_square_feet &lt;dbl&gt; | average_listing_price &lt;dbl&gt; | total_listing_count &lt;dbl&gt; | county &lt;chr&gt; | state &lt;chr&gt; | month_date &lt;mth&gt; |\n",
       "|---|---|---|---|---|---|---|---|---|---|---|---|---|---|\n",
       "| 1 | 202403 | hartley, tx | 425000 |  12 |   0 |  1 | 289 | 3024 | 444336 |  12 | hartley | tx | 2024 Mar |\n",
       "| 2 | 202403 | rock, mn    | 309900 |  21 |   8 | 13 | 136 | 2016 | 397205 |  35 | rock    | mn | 2024 Mar |\n",
       "| 3 | 202403 | carter, ok  | 199000 | 165 |  56 | 59 | 127 | 1633 | 306719 | 222 | carter  | ok | 2024 Mar |\n",
       "| 4 | 202403 | mckean, pa  | 169000 |  48 |  12 | 25 |  89 | 1898 | 187270 |  71 | mckean  | pa | 2024 Mar |\n",
       "| 5 | 202403 | etowah, al  | 248950 | 236 | 128 | 67 | 124 | 1894 | 296370 | 303 | etowah  | al | 2024 Mar |\n",
       "| 6 | 202403 | dawson, ga  | 679450 | 135 |  76 | 80 | 227 | 2802 | 814852 | 211 | dawson  | ga | 2024 Mar |\n",
       "\n"
      ],
      "text/plain": [
       "  month_date_yyyymm county_name median_listing_price active_listing_count\n",
       "1 202403            hartley, tx 425000                12                 \n",
       "2 202403            rock, mn    309900                21                 \n",
       "3 202403            carter, ok  199000               165                 \n",
       "4 202403            mckean, pa  169000                48                 \n",
       "5 202403            etowah, al  248950               236                 \n",
       "6 202403            dawson, ga  679450               135                 \n",
       "  new_listing_count pending_listing_count median_listing_price_per_square_foot\n",
       "1   0                1                    289                                 \n",
       "2   8               13                    136                                 \n",
       "3  56               59                    127                                 \n",
       "4  12               25                     89                                 \n",
       "5 128               67                    124                                 \n",
       "6  76               80                    227                                 \n",
       "  median_square_feet average_listing_price total_listing_count county  state\n",
       "1 3024               444336                 12                 hartley tx   \n",
       "2 2016               397205                 35                 rock    mn   \n",
       "3 1633               306719                222                 carter  ok   \n",
       "4 1898               187270                 71                 mckean  pa   \n",
       "5 1894               296370                303                 etowah  al   \n",
       "6 2802               814852                211                 dawson  ga   \n",
       "  month_date\n",
       "1 2024 Mar  \n",
       "2 2024 Mar  \n",
       "3 2024 Mar  \n",
       "4 2024 Mar  \n",
       "5 2024 Mar  \n",
       "6 2024 Mar  "
      ]
     },
     "metadata": {},
     "output_type": "display_data"
    }
   ],
   "source": [
    "df <-  df %>% \n",
    "mutate(county = str_extract(county_name, '^(.*)?, ([a-z]{2})$', group=1)) %>%\n",
    "mutate(state = str_extract(county_name, '^(.*)?, ([a-z]{2})$', group=2)) %>%\n",
    "mutate(month_date = tsibble::yearmonth(as.character(month_date_yyyymm), '%Y%m'))\n",
    "\n",
    "df %>% head()"
   ]
  }
 ],
 "metadata": {
  "kernelspec": {
   "display_name": "R",
   "language": "R",
   "name": "ir"
  },
  "language_info": {
   "codemirror_mode": "r",
   "file_extension": ".r",
   "mimetype": "text/x-r-source",
   "name": "R",
   "pygments_lexer": "r",
   "version": "4.3.1"
  }
 },
 "nbformat": 4,
 "nbformat_minor": 2
}
