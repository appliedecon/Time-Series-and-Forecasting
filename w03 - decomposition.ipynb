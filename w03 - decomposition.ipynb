{
 "cells": [
  {
   "cell_type": "markdown",
   "metadata": {},
   "source": [
    "# Decomposition"
   ]
  },
  {
   "cell_type": "code",
   "execution_count": 1,
   "metadata": {
    "vscode": {
     "languageId": "r"
    }
   },
   "outputs": [],
   "source": [
    "suppressMessages(library(fable))"
   ]
  },
  {
   "cell_type": "code",
   "execution_count": 2,
   "metadata": {
    "vscode": {
     "languageId": "r"
    }
   },
   "outputs": [],
   "source": [
    "suppressMessages(library(forecast))"
   ]
  },
  {
   "cell_type": "code",
   "execution_count": 3,
   "metadata": {
    "vscode": {
     "languageId": "r"
    }
   },
   "outputs": [],
   "source": [
    "suppressMessages(library(tsibble))"
   ]
  },
  {
   "cell_type": "code",
   "execution_count": 4,
   "metadata": {
    "vscode": {
     "languageId": "r"
    }
   },
   "outputs": [],
   "source": [
    "suppressMessages(library(tidyverse))"
   ]
  },
  {
   "cell_type": "code",
   "execution_count": 5,
   "metadata": {
    "vscode": {
     "languageId": "r"
    }
   },
   "outputs": [],
   "source": [
    "suppressMessages(library(fabletools))"
   ]
  },
  {
   "cell_type": "code",
   "execution_count": 6,
   "metadata": {
    "vscode": {
     "languageId": "r"
    }
   },
   "outputs": [],
   "source": [
    "suppressMessages(library(feasts))"
   ]
  },
  {
   "cell_type": "code",
   "execution_count": 7,
   "metadata": {
    "vscode": {
     "languageId": "r"
    }
   },
   "outputs": [],
   "source": [
    "suppressMessages(library(lubridate))"
   ]
  },
  {
   "cell_type": "code",
   "execution_count": 8,
   "metadata": {
    "vscode": {
     "languageId": "r"
    }
   },
   "outputs": [],
   "source": [
    "suppressMessages(library(scales))"
   ]
  },
  {
   "cell_type": "markdown",
   "metadata": {},
   "source": [
    "## Calendar Adjustments\n",
    "- Months will have different numbers of days.\n",
    "- Months will start at various days of the weeks.\n",
    "- Calendar effects can lead to distortions that can be systematically adjusted."
   ]
  },
  {
   "cell_type": "code",
   "execution_count": 9,
   "metadata": {
    "vscode": {
     "languageId": "r"
    }
   },
   "outputs": [],
   "source": [
    "fedVolume <- read.csv('data/EFFRVOL.csv')"
   ]
  },
  {
   "cell_type": "code",
   "execution_count": 10,
   "metadata": {
    "vscode": {
     "languageId": "r"
    }
   },
   "outputs": [
    {
     "data": {
      "text/html": [
       "<table class=\"dataframe\">\n",
       "<caption>A data.frame: 6 × 2</caption>\n",
       "<thead>\n",
       "\t<tr><th></th><th scope=col>DATE</th><th scope=col>EFFRVOL</th></tr>\n",
       "\t<tr><th></th><th scope=col>&lt;chr&gt;</th><th scope=col>&lt;chr&gt;</th></tr>\n",
       "</thead>\n",
       "<tbody>\n",
       "\t<tr><th scope=row>1</th><td>2018-10-04</td><td>73.0</td></tr>\n",
       "\t<tr><th scope=row>2</th><td>2018-10-05</td><td>64.0</td></tr>\n",
       "\t<tr><th scope=row>3</th><td>2018-10-08</td><td>.   </td></tr>\n",
       "\t<tr><th scope=row>4</th><td>2018-10-09</td><td>57.0</td></tr>\n",
       "\t<tr><th scope=row>5</th><td>2018-10-10</td><td>64.0</td></tr>\n",
       "\t<tr><th scope=row>6</th><td>2018-10-11</td><td>66.0</td></tr>\n",
       "</tbody>\n",
       "</table>\n"
      ],
      "text/latex": [
       "A data.frame: 6 × 2\n",
       "\\begin{tabular}{r|ll}\n",
       "  & DATE & EFFRVOL\\\\\n",
       "  & <chr> & <chr>\\\\\n",
       "\\hline\n",
       "\t1 & 2018-10-04 & 73.0\\\\\n",
       "\t2 & 2018-10-05 & 64.0\\\\\n",
       "\t3 & 2018-10-08 & .   \\\\\n",
       "\t4 & 2018-10-09 & 57.0\\\\\n",
       "\t5 & 2018-10-10 & 64.0\\\\\n",
       "\t6 & 2018-10-11 & 66.0\\\\\n",
       "\\end{tabular}\n"
      ],
      "text/markdown": [
       "\n",
       "A data.frame: 6 × 2\n",
       "\n",
       "| <!--/--> | DATE &lt;chr&gt; | EFFRVOL &lt;chr&gt; |\n",
       "|---|---|---|\n",
       "| 1 | 2018-10-04 | 73.0 |\n",
       "| 2 | 2018-10-05 | 64.0 |\n",
       "| 3 | 2018-10-08 | .    |\n",
       "| 4 | 2018-10-09 | 57.0 |\n",
       "| 5 | 2018-10-10 | 64.0 |\n",
       "| 6 | 2018-10-11 | 66.0 |\n",
       "\n"
      ],
      "text/plain": [
       "  DATE       EFFRVOL\n",
       "1 2018-10-04 73.0   \n",
       "2 2018-10-05 64.0   \n",
       "3 2018-10-08 .      \n",
       "4 2018-10-09 57.0   \n",
       "5 2018-10-10 64.0   \n",
       "6 2018-10-11 66.0   "
      ]
     },
     "metadata": {},
     "output_type": "display_data"
    }
   ],
   "source": [
    "fedVolume %>% head()"
   ]
  },
  {
   "cell_type": "code",
   "execution_count": 11,
   "metadata": {
    "vscode": {
     "languageId": "r"
    }
   },
   "outputs": [],
   "source": [
    "fedVolumeMonthly <- fedVolume %>%\n",
    "  filter(EFFRVOL != '.') %>%\n",
    "  mutate(mdt = floor_date(ymd(DATE),'month')) %>%\n",
    "  group_by(mdt) %>%\n",
    "  summarise(Volume=sum(as.numeric(EFFRVOL)), Days=n(), .groups='drop') %>%\n",
    "  mutate(AverageDaily = Volume/Days) %>%\n",
    "  as_tsibble(index='mdt') %>%\n",
    "  filter_index(. ~ \"2023 Sep\")"
   ]
  },
  {
   "cell_type": "code",
   "execution_count": 12,
   "metadata": {
    "vscode": {
     "languageId": "r"
    }
   },
   "outputs": [
    {
     "data": {
      "text/html": [
       "<table class=\"dataframe\">\n",
       "<caption>A tbl_ts: 6 × 4</caption>\n",
       "<thead>\n",
       "\t<tr><th scope=col>mdt</th><th scope=col>Volume</th><th scope=col>Days</th><th scope=col>AverageDaily</th></tr>\n",
       "\t<tr><th scope=col>&lt;date&gt;</th><th scope=col>&lt;dbl&gt;</th><th scope=col>&lt;int&gt;</th><th scope=col>&lt;dbl&gt;</th></tr>\n",
       "</thead>\n",
       "<tbody>\n",
       "\t<tr><td>2018-10-01</td><td>1156</td><td>19</td><td>60.84211</td></tr>\n",
       "\t<tr><td>2018-11-01</td><td>1311</td><td>20</td><td>65.55000</td></tr>\n",
       "\t<tr><td>2018-12-01</td><td>1368</td><td>20</td><td>68.40000</td></tr>\n",
       "\t<tr><td>2019-01-01</td><td>1310</td><td>21</td><td>62.38095</td></tr>\n",
       "\t<tr><td>2019-02-01</td><td>1370</td><td>19</td><td>72.10526</td></tr>\n",
       "\t<tr><td>2019-03-01</td><td>1593</td><td>21</td><td>75.85714</td></tr>\n",
       "</tbody>\n",
       "</table>\n"
      ],
      "text/latex": [
       "A tbl\\_ts: 6 × 4\n",
       "\\begin{tabular}{llll}\n",
       " mdt & Volume & Days & AverageDaily\\\\\n",
       " <date> & <dbl> & <int> & <dbl>\\\\\n",
       "\\hline\n",
       "\t 2018-10-01 & 1156 & 19 & 60.84211\\\\\n",
       "\t 2018-11-01 & 1311 & 20 & 65.55000\\\\\n",
       "\t 2018-12-01 & 1368 & 20 & 68.40000\\\\\n",
       "\t 2019-01-01 & 1310 & 21 & 62.38095\\\\\n",
       "\t 2019-02-01 & 1370 & 19 & 72.10526\\\\\n",
       "\t 2019-03-01 & 1593 & 21 & 75.85714\\\\\n",
       "\\end{tabular}\n"
      ],
      "text/markdown": [
       "\n",
       "A tbl_ts: 6 × 4\n",
       "\n",
       "| mdt &lt;date&gt; | Volume &lt;dbl&gt; | Days &lt;int&gt; | AverageDaily &lt;dbl&gt; |\n",
       "|---|---|---|---|\n",
       "| 2018-10-01 | 1156 | 19 | 60.84211 |\n",
       "| 2018-11-01 | 1311 | 20 | 65.55000 |\n",
       "| 2018-12-01 | 1368 | 20 | 68.40000 |\n",
       "| 2019-01-01 | 1310 | 21 | 62.38095 |\n",
       "| 2019-02-01 | 1370 | 19 | 72.10526 |\n",
       "| 2019-03-01 | 1593 | 21 | 75.85714 |\n",
       "\n"
      ],
      "text/plain": [
       "  mdt        Volume Days AverageDaily\n",
       "1 2018-10-01 1156   19   60.84211    \n",
       "2 2018-11-01 1311   20   65.55000    \n",
       "3 2018-12-01 1368   20   68.40000    \n",
       "4 2019-01-01 1310   21   62.38095    \n",
       "5 2019-02-01 1370   19   72.10526    \n",
       "6 2019-03-01 1593   21   75.85714    "
      ]
     },
     "metadata": {},
     "output_type": "display_data"
    }
   ],
   "source": [
    "fedVolumeMonthly %>% head()"
   ]
  },
  {
   "cell_type": "code",
   "execution_count": 13,
   "metadata": {
    "vscode": {
     "languageId": "r"
    }
   },
   "outputs": [
    {
     "data": {
      "image/png": "[encoded data removed]",
      "text/plain": [
       "plot without title"
      ]
     },
     "metadata": {
      "image/png": {
       "height": 420,
       "width": 420
      }
     },
     "output_type": "display_data"
    }
   ],
   "source": [
    "fedVolumeMonthly %>% autoplot(Volume) +\n",
    "  ggtitle('Monthly Effective Federal Funds Volume') +\n",
    "  ylab('Billions of Dollars') +\n",
    "  scale_y_continuous(label=scales::dollar_format())"
   ]
  },
  {
   "cell_type": "markdown",
   "metadata": {},
   "source": [
    "Note: Volume only occurs on non-Holidays during the week."
   ]
  },
  {
   "cell_type": "code",
   "execution_count": 14,
   "metadata": {
    "vscode": {
     "languageId": "r"
    }
   },
   "outputs": [
    {
     "data": {
      "image/png": "[encoded data removed]",
      "text/plain": [
       "plot without title"
      ]
     },
     "metadata": {
      "image/png": {
       "height": 420,
       "width": 420
      }
     },
     "output_type": "display_data"
    }
   ],
   "source": [
    "fedVolumeMonthly %>% autoplot(Days) + labs(title='Volume Days Per Month', y='Days')"
   ]
  },
  {
   "cell_type": "code",
   "execution_count": 15,
   "metadata": {
    "vscode": {
     "languageId": "r"
    }
   },
   "outputs": [
    {
     "data": {
      "text/html": [
       "21.0526315789474"
      ],
      "text/latex": [
       "21.0526315789474"
      ],
      "text/markdown": [
       "21.0526315789474"
      ],
      "text/plain": [
       "[1] 21.05263"
      ]
     },
     "metadata": {},
     "output_type": "display_data"
    }
   ],
   "source": [
    "(23/19 - 1)*100"
   ]
  },
  {
   "cell_type": "markdown",
   "metadata": {},
   "source": [
    "Note: Varies from 19 to 23 days."
   ]
  },
  {
   "cell_type": "code",
   "execution_count": 16,
   "metadata": {
    "vscode": {
     "languageId": "r"
    }
   },
   "outputs": [],
   "source": [
    "avgDays <- mean(fedVolumeMonthly$Days)"
   ]
  },
  {
   "cell_type": "code",
   "execution_count": 17,
   "metadata": {
    "vscode": {
     "languageId": "r"
    }
   },
   "outputs": [
    {
     "data": {
      "text/html": [
       "20.8833333333333"
      ],
      "text/latex": [
       "20.8833333333333"
      ],
      "text/markdown": [
       "20.8833333333333"
      ],
      "text/plain": [
       "[1] 20.88333"
      ]
     },
     "metadata": {},
     "output_type": "display_data"
    }
   ],
   "source": [
    "avgDays"
   ]
  },
  {
   "cell_type": "code",
   "execution_count": 18,
   "metadata": {
    "vscode": {
     "languageId": "r"
    }
   },
   "outputs": [
    {
     "data": {
      "image/png": "[encoded data removed]",
      "text/plain": [
       "plot without title"
      ]
     },
     "metadata": {
      "image/png": {
       "height": 420,
       "width": 420
      }
     },
     "output_type": "display_data"
    }
   ],
   "source": [
    "ggplot(fedVolumeMonthly) +\n",
    "  geom_line(aes(x= mdt, y= Volume), color = 'dodgerblue') +\n",
    "  geom_line(aes(x= mdt, y = AverageDaily*avgDays), stat = 'identity') + \n",
    "  ylab('Monthly') +\n",
    "  scale_y_continuous(sec.axis = sec_axis(~., name = 'Grossed Daily')) +\n",
    "  xlab('') +\n",
    "  ggtitle('Monthly Volume vs. Grossed Average Daily Volume') +\n",
    "  theme(axis.text.y.left = element_text(colour = \"blue\"), \n",
    "        axis.title.y.left = element_text(colour=\"blue\")\n",
    "  )"
   ]
  },
  {
   "cell_type": "markdown",
   "metadata": {},
   "source": [
    "### Compare the variance between the raw and adjusted data\n",
    "The adjusted data should have a smaller variance."
   ]
  },
  {
   "cell_type": "code",
   "execution_count": 19,
   "metadata": {
    "vscode": {
     "languageId": "r"
    }
   },
   "outputs": [
    {
     "data": {
      "text/html": [
       "379.770647408101"
      ],
      "text/latex": [
       "379.770647408101"
      ],
      "text/markdown": [
       "379.770647408101"
      ],
      "text/plain": [
       "[1] 379.7706"
      ]
     },
     "metadata": {},
     "output_type": "display_data"
    }
   ],
   "source": [
    "sd(fedVolumeMonthly$Volume)"
   ]
  },
  {
   "cell_type": "code",
   "execution_count": 20,
   "metadata": {
    "vscode": {
     "languageId": "r"
    }
   },
   "outputs": [
    {
     "data": {
      "text/html": [
       "368.17749516984"
      ],
      "text/latex": [
       "368.17749516984"
      ],
      "text/markdown": [
       "368.17749516984"
      ],
      "text/plain": [
       "[1] 368.1775"
      ]
     },
     "metadata": {},
     "output_type": "display_data"
    }
   ],
   "source": [
    "sd(fedVolumeMonthly$AverageDaily*avgDays)"
   ]
  },
  {
   "cell_type": "markdown",
   "metadata": {},
   "source": [
    "Note: The standard deviation has decreased."
   ]
  },
  {
   "cell_type": "markdown",
   "metadata": {},
   "source": [
    "## Population Adjustments"
   ]
  },
  {
   "cell_type": "code",
   "execution_count": 21,
   "metadata": {
    "vscode": {
     "languageId": "r"
    }
   },
   "outputs": [],
   "source": [
    "gdp <- read.csv('data/gdpc1.csv')"
   ]
  },
  {
   "cell_type": "code",
   "execution_count": 22,
   "metadata": {
    "vscode": {
     "languageId": "r"
    }
   },
   "outputs": [
    {
     "data": {
      "text/html": [
       "<table class=\"dataframe\">\n",
       "<caption>A data.frame: 1 × 2</caption>\n",
       "<thead>\n",
       "\t<tr><th></th><th scope=col>DATE</th><th scope=col>GDPC1</th></tr>\n",
       "\t<tr><th></th><th scope=col>&lt;chr&gt;</th><th scope=col>&lt;dbl&gt;</th></tr>\n",
       "</thead>\n",
       "<tbody>\n",
       "\t<tr><th scope=row>1</th><td>1947-01-01</td><td>2182.681</td></tr>\n",
       "</tbody>\n",
       "</table>\n"
      ],
      "text/latex": [
       "A data.frame: 1 × 2\n",
       "\\begin{tabular}{r|ll}\n",
       "  & DATE & GDPC1\\\\\n",
       "  & <chr> & <dbl>\\\\\n",
       "\\hline\n",
       "\t1 & 1947-01-01 & 2182.681\\\\\n",
       "\\end{tabular}\n"
      ],
      "text/markdown": [
       "\n",
       "A data.frame: 1 × 2\n",
       "\n",
       "| <!--/--> | DATE &lt;chr&gt; | GDPC1 &lt;dbl&gt; |\n",
       "|---|---|---|\n",
       "| 1 | 1947-01-01 | 2182.681 |\n",
       "\n"
      ],
      "text/plain": [
       "  DATE       GDPC1   \n",
       "1 1947-01-01 2182.681"
      ]
     },
     "metadata": {},
     "output_type": "display_data"
    }
   ],
   "source": [
    "gdp %>% head(1)"
   ]
  },
  {
   "cell_type": "code",
   "execution_count": 23,
   "metadata": {
    "vscode": {
     "languageId": "r"
    }
   },
   "outputs": [],
   "source": [
    "gdp_capita <- read.csv('data/A939RX0Q048SBEA.csv')"
   ]
  },
  {
   "cell_type": "code",
   "execution_count": 24,
   "metadata": {
    "vscode": {
     "languageId": "r"
    }
   },
   "outputs": [
    {
     "data": {
      "text/html": [
       "<table class=\"dataframe\">\n",
       "<caption>A data.frame: 1 × 2</caption>\n",
       "<thead>\n",
       "\t<tr><th></th><th scope=col>DATE</th><th scope=col>A939RX0Q048SBEA</th></tr>\n",
       "\t<tr><th></th><th scope=col>&lt;chr&gt;</th><th scope=col>&lt;dbl&gt;</th></tr>\n",
       "</thead>\n",
       "<tbody>\n",
       "\t<tr><th scope=row>1</th><td>1947-01-01</td><td>15248</td></tr>\n",
       "</tbody>\n",
       "</table>\n"
      ],
      "text/latex": [
       "A data.frame: 1 × 2\n",
       "\\begin{tabular}{r|ll}\n",
       "  & DATE & A939RX0Q048SBEA\\\\\n",
       "  & <chr> & <dbl>\\\\\n",
       "\\hline\n",
       "\t1 & 1947-01-01 & 15248\\\\\n",
       "\\end{tabular}\n"
      ],
      "text/markdown": [
       "\n",
       "A data.frame: 1 × 2\n",
       "\n",
       "| <!--/--> | DATE &lt;chr&gt; | A939RX0Q048SBEA &lt;dbl&gt; |\n",
       "|---|---|---|\n",
       "| 1 | 1947-01-01 | 15248 |\n",
       "\n"
      ],
      "text/plain": [
       "  DATE       A939RX0Q048SBEA\n",
       "1 1947-01-01 15248          "
      ]
     },
     "metadata": {},
     "output_type": "display_data"
    }
   ],
   "source": [
    "gdp_capita %>% head(1)"
   ]
  },
  {
   "cell_type": "code",
   "execution_count": 25,
   "metadata": {
    "vscode": {
     "languageId": "r"
    }
   },
   "outputs": [],
   "source": [
    "gdp <- gdp %>% mutate(DATE = as.Date(DATE)) %>% as_tsibble(index=DATE)"
   ]
  },
  {
   "cell_type": "code",
   "execution_count": 26,
   "metadata": {
    "vscode": {
     "languageId": "r"
    }
   },
   "outputs": [],
   "source": [
    "gdp_capita <- gdp_capita %>% mutate(DATE = as.Date(DATE)) %>% as_tsibble(index=DATE)"
   ]
  },
  {
   "cell_type": "code",
   "execution_count": 27,
   "metadata": {
    "vscode": {
     "languageId": "r"
    }
   },
   "outputs": [
    {
     "data": {
      "image/png": "[encoded data removed]",
      "text/plain": [
       "plot without title"
      ]
     },
     "metadata": {
      "image/png": {
       "height": 420,
       "width": 420
      }
     },
     "output_type": "display_data"
    }
   ],
   "source": [
    "gdp %>% autoplot(GDPC1) + labs(title='Real Gross Domestic Product, Seasonally Adjusted Annual Rate', y='Billions of Dollars')"
   ]
  },
  {
   "cell_type": "code",
   "execution_count": 28,
   "metadata": {
    "vscode": {
     "languageId": "r"
    }
   },
   "outputs": [
    {
     "data": {
      "image/png": "[encoded data removed]",
      "text/plain": [
       "plot without title"
      ]
     },
     "metadata": {
      "image/png": {
       "height": 420,
       "width": 420
      }
     },
     "output_type": "display_data"
    }
   ],
   "source": [
    "gdp_capita %>% autoplot(A939RX0Q048SBEA) + labs(title='Real Gross Domestic Product Per Capita', y='Dollar per Capita')"
   ]
  },
  {
   "cell_type": "markdown",
   "metadata": {},
   "source": [
    "## Deflating the Value of Money"
   ]
  },
  {
   "cell_type": "code",
   "execution_count": 29,
   "metadata": {
    "vscode": {
     "languageId": "r"
    }
   },
   "outputs": [],
   "source": [
    "cpi <- read.csv('data/CPIAUCSL.csv')"
   ]
  },
  {
   "cell_type": "code",
   "execution_count": 30,
   "metadata": {
    "vscode": {
     "languageId": "r"
    }
   },
   "outputs": [],
   "source": [
    "cpi <- cpi %>%\n",
    "  mutate(mdt = floor_date(ymd(DATE),'month')) %>%\n",
    "  as_tsibble(index='mdt')"
   ]
  },
  {
   "cell_type": "code",
   "execution_count": 31,
   "metadata": {
    "vscode": {
     "languageId": "r"
    }
   },
   "outputs": [
    {
     "data": {
      "text/html": [
       "<table class=\"dataframe\">\n",
       "<caption>A tbl_ts: 1 × 3</caption>\n",
       "<thead>\n",
       "\t<tr><th scope=col>DATE</th><th scope=col>CPIAUCSL</th><th scope=col>mdt</th></tr>\n",
       "\t<tr><th scope=col>&lt;chr&gt;</th><th scope=col>&lt;dbl&gt;</th><th scope=col>&lt;date&gt;</th></tr>\n",
       "</thead>\n",
       "<tbody>\n",
       "\t<tr><td>1947-01-01</td><td>21.48</td><td>1947-01-01</td></tr>\n",
       "</tbody>\n",
       "</table>\n"
      ],
      "text/latex": [
       "A tbl\\_ts: 1 × 3\n",
       "\\begin{tabular}{lll}\n",
       " DATE & CPIAUCSL & mdt\\\\\n",
       " <chr> & <dbl> & <date>\\\\\n",
       "\\hline\n",
       "\t 1947-01-01 & 21.48 & 1947-01-01\\\\\n",
       "\\end{tabular}\n"
      ],
      "text/markdown": [
       "\n",
       "A tbl_ts: 1 × 3\n",
       "\n",
       "| DATE &lt;chr&gt; | CPIAUCSL &lt;dbl&gt; | mdt &lt;date&gt; |\n",
       "|---|---|---|\n",
       "| 1947-01-01 | 21.48 | 1947-01-01 |\n",
       "\n"
      ],
      "text/plain": [
       "  DATE       CPIAUCSL mdt       \n",
       "1 1947-01-01 21.48    1947-01-01"
      ]
     },
     "metadata": {},
     "output_type": "display_data"
    }
   ],
   "source": [
    "cpi %>% head(1)"
   ]
  },
  {
   "cell_type": "code",
   "execution_count": 32,
   "metadata": {
    "vscode": {
     "languageId": "r"
    }
   },
   "outputs": [
    {
     "data": {
      "image/png": "[encoded data removed]",
      "text/plain": [
       "plot without title"
      ]
     },
     "metadata": {
      "image/png": {
       "height": 420,
       "width": 420
      }
     },
     "output_type": "display_data"
    }
   ],
   "source": [
    "cpi %>% autoplot(CPIAUCSL) + labs(title='Consumer Price Index (aka Inflation)', y='Index')"
   ]
  },
  {
   "cell_type": "code",
   "execution_count": 33,
   "metadata": {
    "vscode": {
     "languageId": "r"
    }
   },
   "outputs": [],
   "source": [
    "gas <- read.csv('data/GASREGW.csv')"
   ]
  },
  {
   "cell_type": "code",
   "execution_count": 34,
   "metadata": {
    "vscode": {
     "languageId": "r"
    }
   },
   "outputs": [
    {
     "data": {
      "text/html": [
       "<table class=\"dataframe\">\n",
       "<caption>A data.frame: 6 × 2</caption>\n",
       "<thead>\n",
       "\t<tr><th></th><th scope=col>DATE</th><th scope=col>GASREGW</th></tr>\n",
       "\t<tr><th></th><th scope=col>&lt;chr&gt;</th><th scope=col>&lt;chr&gt;</th></tr>\n",
       "</thead>\n",
       "<tbody>\n",
       "\t<tr><th scope=row>1</th><td>1990-08-20</td><td>1.191</td></tr>\n",
       "\t<tr><th scope=row>2</th><td>1990-08-27</td><td>1.245</td></tr>\n",
       "\t<tr><th scope=row>3</th><td>1990-09-03</td><td>1.242</td></tr>\n",
       "\t<tr><th scope=row>4</th><td>1990-09-10</td><td>1.252</td></tr>\n",
       "\t<tr><th scope=row>5</th><td>1990-09-17</td><td>1.266</td></tr>\n",
       "\t<tr><th scope=row>6</th><td>1990-09-24</td><td>1.272</td></tr>\n",
       "</tbody>\n",
       "</table>\n"
      ],
      "text/latex": [
       "A data.frame: 6 × 2\n",
       "\\begin{tabular}{r|ll}\n",
       "  & DATE & GASREGW\\\\\n",
       "  & <chr> & <chr>\\\\\n",
       "\\hline\n",
       "\t1 & 1990-08-20 & 1.191\\\\\n",
       "\t2 & 1990-08-27 & 1.245\\\\\n",
       "\t3 & 1990-09-03 & 1.242\\\\\n",
       "\t4 & 1990-09-10 & 1.252\\\\\n",
       "\t5 & 1990-09-17 & 1.266\\\\\n",
       "\t6 & 1990-09-24 & 1.272\\\\\n",
       "\\end{tabular}\n"
      ],
      "text/markdown": [
       "\n",
       "A data.frame: 6 × 2\n",
       "\n",
       "| <!--/--> | DATE &lt;chr&gt; | GASREGW &lt;chr&gt; |\n",
       "|---|---|---|\n",
       "| 1 | 1990-08-20 | 1.191 |\n",
       "| 2 | 1990-08-27 | 1.245 |\n",
       "| 3 | 1990-09-03 | 1.242 |\n",
       "| 4 | 1990-09-10 | 1.252 |\n",
       "| 5 | 1990-09-17 | 1.266 |\n",
       "| 6 | 1990-09-24 | 1.272 |\n",
       "\n"
      ],
      "text/plain": [
       "  DATE       GASREGW\n",
       "1 1990-08-20 1.191  \n",
       "2 1990-08-27 1.245  \n",
       "3 1990-09-03 1.242  \n",
       "4 1990-09-10 1.252  \n",
       "5 1990-09-17 1.266  \n",
       "6 1990-09-24 1.272  "
      ]
     },
     "metadata": {},
     "output_type": "display_data"
    }
   ],
   "source": [
    "gas %>% head()"
   ]
  },
  {
   "cell_type": "code",
   "execution_count": 35,
   "metadata": {
    "vscode": {
     "languageId": "r"
    }
   },
   "outputs": [],
   "source": [
    "gas <- gas %>%\n",
    "    filter(GASREGW != \".\") %>%\n",
    "    mutate(gas_price = as.numeric(GASREGW)) %>%\n",
    "    select(-GASREGW) %>%\n",
    "    mutate(DATE = ymd(DATE)) %>%\n",
    "    as_tsibble(index='DATE')"
   ]
  },
  {
   "cell_type": "code",
   "execution_count": 36,
   "metadata": {
    "vscode": {
     "languageId": "r"
    }
   },
   "outputs": [
    {
     "data": {
      "text/html": [
       "<table class=\"dataframe\">\n",
       "<caption>A tbl_ts: 6 × 2</caption>\n",
       "<thead>\n",
       "\t<tr><th scope=col>DATE</th><th scope=col>gas_price</th></tr>\n",
       "\t<tr><th scope=col>&lt;date&gt;</th><th scope=col>&lt;dbl&gt;</th></tr>\n",
       "</thead>\n",
       "<tbody>\n",
       "\t<tr><td>1990-08-20</td><td>1.191</td></tr>\n",
       "\t<tr><td>1990-08-27</td><td>1.245</td></tr>\n",
       "\t<tr><td>1990-09-03</td><td>1.242</td></tr>\n",
       "\t<tr><td>1990-09-10</td><td>1.252</td></tr>\n",
       "\t<tr><td>1990-09-17</td><td>1.266</td></tr>\n",
       "\t<tr><td>1990-09-24</td><td>1.272</td></tr>\n",
       "</tbody>\n",
       "</table>\n"
      ],
      "text/latex": [
       "A tbl\\_ts: 6 × 2\n",
       "\\begin{tabular}{ll}\n",
       " DATE & gas\\_price\\\\\n",
       " <date> & <dbl>\\\\\n",
       "\\hline\n",
       "\t 1990-08-20 & 1.191\\\\\n",
       "\t 1990-08-27 & 1.245\\\\\n",
       "\t 1990-09-03 & 1.242\\\\\n",
       "\t 1990-09-10 & 1.252\\\\\n",
       "\t 1990-09-17 & 1.266\\\\\n",
       "\t 1990-09-24 & 1.272\\\\\n",
       "\\end{tabular}\n"
      ],
      "text/markdown": [
       "\n",
       "A tbl_ts: 6 × 2\n",
       "\n",
       "| DATE &lt;date&gt; | gas_price &lt;dbl&gt; |\n",
       "|---|---|\n",
       "| 1990-08-20 | 1.191 |\n",
       "| 1990-08-27 | 1.245 |\n",
       "| 1990-09-03 | 1.242 |\n",
       "| 1990-09-10 | 1.252 |\n",
       "| 1990-09-17 | 1.266 |\n",
       "| 1990-09-24 | 1.272 |\n",
       "\n"
      ],
      "text/plain": [
       "  DATE       gas_price\n",
       "1 1990-08-20 1.191    \n",
       "2 1990-08-27 1.245    \n",
       "3 1990-09-03 1.242    \n",
       "4 1990-09-10 1.252    \n",
       "5 1990-09-17 1.266    \n",
       "6 1990-09-24 1.272    "
      ]
     },
     "metadata": {},
     "output_type": "display_data"
    }
   ],
   "source": [
    "gas %>% head()"
   ]
  },
  {
   "cell_type": "code",
   "execution_count": 37,
   "metadata": {
    "vscode": {
     "languageId": "r"
    }
   },
   "outputs": [
    {
     "data": {
      "image/png": "[encoded data removed]",
      "text/plain": [
       "plot without title"
      ]
     },
     "metadata": {
      "image/png": {
       "height": 420,
       "width": 420
      }
     },
     "output_type": "display_data"
    }
   ],
   "source": [
    "gas %>% autoplot(gas_price) + labs(title='All Formulations Gas Price', y='Price per Gallon')"
   ]
  },
  {
   "cell_type": "markdown",
   "metadata": {},
   "source": [
    "$Real_t = Nominal_t * Index_t / Index_0$"
   ]
  },
  {
   "cell_type": "code",
   "execution_count": 38,
   "metadata": {
    "vscode": {
     "languageId": "r"
    }
   },
   "outputs": [],
   "source": [
    "cpi_m <- cpi %>% as_tsibble(index=mdt) %>% select(-DATE)"
   ]
  },
  {
   "cell_type": "code",
   "execution_count": 39,
   "metadata": {
    "vscode": {
     "languageId": "r"
    }
   },
   "outputs": [
    {
     "name": "stderr",
     "output_type": "stream",
     "text": [
      "Warning message:\n",
      "\"Current temporal ordering may yield unexpected results.\n",
      "\u001b[34mℹ\u001b[39m Suggest to sort by ``, `DATE` first.\"\n",
      "Warning message:\n",
      "\"Current temporal ordering may yield unexpected results.\n",
      "\u001b[34mℹ\u001b[39m Suggest to sort by ``, `DATE` first.\"\n",
      "\u001b[1m\u001b[22mJoining with `by = join_by(mdt)`\n"
     ]
    }
   ],
   "source": [
    "monthly_gas <- gas %>%\n",
    "    mutate(mdt = floor_date(DATE, 'month')) %>%\n",
    "    arrange(mdt, desc(DATE)) %>%\n",
    "    group_by(mdt) %>%\n",
    "    filter(row_number()==1) %>%\n",
    "    ungroup() %>%\n",
    "    arrange(mdt) %>% as_tsibble(index=mdt) %>%\n",
    "    select(-DATE) %>%\n",
    "    left_join(cpi_m) %>%\n",
    "    rename(cpi = CPIAUCSL) %>%\n",
    "    filter(!is.na(gas_price),!is.na(cpi)) %>%\n",
    "    mutate(first_cpi = first(cpi)) %>%\n",
    "    mutate(real_price = gas_price / cpi * first_cpi)"
   ]
  },
  {
   "cell_type": "code",
   "execution_count": 40,
   "metadata": {
    "vscode": {
     "languageId": "r"
    }
   },
   "outputs": [
    {
     "data": {
      "text/html": [
       "<table class=\"dataframe\">\n",
       "<caption>A tbl_ts: 6 × 5</caption>\n",
       "<thead>\n",
       "\t<tr><th scope=col>gas_price</th><th scope=col>mdt</th><th scope=col>cpi</th><th scope=col>first_cpi</th><th scope=col>real_price</th></tr>\n",
       "\t<tr><th scope=col>&lt;dbl&gt;</th><th scope=col>&lt;date&gt;</th><th scope=col>&lt;dbl&gt;</th><th scope=col>&lt;dbl&gt;</th><th scope=col>&lt;dbl&gt;</th></tr>\n",
       "</thead>\n",
       "<tbody>\n",
       "\t<tr><td>1.245</td><td>1990-08-01</td><td>131.6</td><td>131.6</td><td>1.245000</td></tr>\n",
       "\t<tr><td>1.272</td><td>1990-09-01</td><td>132.5</td><td>131.6</td><td>1.263360</td></tr>\n",
       "\t<tr><td>1.339</td><td>1990-10-01</td><td>133.4</td><td>131.6</td><td>1.320933</td></tr>\n",
       "\t<tr><td>1.311</td><td>1990-11-01</td><td>133.7</td><td>131.6</td><td>1.290408</td></tr>\n",
       "\t<tr><td>1.341</td><td>1990-12-01</td><td>134.2</td><td>131.6</td><td>1.315019</td></tr>\n",
       "\t<tr><td>1.168</td><td>1991-01-01</td><td>134.7</td><td>131.6</td><td>1.141120</td></tr>\n",
       "</tbody>\n",
       "</table>\n"
      ],
      "text/latex": [
       "A tbl\\_ts: 6 × 5\n",
       "\\begin{tabular}{lllll}\n",
       " gas\\_price & mdt & cpi & first\\_cpi & real\\_price\\\\\n",
       " <dbl> & <date> & <dbl> & <dbl> & <dbl>\\\\\n",
       "\\hline\n",
       "\t 1.245 & 1990-08-01 & 131.6 & 131.6 & 1.245000\\\\\n",
       "\t 1.272 & 1990-09-01 & 132.5 & 131.6 & 1.263360\\\\\n",
       "\t 1.339 & 1990-10-01 & 133.4 & 131.6 & 1.320933\\\\\n",
       "\t 1.311 & 1990-11-01 & 133.7 & 131.6 & 1.290408\\\\\n",
       "\t 1.341 & 1990-12-01 & 134.2 & 131.6 & 1.315019\\\\\n",
       "\t 1.168 & 1991-01-01 & 134.7 & 131.6 & 1.141120\\\\\n",
       "\\end{tabular}\n"
      ],
      "text/markdown": [
       "\n",
       "A tbl_ts: 6 × 5\n",
       "\n",
       "| gas_price &lt;dbl&gt; | mdt &lt;date&gt; | cpi &lt;dbl&gt; | first_cpi &lt;dbl&gt; | real_price &lt;dbl&gt; |\n",
       "|---|---|---|---|---|\n",
       "| 1.245 | 1990-08-01 | 131.6 | 131.6 | 1.245000 |\n",
       "| 1.272 | 1990-09-01 | 132.5 | 131.6 | 1.263360 |\n",
       "| 1.339 | 1990-10-01 | 133.4 | 131.6 | 1.320933 |\n",
       "| 1.311 | 1990-11-01 | 133.7 | 131.6 | 1.290408 |\n",
       "| 1.341 | 1990-12-01 | 134.2 | 131.6 | 1.315019 |\n",
       "| 1.168 | 1991-01-01 | 134.7 | 131.6 | 1.141120 |\n",
       "\n"
      ],
      "text/plain": [
       "  gas_price mdt        cpi   first_cpi real_price\n",
       "1 1.245     1990-08-01 131.6 131.6     1.245000  \n",
       "2 1.272     1990-09-01 132.5 131.6     1.263360  \n",
       "3 1.339     1990-10-01 133.4 131.6     1.320933  \n",
       "4 1.311     1990-11-01 133.7 131.6     1.290408  \n",
       "5 1.341     1990-12-01 134.2 131.6     1.315019  \n",
       "6 1.168     1991-01-01 134.7 131.6     1.141120  "
      ]
     },
     "metadata": {},
     "output_type": "display_data"
    }
   ],
   "source": [
    "monthly_gas %>% head()"
   ]
  },
  {
   "cell_type": "code",
   "execution_count": 41,
   "metadata": {
    "vscode": {
     "languageId": "r"
    }
   },
   "outputs": [
    {
     "data": {
      "image/png": "[encoded data removed]",
      "text/plain": [
       "plot without title"
      ]
     },
     "metadata": {
      "image/png": {
       "height": 420,
       "width": 420
      }
     },
     "output_type": "display_data"
    }
   ],
   "source": [
    "ggplot(monthly_gas) +\n",
    "geom_line(aes(x=mdt, y=gas_price),color='purple') +\n",
    "geom_line(aes(x=mdt, y=real_price),color='blue') +\n",
    "scale_y_continuous(sec.axis = sec_axis(~., name = 'Real Price, in 1990 Dollars')) +\n",
    "xlab('') +\n",
    "ylab('Nominal') + \n",
    "ggtitle('Nominal vs. Real Gas Prices') +\n",
    "theme(axis.text.y.left = element_text(colour = \"purple\"), \n",
    "    axis.title.y.left = element_text(colour=\"purple\"),\n",
    "    axis.text.y.right = element_text(colour = \"blue\"), \n",
    "    axis.title.y.right = element_text(colour=\"blue\") \n",
    ")"
   ]
  },
  {
   "cell_type": "markdown",
   "metadata": {},
   "source": [
    "## Mathematical Transformations and Box-Cox\n"
   ]
  },
  {
   "cell_type": "code",
   "execution_count": 42,
   "metadata": {
    "vscode": {
     "languageId": "r"
    }
   },
   "outputs": [],
   "source": [
    "suppressMessages(library(fpp3))"
   ]
  },
  {
   "cell_type": "code",
   "execution_count": 43,
   "metadata": {
    "vscode": {
     "languageId": "r"
    }
   },
   "outputs": [],
   "source": [
    "suppressMessages(library(gridExtra))"
   ]
  },
  {
   "cell_type": "markdown",
   "metadata": {},
   "source": [
    "Basic Mathematical"
   ]
  },
  {
   "cell_type": "code",
   "execution_count": 44,
   "metadata": {
    "vscode": {
     "languageId": "r"
    }
   },
   "outputs": [],
   "source": [
    "food <- aus_retail |>\n",
    "filter(Industry == \"Food retailing\") |>\n",
    "summarise(Turnover = sum(Turnover))"
   ]
  },
  {
   "cell_type": "code",
   "execution_count": 45,
   "metadata": {
    "vscode": {
     "languageId": "r"
    }
   },
   "outputs": [
    {
     "data": {
      "text/html": [
       "<table class=\"dataframe\">\n",
       "<caption>A tbl_ts: 6 × 2</caption>\n",
       "<thead>\n",
       "\t<tr><th scope=col>Month</th><th scope=col>Turnover</th></tr>\n",
       "\t<tr><th scope=col>&lt;mth&gt;</th><th scope=col>&lt;dbl&gt;</th></tr>\n",
       "</thead>\n",
       "<tbody>\n",
       "\t<tr><td>1982 Apr</td><td>1147.4</td></tr>\n",
       "\t<tr><td>1982 May</td><td>1135.2</td></tr>\n",
       "\t<tr><td>1982 Jun</td><td>1143.8</td></tr>\n",
       "\t<tr><td>1982 Jul</td><td>1189.0</td></tr>\n",
       "\t<tr><td>1982 Aug</td><td>1136.2</td></tr>\n",
       "\t<tr><td>1982 Sep</td><td>1172.2</td></tr>\n",
       "</tbody>\n",
       "</table>\n"
      ],
      "text/latex": [
       "A tbl\\_ts: 6 × 2\n",
       "\\begin{tabular}{ll}\n",
       " Month & Turnover\\\\\n",
       " <mth> & <dbl>\\\\\n",
       "\\hline\n",
       "\t 1982 Apr & 1147.4\\\\\n",
       "\t 1982 May & 1135.2\\\\\n",
       "\t 1982 Jun & 1143.8\\\\\n",
       "\t 1982 Jul & 1189.0\\\\\n",
       "\t 1982 Aug & 1136.2\\\\\n",
       "\t 1982 Sep & 1172.2\\\\\n",
       "\\end{tabular}\n"
      ],
      "text/markdown": [
       "\n",
       "A tbl_ts: 6 × 2\n",
       "\n",
       "| Month &lt;mth&gt; | Turnover &lt;dbl&gt; |\n",
       "|---|---|\n",
       "| 1982 Apr | 1147.4 |\n",
       "| 1982 May | 1135.2 |\n",
       "| 1982 Jun | 1143.8 |\n",
       "| 1982 Jul | 1189.0 |\n",
       "| 1982 Aug | 1136.2 |\n",
       "| 1982 Sep | 1172.2 |\n",
       "\n"
      ],
      "text/plain": [
       "  Month    Turnover\n",
       "1 1982 Apr 1147.4  \n",
       "2 1982 May 1135.2  \n",
       "3 1982 Jun 1143.8  \n",
       "4 1982 Jul 1189.0  \n",
       "5 1982 Aug 1136.2  \n",
       "6 1982 Sep 1172.2  "
      ]
     },
     "metadata": {},
     "output_type": "display_data"
    }
   ],
   "source": [
    "food %>% head()"
   ]
  },
  {
   "cell_type": "code",
   "execution_count": 46,
   "metadata": {
    "vscode": {
     "languageId": "r"
    }
   },
   "outputs": [],
   "source": [
    "f1 <- food %>% autoplot(Turnover)"
   ]
  },
  {
   "cell_type": "code",
   "execution_count": 47,
   "metadata": {
    "vscode": {
     "languageId": "r"
    }
   },
   "outputs": [],
   "source": [
    "f2 <- food |> autoplot(sqrt(Turnover)) +\n",
    "labs(y = \"Square root turnover\")"
   ]
  },
  {
   "cell_type": "code",
   "execution_count": 48,
   "metadata": {
    "vscode": {
     "languageId": "r"
    }
   },
   "outputs": [],
   "source": [
    "f3 <- food |> mutate(Turnover3c = Turnover^(1/3)) |> autoplot(Turnover3c) +\n",
    "labs(y = \"Cube root turnover\")"
   ]
  },
  {
   "cell_type": "code",
   "execution_count": 49,
   "metadata": {
    "vscode": {
     "languageId": "r"
    }
   },
   "outputs": [],
   "source": [
    "f4 <- food |> autoplot(log(Turnover)) +\n",
    "labs(y = \"Log turnover\")"
   ]
  },
  {
   "cell_type": "code",
   "execution_count": 50,
   "metadata": {
    "vscode": {
     "languageId": "r"
    }
   },
   "outputs": [],
   "source": [
    "g <- arrangeGrob(f1, f2, f3, f4, ncol=2)"
   ]
  },
  {
   "cell_type": "code",
   "execution_count": 51,
   "metadata": {
    "vscode": {
     "languageId": "r"
    }
   },
   "outputs": [
    {
     "data": {
      "image/png": "[encoded data removed]",
      "text/plain": [
       "plot without title"
      ]
     },
     "metadata": {
      "image/png": {
       "height": 420,
       "width": 420
      }
     },
     "output_type": "display_data"
    }
   ],
   "source": [
    "g %>% plot()"
   ]
  },
  {
   "cell_type": "markdown",
   "metadata": {},
   "source": [
    "Box-Cox"
   ]
  },
  {
   "cell_type": "code",
   "execution_count": 52,
   "metadata": {
    "vscode": {
     "languageId": "r"
    }
   },
   "outputs": [],
   "source": [
    "b1 <- food %>% autoplot(Turnover) + ggtitle('Base Series') + labs(y='Turnover')"
   ]
  },
  {
   "cell_type": "code",
   "execution_count": 53,
   "metadata": {
    "vscode": {
     "languageId": "r"
    }
   },
   "outputs": [],
   "source": [
    "b2 <- food |> autoplot(box_cox(Turnover, 0)) + ggtitle('Lambda = 0') +\n",
    "labs(y = \"Turnover\")"
   ]
  },
  {
   "cell_type": "code",
   "execution_count": 54,
   "metadata": {
    "vscode": {
     "languageId": "r"
    }
   },
   "outputs": [],
   "source": [
    "b3 <- food |> autoplot(box_cox(Turnover, 0.5)) + ggtitle('Lambda = 0.5') +\n",
    "labs(y = \"Turnover\")"
   ]
  },
  {
   "cell_type": "code",
   "execution_count": 55,
   "metadata": {
    "vscode": {
     "languageId": "r"
    }
   },
   "outputs": [],
   "source": [
    "b4 <- food |> autoplot(box_cox(Turnover, 0.9)) + ggtitle('Lambda = 0.9') +\n",
    "labs(y = \"Turnover\")"
   ]
  },
  {
   "cell_type": "code",
   "execution_count": 56,
   "metadata": {
    "vscode": {
     "languageId": "r"
    }
   },
   "outputs": [],
   "source": [
    "gf <- arrangeGrob(b1, b2, b3, b4, ncol=2)"
   ]
  },
  {
   "cell_type": "code",
   "execution_count": 57,
   "metadata": {
    "vscode": {
     "languageId": "r"
    }
   },
   "outputs": [
    {
     "data": {
      "image/png": "[encoded data removed]",
      "text/plain": [
       "plot without title"
      ]
     },
     "metadata": {
      "image/png": {
       "height": 420,
       "width": 420
      }
     },
     "output_type": "display_data"
    }
   ],
   "source": [
    "gf %>% plot()"
   ]
  },
  {
   "cell_type": "markdown",
   "metadata": {},
   "source": [
    "## Additive vs. Multiplicative"
   ]
  },
  {
   "cell_type": "code",
   "execution_count": 58,
   "metadata": {
    "vscode": {
     "languageId": "r"
    }
   },
   "outputs": [],
   "source": [
    "unrate <- read.csv('data/unratensa.csv')"
   ]
  },
  {
   "cell_type": "code",
   "execution_count": 59,
   "metadata": {
    "vscode": {
     "languageId": "r"
    }
   },
   "outputs": [
    {
     "data": {
      "text/html": [
       "<table class=\"dataframe\">\n",
       "<caption>A tbl_ts: 6 × 2</caption>\n",
       "<thead>\n",
       "\t<tr><th scope=col>DATE</th><th scope=col>UNRATENSA</th></tr>\n",
       "\t<tr><th scope=col>&lt;date&gt;</th><th scope=col>&lt;dbl&gt;</th></tr>\n",
       "</thead>\n",
       "<tbody>\n",
       "\t<tr><td>1948-01-01</td><td>4.0</td></tr>\n",
       "\t<tr><td>1948-02-01</td><td>4.7</td></tr>\n",
       "\t<tr><td>1948-03-01</td><td>4.5</td></tr>\n",
       "\t<tr><td>1948-04-01</td><td>4.0</td></tr>\n",
       "\t<tr><td>1948-05-01</td><td>3.4</td></tr>\n",
       "\t<tr><td>1948-06-01</td><td>3.9</td></tr>\n",
       "</tbody>\n",
       "</table>\n"
      ],
      "text/latex": [
       "A tbl\\_ts: 6 × 2\n",
       "\\begin{tabular}{ll}\n",
       " DATE & UNRATENSA\\\\\n",
       " <date> & <dbl>\\\\\n",
       "\\hline\n",
       "\t 1948-01-01 & 4.0\\\\\n",
       "\t 1948-02-01 & 4.7\\\\\n",
       "\t 1948-03-01 & 4.5\\\\\n",
       "\t 1948-04-01 & 4.0\\\\\n",
       "\t 1948-05-01 & 3.4\\\\\n",
       "\t 1948-06-01 & 3.9\\\\\n",
       "\\end{tabular}\n"
      ],
      "text/markdown": [
       "\n",
       "A tbl_ts: 6 × 2\n",
       "\n",
       "| DATE &lt;date&gt; | UNRATENSA &lt;dbl&gt; |\n",
       "|---|---|\n",
       "| 1948-01-01 | 4.0 |\n",
       "| 1948-02-01 | 4.7 |\n",
       "| 1948-03-01 | 4.5 |\n",
       "| 1948-04-01 | 4.0 |\n",
       "| 1948-05-01 | 3.4 |\n",
       "| 1948-06-01 | 3.9 |\n",
       "\n"
      ],
      "text/plain": [
       "  DATE       UNRATENSA\n",
       "1 1948-01-01 4.0      \n",
       "2 1948-02-01 4.7      \n",
       "3 1948-03-01 4.5      \n",
       "4 1948-04-01 4.0      \n",
       "5 1948-05-01 3.4      \n",
       "6 1948-06-01 3.9      "
      ]
     },
     "metadata": {},
     "output_type": "display_data"
    }
   ],
   "source": [
    "unrate <- unrate %>% mutate(DATE = as.Date(DATE)) %>% as_tsibble(index=DATE)\n",
    "unrate %>% head()"
   ]
  },
  {
   "cell_type": "code",
   "execution_count": 60,
   "metadata": {
    "vscode": {
     "languageId": "r"
    }
   },
   "outputs": [
    {
     "data": {
      "image/png": "[encoded data removed]",
      "text/plain": [
       "plot without title"
      ]
     },
     "metadata": {
      "image/png": {
       "height": 420,
       "width": 420
      }
     },
     "output_type": "display_data"
    }
   ],
   "source": [
    "unrate %>% autoplot(UNRATENSA) + ggtitle('Unemployment Rate') + ylab('Percent') +\n",
    "theme(plot.title = element_text(size=8))"
   ]
  },
  {
   "cell_type": "code",
   "execution_count": 61,
   "metadata": {
    "vscode": {
     "languageId": "r"
    }
   },
   "outputs": [
    {
     "data": {
      "image/png": "[encoded data removed]",
      "text/plain": [
       "plot without title"
      ]
     },
     "metadata": {
      "image/png": {
       "height": 420,
       "width": 420
      }
     },
     "output_type": "display_data"
    }
   ],
   "source": [
    "gdp %>% autoplot(GDPC1) + ylab('Billions of Dollars') + ggtitle('Real Gross Domestic Product, SAAR') +\n",
    "theme(plot.title = element_text(size=8))"
   ]
  },
  {
   "cell_type": "markdown",
   "metadata": {},
   "source": [
    "## Moving Averages"
   ]
  },
  {
   "cell_type": "code",
   "execution_count": 62,
   "metadata": {
    "vscode": {
     "languageId": "r"
    }
   },
   "outputs": [],
   "source": [
    "data(\"AirPassengers\")"
   ]
  },
  {
   "cell_type": "code",
   "execution_count": 63,
   "metadata": {
    "vscode": {
     "languageId": "r"
    }
   },
   "outputs": [],
   "source": [
    "ap <- AirPassengers %>% as_tsibble()"
   ]
  },
  {
   "cell_type": "code",
   "execution_count": 64,
   "metadata": {
    "vscode": {
     "languageId": "r"
    }
   },
   "outputs": [],
   "source": [
    "names(ap) <- c('Month', 'Passengers')"
   ]
  },
  {
   "cell_type": "code",
   "execution_count": 65,
   "metadata": {
    "vscode": {
     "languageId": "r"
    }
   },
   "outputs": [
    {
     "data": {
      "text/html": [
       "<table class=\"dataframe\">\n",
       "<caption>A tbl_ts: 6 × 2</caption>\n",
       "<thead>\n",
       "\t<tr><th scope=col>Month</th><th scope=col>Passengers</th></tr>\n",
       "\t<tr><th scope=col>&lt;mth&gt;</th><th scope=col>&lt;dbl&gt;</th></tr>\n",
       "</thead>\n",
       "<tbody>\n",
       "\t<tr><td>1949 Jan</td><td>112</td></tr>\n",
       "\t<tr><td>1949 Feb</td><td>118</td></tr>\n",
       "\t<tr><td>1949 Mar</td><td>132</td></tr>\n",
       "\t<tr><td>1949 Apr</td><td>129</td></tr>\n",
       "\t<tr><td>1949 May</td><td>121</td></tr>\n",
       "\t<tr><td>1949 Jun</td><td>135</td></tr>\n",
       "</tbody>\n",
       "</table>\n"
      ],
      "text/latex": [
       "A tbl\\_ts: 6 × 2\n",
       "\\begin{tabular}{ll}\n",
       " Month & Passengers\\\\\n",
       " <mth> & <dbl>\\\\\n",
       "\\hline\n",
       "\t 1949 Jan & 112\\\\\n",
       "\t 1949 Feb & 118\\\\\n",
       "\t 1949 Mar & 132\\\\\n",
       "\t 1949 Apr & 129\\\\\n",
       "\t 1949 May & 121\\\\\n",
       "\t 1949 Jun & 135\\\\\n",
       "\\end{tabular}\n"
      ],
      "text/markdown": [
       "\n",
       "A tbl_ts: 6 × 2\n",
       "\n",
       "| Month &lt;mth&gt; | Passengers &lt;dbl&gt; |\n",
       "|---|---|\n",
       "| 1949 Jan | 112 |\n",
       "| 1949 Feb | 118 |\n",
       "| 1949 Mar | 132 |\n",
       "| 1949 Apr | 129 |\n",
       "| 1949 May | 121 |\n",
       "| 1949 Jun | 135 |\n",
       "\n"
      ],
      "text/plain": [
       "  Month    Passengers\n",
       "1 1949 Jan 112       \n",
       "2 1949 Feb 118       \n",
       "3 1949 Mar 132       \n",
       "4 1949 Apr 129       \n",
       "5 1949 May 121       \n",
       "6 1949 Jun 135       "
      ]
     },
     "metadata": {},
     "output_type": "display_data"
    }
   ],
   "source": [
    "ap %>% head()"
   ]
  },
  {
   "cell_type": "code",
   "execution_count": 66,
   "metadata": {
    "vscode": {
     "languageId": "r"
    }
   },
   "outputs": [],
   "source": [
    "apma <- ap %>%\n",
    "    mutate(`5-MA` = slider::slide_dbl(Passengers, mean, .before=2, .after=2, .complete=TRUE)) %>%\n",
    "    mutate(`12-MA` = slider::slide_dbl(Passengers, mean, .before=6, .after=5, .complete=TRUE)) %>%\n",
    "    mutate(`25-MA` = slider::slide_dbl(Passengers, mean, .before=12, .after=12, .complete=TRUE))"
   ]
  },
  {
   "cell_type": "code",
   "execution_count": 67,
   "metadata": {
    "vscode": {
     "languageId": "r"
    }
   },
   "outputs": [
    {
     "data": {
      "image/png": "[encoded data removed]",
      "text/plain": [
       "plot without title"
      ]
     },
     "metadata": {
      "image/png": {
       "height": 420,
       "width": 420
      }
     },
     "output_type": "display_data"
    }
   ],
   "source": [
    "apma %>% autoplot(Passengers)"
   ]
  },
  {
   "cell_type": "code",
   "execution_count": 68,
   "metadata": {
    "vscode": {
     "languageId": "r"
    }
   },
   "outputs": [
    {
     "name": "stderr",
     "output_type": "stream",
     "text": [
      "Warning message:\n",
      "\"\u001b[1m\u001b[22mRemoved 4 rows containing missing values (`geom_line()`).\"\n",
      "Warning message:\n",
      "\"\u001b[1m\u001b[22mRemoved 11 rows containing missing values (`geom_line()`).\"\n"
     ]
    },
    {
     "data": {
      "image/png": "[encoded data removed]",
      "text/plain": [
       "plot without title"
      ]
     },
     "metadata": {
      "image/png": {
       "height": 420,
       "width": 420
      }
     },
     "output_type": "display_data"
    }
   ],
   "source": [
    "ggplot() +\n",
    "geom_line(data=apma, aes(x=Month, y=Passengers, colour = \"Passengers\")) +\n",
    "geom_line(data=apma, aes(x=Month, y=`5-MA`, colour = \"5-M Moving Average\")) +\n",
    "geom_line(data=apma, aes(x=Month, y=`12-MA`, colour = \"12-M Moving Average\")) +\n",
    "labs(y=\"Air Passengers\", title=\"Air Passengers\") +\n",
    "guides(colour = guide_legend(title='Series'))"
   ]
  },
  {
   "cell_type": "code",
   "execution_count": 69,
   "metadata": {
    "vscode": {
     "languageId": "r"
    }
   },
   "outputs": [],
   "source": [
    "f1 <- apma %>% autoplot(Passengers)"
   ]
  },
  {
   "cell_type": "code",
   "execution_count": 70,
   "metadata": {
    "vscode": {
     "languageId": "r"
    }
   },
   "outputs": [],
   "source": [
    "f2 <- apma %>% autoplot(`5-MA`)"
   ]
  },
  {
   "cell_type": "code",
   "execution_count": 71,
   "metadata": {
    "vscode": {
     "languageId": "r"
    }
   },
   "outputs": [],
   "source": [
    "f3 <- apma %>% autoplot(`12-MA`)"
   ]
  },
  {
   "cell_type": "code",
   "execution_count": 72,
   "metadata": {
    "vscode": {
     "languageId": "r"
    }
   },
   "outputs": [],
   "source": [
    "f4 <- apma %>% autoplot(`25-MA`)"
   ]
  },
  {
   "cell_type": "code",
   "execution_count": 73,
   "metadata": {
    "vscode": {
     "languageId": "r"
    }
   },
   "outputs": [
    {
     "name": "stderr",
     "output_type": "stream",
     "text": [
      "Warning message:\n",
      "\"\u001b[1m\u001b[22mRemoved 4 rows containing missing values (`geom_line()`).\"\n"
     ]
    },
    {
     "name": "stderr",
     "output_type": "stream",
     "text": [
      "Warning message:\n",
      "\"\u001b[1m\u001b[22mRemoved 11 rows containing missing values (`geom_line()`).\"\n",
      "Warning message:\n",
      "\"\u001b[1m\u001b[22mRemoved 24 rows containing missing values (`geom_line()`).\"\n"
     ]
    },
    {
     "data": {
      "image/png": "[encoded data removed]",
      "text/plain": [
       "plot without title"
      ]
     },
     "metadata": {
      "image/png": {
       "height": 420,
       "width": 420
      }
     },
     "output_type": "display_data"
    }
   ],
   "source": [
    "arrangeGrob(f1, f2, f3, f4, ncol=2) %>% plot()"
   ]
  },
  {
   "cell_type": "markdown",
   "metadata": {},
   "source": [
    "### Moving Average of Moving Averages"
   ]
  },
  {
   "cell_type": "code",
   "execution_count": 74,
   "metadata": {
    "vscode": {
     "languageId": "r"
    }
   },
   "outputs": [],
   "source": [
    "apma <- apma %>%\n",
    "    mutate(`2x12-MA` = slider::slide_dbl(`12-MA`, mean, .before=1, .after=0, .complete=TRUE))"
   ]
  },
  {
   "cell_type": "code",
   "execution_count": 75,
   "metadata": {
    "vscode": {
     "languageId": "r"
    }
   },
   "outputs": [
    {
     "name": "stderr",
     "output_type": "stream",
     "text": [
      "Warning message:\n",
      "\"\u001b[1m\u001b[22mRemoved 11 rows containing missing values (`geom_line()`).\"\n",
      "Warning message:\n",
      "\"\u001b[1m\u001b[22mRemoved 12 rows containing missing values (`geom_line()`).\"\n"
     ]
    },
    {
     "data": {
      "image/png": "[encoded data removed]",
      "text/plain": [
       "plot without title"
      ]
     },
     "metadata": {
      "image/png": {
       "height": 420,
       "width": 420
      }
     },
     "output_type": "display_data"
    }
   ],
   "source": [
    "ggplot() +\n",
    "geom_line(data=apma, aes(x=Month, y=Passengers, colour = \"Passengers\")) +\n",
    "geom_line(data=apma, aes(x=Month, y=`12-MA`, colour = \"12-M Moving Average\")) +\n",
    "geom_line(data=apma, aes(x=Month, y=`2x12-MA`, colour = \"2x12-M Moving Average\")) +\n",
    "labs(y=\"Air Passengers\", title=\"Air Passengers\") +\n",
    "guides(colour = guide_legend(title='Series'))"
   ]
  },
  {
   "cell_type": "code",
   "execution_count": 76,
   "metadata": {
    "vscode": {
     "languageId": "r"
    }
   },
   "outputs": [],
   "source": [
    "apma <- apma %>%\n",
    "    mutate(Chg = difference(log(Passengers))) %>%\n",
    "    mutate(`12-MA Chg` = slider::slide_dbl(Chg, mean, .before=6, .after=5, .complete=TRUE)) %>%\n",
    "    mutate(`2x12-MA Chg` = slider::slide_dbl(`12-MA Chg`, mean, .before=1, .after=0, .complete=TRUE))"
   ]
  },
  {
   "cell_type": "code",
   "execution_count": 77,
   "metadata": {
    "vscode": {
     "languageId": "r"
    }
   },
   "outputs": [
    {
     "name": "stderr",
     "output_type": "stream",
     "text": [
      "Warning message:\n",
      "\"\u001b[1m\u001b[22mRemoved 1 row containing missing values (`geom_line()`).\"\n",
      "Warning message:\n",
      "\"\u001b[1m\u001b[22mRemoved 12 rows containing missing values (`geom_line()`).\"\n",
      "Warning message:\n",
      "\"\u001b[1m\u001b[22mRemoved 13 rows containing missing values (`geom_line()`).\"\n"
     ]
    },
    {
     "data": {
      "image/png": "[encoded data removed]",
      "text/plain": [
       "plot without title"
      ]
     },
     "metadata": {
      "image/png": {
       "height": 420,
       "width": 420
      }
     },
     "output_type": "display_data"
    }
   ],
   "source": [
    "ggplot() +\n",
    "geom_line(data=apma, aes(x=Month, y=Chg, colour = \"Passengers\")) +\n",
    "geom_line(data=apma, aes(x=Month, y=`12-MA Chg`, colour = \"12-M Moving Average\")) +\n",
    "geom_line(data=apma, aes(x=Month, y=`2x12-MA Chg`, colour = \"2x12-M Moving Average\")) +\n",
    "labs(y=\"Change in Log Air Passengers\", title=\"Air Passengers\") +\n",
    "guides(colour = guide_legend(title='Series'))"
   ]
  },
  {
   "cell_type": "markdown",
   "metadata": {},
   "source": [
    "## Classical Decomposition"
   ]
  },
  {
   "cell_type": "code",
   "execution_count": 78,
   "metadata": {
    "vscode": {
     "languageId": "r"
    }
   },
   "outputs": [],
   "source": [
    "ap_cl <- ap %>% model(stl = classical_decomposition(Passengers, type='multiplicative'))"
   ]
  },
  {
   "cell_type": "code",
   "execution_count": 79,
   "metadata": {
    "vscode": {
     "languageId": "r"
    }
   },
   "outputs": [
    {
     "name": "stderr",
     "output_type": "stream",
     "text": [
      "Warning message:\n",
      "\"\u001b[1m\u001b[22mRemoved 6 rows containing missing values (`geom_line()`).\"\n"
     ]
    },
    {
     "data": {
      "image/png": "[encoded data removed]",
      "text/plain": [
       "plot without title"
      ]
     },
     "metadata": {
      "image/png": {
       "height": 420,
       "width": 420
      }
     },
     "output_type": "display_data"
    }
   ],
   "source": [
    "components(ap_cl) |> autoplot() + ggtitle('Classical Decomposition on Passengers')"
   ]
  },
  {
   "cell_type": "code",
   "execution_count": 80,
   "metadata": {
    "vscode": {
     "languageId": "r"
    }
   },
   "outputs": [],
   "source": [
    "ap_cl <- ap %>% model(stl = classical_decomposition(log(Passengers), type='additive'))"
   ]
  },
  {
   "cell_type": "code",
   "execution_count": 81,
   "metadata": {
    "vscode": {
     "languageId": "r"
    }
   },
   "outputs": [
    {
     "name": "stderr",
     "output_type": "stream",
     "text": [
      "Warning message:\n",
      "\"\u001b[1m\u001b[22mRemoved 6 rows containing missing values (`geom_line()`).\"\n"
     ]
    },
    {
     "data": {
      "image/png": "[encoded data removed]",
      "text/plain": [
       "plot without title"
      ]
     },
     "metadata": {
      "image/png": {
       "height": 420,
       "width": 420
      }
     },
     "output_type": "display_data"
    }
   ],
   "source": [
    "components(ap_cl) |> autoplot() + ggtitle('Classical Decomposition on Log Passengers')"
   ]
  },
  {
   "cell_type": "code",
   "execution_count": 82,
   "metadata": {
    "vscode": {
     "languageId": "r"
    }
   },
   "outputs": [],
   "source": [
    "lap_cl <- ap %>% mutate(logchg = difference(log(Passengers))) %>% model(stl = classical_decomposition(logchg))"
   ]
  },
  {
   "cell_type": "code",
   "execution_count": 83,
   "metadata": {
    "vscode": {
     "languageId": "r"
    }
   },
   "outputs": [
    {
     "name": "stderr",
     "output_type": "stream",
     "text": [
      "Warning message:\n",
      "\"\u001b[1m\u001b[22mRemoved 7 rows containing missing values (`geom_line()`).\"\n"
     ]
    },
    {
     "data": {
      "image/png": "[encoded data removed]",
      "text/plain": [
       "plot without title"
      ]
     },
     "metadata": {
      "image/png": {
       "height": 420,
       "width": 420
      }
     },
     "output_type": "display_data"
    }
   ],
   "source": [
    "components(lap_cl) |> autoplot(logchg) + ggtitle('Classical Decomposition on Differenced Log Passengers')"
   ]
  },
  {
   "cell_type": "markdown",
   "metadata": {},
   "source": [
    "## STL"
   ]
  },
  {
   "cell_type": "code",
   "execution_count": 84,
   "metadata": {
    "vscode": {
     "languageId": "r"
    }
   },
   "outputs": [],
   "source": [
    "ap_dc <- ap %>% model(stl = STL(Passengers))"
   ]
  },
  {
   "cell_type": "code",
   "execution_count": 85,
   "metadata": {
    "vscode": {
     "languageId": "r"
    }
   },
   "outputs": [
    {
     "data": {
      "text/html": [
       "<table class=\"dataframe\">\n",
       "<caption>A mdl_df: 1 × 1</caption>\n",
       "<thead>\n",
       "\t<tr><th scope=col>stl</th></tr>\n",
       "\t<tr><th scope=col>&lt;model&gt;</th></tr>\n",
       "</thead>\n",
       "<tbody>\n",
       "\t<tr><td>&lt;STL&gt;</td></tr>\n",
       "</tbody>\n",
       "</table>\n"
      ],
      "text/latex": [
       "A mdl\\_df: 1 × 1\n",
       "\\begin{tabular}{l}\n",
       " stl\\\\\n",
       " <model>\\\\\n",
       "\\hline\n",
       "\t <STL>\\\\\n",
       "\\end{tabular}\n"
      ],
      "text/markdown": [
       "\n",
       "A mdl_df: 1 × 1\n",
       "\n",
       "| stl &lt;model&gt; |\n",
       "|---|\n",
       "| &lt;STL&gt; |\n",
       "\n"
      ],
      "text/plain": [
       "  stl  \n",
       "1 <STL>"
      ]
     },
     "metadata": {},
     "output_type": "display_data"
    }
   ],
   "source": [
    "ap_dc"
   ]
  },
  {
   "cell_type": "code",
   "execution_count": 86,
   "metadata": {
    "vscode": {
     "languageId": "r"
    }
   },
   "outputs": [
    {
     "data": {
      "image/png": "[encoded data removed]",
      "text/plain": [
       "plot without title"
      ]
     },
     "metadata": {
      "image/png": {
       "height": 420,
       "width": 420
      }
     },
     "output_type": "display_data"
    }
   ],
   "source": [
    "components(ap_dc) |> autoplot() + ggtitle('STL on Passengers')"
   ]
  },
  {
   "cell_type": "code",
   "execution_count": 87,
   "metadata": {
    "vscode": {
     "languageId": "r"
    }
   },
   "outputs": [],
   "source": [
    "logap_dc <- ap %>% model(stl = STL(log(Passengers)))"
   ]
  },
  {
   "cell_type": "code",
   "execution_count": 88,
   "metadata": {
    "vscode": {
     "languageId": "r"
    }
   },
   "outputs": [
    {
     "data": {
      "image/png": "[encoded data removed]",
      "text/plain": [
       "plot without title"
      ]
     },
     "metadata": {
      "image/png": {
       "height": 420,
       "width": 420
      }
     },
     "output_type": "display_data"
    }
   ],
   "source": [
    "components(logap_dc) |> autoplot() + ggtitle('STL on Log(Passengers)')"
   ]
  },
  {
   "cell_type": "code",
   "execution_count": 89,
   "metadata": {
    "vscode": {
     "languageId": "r"
    }
   },
   "outputs": [],
   "source": [
    "ap_dc_comp <- components(ap_dc) |> as_tsibble()"
   ]
  },
  {
   "cell_type": "code",
   "execution_count": 90,
   "metadata": {
    "vscode": {
     "languageId": "r"
    }
   },
   "outputs": [],
   "source": [
    "log_dc_comp <- components(logap_dc) |> as_tsibble() %>% mutate(exp_seasadj = exp(season_adjust))"
   ]
  },
  {
   "cell_type": "code",
   "execution_count": 91,
   "metadata": {
    "vscode": {
     "languageId": "r"
    }
   },
   "outputs": [
    {
     "data": {
      "text/html": [
       "<table class=\"dataframe\">\n",
       "<caption>A tbl_ts: 6 × 8</caption>\n",
       "<thead>\n",
       "\t<tr><th scope=col>.model</th><th scope=col>Month</th><th scope=col>log(Passengers)</th><th scope=col>trend</th><th scope=col>season_year</th><th scope=col>remainder</th><th scope=col>season_adjust</th><th scope=col>exp_seasadj</th></tr>\n",
       "\t<tr><th scope=col>&lt;chr&gt;</th><th scope=col>&lt;mth&gt;</th><th scope=col>&lt;dbl&gt;</th><th scope=col>&lt;dbl&gt;</th><th scope=col>&lt;dbl&gt;</th><th scope=col>&lt;dbl&gt;</th><th scope=col>&lt;dbl&gt;</th><th scope=col>&lt;dbl&gt;</th></tr>\n",
       "</thead>\n",
       "<tbody>\n",
       "\t<tr><td>stl</td><td>1949 Jan</td><td>4.718499</td><td>4.815459</td><td>-0.090671174</td><td>-0.006289393</td><td>4.809170</td><td>122.6298</td></tr>\n",
       "\t<tr><td>stl</td><td>1949 Feb</td><td>4.770685</td><td>4.819288</td><td>-0.078777840</td><td> 0.030174492</td><td>4.849462</td><td>127.6717</td></tr>\n",
       "\t<tr><td>stl</td><td>1949 Mar</td><td>4.882802</td><td>4.823117</td><td> 0.051855657</td><td> 0.007829759</td><td>4.830946</td><td>125.3295</td></tr>\n",
       "\t<tr><td>stl</td><td>1949 Apr</td><td>4.859812</td><td>4.826945</td><td> 0.003540479</td><td> 0.029326884</td><td>4.856272</td><td>128.5441</td></tr>\n",
       "\t<tr><td>stl</td><td>1949 May</td><td>4.795791</td><td>4.831197</td><td>-0.017497174</td><td>-0.017909003</td><td>4.813288</td><td>123.1358</td></tr>\n",
       "\t<tr><td>stl</td><td>1949 Jun</td><td>4.905275</td><td>4.835448</td><td> 0.092283594</td><td>-0.022457218</td><td>4.812991</td><td>123.0993</td></tr>\n",
       "</tbody>\n",
       "</table>\n"
      ],
      "text/latex": [
       "A tbl\\_ts: 6 × 8\n",
       "\\begin{tabular}{llllllll}\n",
       " .model & Month & log(Passengers) & trend & season\\_year & remainder & season\\_adjust & exp\\_seasadj\\\\\n",
       " <chr> & <mth> & <dbl> & <dbl> & <dbl> & <dbl> & <dbl> & <dbl>\\\\\n",
       "\\hline\n",
       "\t stl & 1949 Jan & 4.718499 & 4.815459 & -0.090671174 & -0.006289393 & 4.809170 & 122.6298\\\\\n",
       "\t stl & 1949 Feb & 4.770685 & 4.819288 & -0.078777840 &  0.030174492 & 4.849462 & 127.6717\\\\\n",
       "\t stl & 1949 Mar & 4.882802 & 4.823117 &  0.051855657 &  0.007829759 & 4.830946 & 125.3295\\\\\n",
       "\t stl & 1949 Apr & 4.859812 & 4.826945 &  0.003540479 &  0.029326884 & 4.856272 & 128.5441\\\\\n",
       "\t stl & 1949 May & 4.795791 & 4.831197 & -0.017497174 & -0.017909003 & 4.813288 & 123.1358\\\\\n",
       "\t stl & 1949 Jun & 4.905275 & 4.835448 &  0.092283594 & -0.022457218 & 4.812991 & 123.0993\\\\\n",
       "\\end{tabular}\n"
      ],
      "text/markdown": [
       "\n",
       "A tbl_ts: 6 × 8\n",
       "\n",
       "| .model &lt;chr&gt; | Month &lt;mth&gt; | log(Passengers) &lt;dbl&gt; | trend &lt;dbl&gt; | season_year &lt;dbl&gt; | remainder &lt;dbl&gt; | season_adjust &lt;dbl&gt; | exp_seasadj &lt;dbl&gt; |\n",
       "|---|---|---|---|---|---|---|---|\n",
       "| stl | 1949 Jan | 4.718499 | 4.815459 | -0.090671174 | -0.006289393 | 4.809170 | 122.6298 |\n",
       "| stl | 1949 Feb | 4.770685 | 4.819288 | -0.078777840 |  0.030174492 | 4.849462 | 127.6717 |\n",
       "| stl | 1949 Mar | 4.882802 | 4.823117 |  0.051855657 |  0.007829759 | 4.830946 | 125.3295 |\n",
       "| stl | 1949 Apr | 4.859812 | 4.826945 |  0.003540479 |  0.029326884 | 4.856272 | 128.5441 |\n",
       "| stl | 1949 May | 4.795791 | 4.831197 | -0.017497174 | -0.017909003 | 4.813288 | 123.1358 |\n",
       "| stl | 1949 Jun | 4.905275 | 4.835448 |  0.092283594 | -0.022457218 | 4.812991 | 123.0993 |\n",
       "\n"
      ],
      "text/plain": [
       "  .model Month    log(Passengers) trend    season_year  remainder   \n",
       "1 stl    1949 Jan 4.718499        4.815459 -0.090671174 -0.006289393\n",
       "2 stl    1949 Feb 4.770685        4.819288 -0.078777840  0.030174492\n",
       "3 stl    1949 Mar 4.882802        4.823117  0.051855657  0.007829759\n",
       "4 stl    1949 Apr 4.859812        4.826945  0.003540479  0.029326884\n",
       "5 stl    1949 May 4.795791        4.831197 -0.017497174 -0.017909003\n",
       "6 stl    1949 Jun 4.905275        4.835448  0.092283594 -0.022457218\n",
       "  season_adjust exp_seasadj\n",
       "1 4.809170      122.6298   \n",
       "2 4.849462      127.6717   \n",
       "3 4.830946      125.3295   \n",
       "4 4.856272      128.5441   \n",
       "5 4.813288      123.1358   \n",
       "6 4.812991      123.0993   "
      ]
     },
     "metadata": {},
     "output_type": "display_data"
    }
   ],
   "source": [
    "log_dc_comp %>% head()"
   ]
  },
  {
   "cell_type": "code",
   "execution_count": 92,
   "metadata": {
    "vscode": {
     "languageId": "r"
    }
   },
   "outputs": [
    {
     "data": {
      "image/png": "[encoded data removed]",
      "text/plain": [
       "plot without title"
      ]
     },
     "metadata": {
      "image/png": {
       "height": 420,
       "width": 420
      }
     },
     "output_type": "display_data"
    }
   ],
   "source": [
    "ggplot() +\n",
    "    geom_line(data=ap, aes(x=Month, y=Passengers, colour = \"Raw Series\")) +\n",
    "    geom_line(data=ap_dc_comp, aes(x=Month, y=season_adjust, colour = \"Additive\")) +\n",
    "    geom_line(data=log_dc_comp, aes(x=Month, y=exp_seasadj, colour ='Log Additive')) +\n",
    "    guides(colour=guide_legend(title=\"\"))"
   ]
  },
  {
   "cell_type": "code",
   "execution_count": 93,
   "metadata": {
    "vscode": {
     "languageId": "r"
    }
   },
   "outputs": [
    {
     "data": {
      "image/png": "[encoded data removed]",
      "text/plain": [
       "plot without title"
      ]
     },
     "metadata": {
      "image/png": {
       "height": 420,
       "width": 420
      }
     },
     "output_type": "display_data"
    }
   ],
   "source": [
    "ap_dc_comp %>% ACF(diff(season_adjust), lag_max = 48) %>% autoplot()"
   ]
  },
  {
   "cell_type": "code",
   "execution_count": 94,
   "metadata": {
    "vscode": {
     "languageId": "r"
    }
   },
   "outputs": [
    {
     "data": {
      "image/png": "[encoded data removed]",
      "text/plain": [
       "plot without title"
      ]
     },
     "metadata": {
      "image/png": {
       "height": 420,
       "width": 420
      }
     },
     "output_type": "display_data"
    }
   ],
   "source": [
    "log_dc_comp %>% ACF(diff(exp_seasadj), lag_max=48) %>% autoplot()"
   ]
  },
  {
   "cell_type": "markdown",
   "metadata": {},
   "source": [
    "## Seasonal Adjustment - a Different Approach to Seasonality"
   ]
  },
  {
   "cell_type": "code",
   "execution_count": 95,
   "metadata": {
    "vscode": {
     "languageId": "r"
    }
   },
   "outputs": [],
   "source": [
    "suppressMessages(library(seasonal))"
   ]
  },
  {
   "cell_type": "code",
   "execution_count": 96,
   "metadata": {
    "vscode": {
     "languageId": "r"
    }
   },
   "outputs": [],
   "source": [
    "fit <- ap %>%\n",
    "  model(X_13ARIMA_SEATS(Passengers))"
   ]
  },
  {
   "cell_type": "code",
   "execution_count": 97,
   "metadata": {
    "vscode": {
     "languageId": "r"
    }
   },
   "outputs": [],
   "source": [
    "seasonal_comp <- components(fit)"
   ]
  },
  {
   "cell_type": "code",
   "execution_count": 98,
   "metadata": {
    "vscode": {
     "languageId": "r"
    }
   },
   "outputs": [],
   "source": [
    "seasonal_adj <- seasonal_comp %>% select(-`.model`)"
   ]
  },
  {
   "cell_type": "code",
   "execution_count": 99,
   "metadata": {
    "vscode": {
     "languageId": "r"
    }
   },
   "outputs": [],
   "source": [
    "linear_trend_model_sa <- seasonal_adj %>% model(TSLM(season_adjust ~ trend()))"
   ]
  },
  {
   "cell_type": "code",
   "execution_count": 100,
   "metadata": {
    "vscode": {
     "languageId": "r"
    }
   },
   "outputs": [
    {
     "name": "stdout",
     "output_type": "stream",
     "text": [
      "Series: season_adjust \n",
      "Model: TSLM \n",
      "\n",
      "Residuals:\n",
      "      Min        1Q    Median        3Q       Max \n",
      "-36.47425  -8.94744   0.00392   8.49079  31.56180 \n",
      "\n",
      "Coefficients:\n",
      "            Estimate Std. Error t value Pr(>|t|)    \n",
      "(Intercept) 88.50970    2.34508   37.74   <2e-16 ***\n",
      "trend()      2.64183    0.02806   94.15   <2e-16 ***\n",
      "---\n",
      "Signif. codes:  0 '***' 0.001 '**' 0.01 '*' 0.05 '.' 0.1 ' ' 1\n",
      "\n",
      "Residual standard error: 14 on 142 degrees of freedom\n",
      "Multiple R-squared: 0.9842,\tAdjusted R-squared: 0.9841\n",
      "F-statistic:  8864 on 1 and 142 DF, p-value: < 2.22e-16\n"
     ]
    }
   ],
   "source": [
    "report(linear_trend_model_sa)"
   ]
  },
  {
   "cell_type": "code",
   "execution_count": 101,
   "metadata": {
    "vscode": {
     "languageId": "r"
    }
   },
   "outputs": [
    {
     "data": {
      "image/png": "[encoded data removed]",
      "text/plain": [
       "plot without title"
      ]
     },
     "metadata": {
      "image/png": {
       "height": 420,
       "width": 420
      }
     },
     "output_type": "display_data"
    }
   ],
   "source": [
    "linear_trend_model_sa %>% gg_tsresiduals()"
   ]
  },
  {
   "cell_type": "code",
   "execution_count": 102,
   "metadata": {
    "vscode": {
     "languageId": "r"
    }
   },
   "outputs": [],
   "source": [
    "sa_trend <- fitted(linear_trend_model_sa)$.fitted"
   ]
  },
  {
   "cell_type": "code",
   "execution_count": 103,
   "metadata": {
    "vscode": {
     "languageId": "r"
    }
   },
   "outputs": [
    {
     "data": {
      "image/png": "[encoded data removed]",
      "text/plain": [
       "plot without title"
      ]
     },
     "metadata": {
      "image/png": {
       "height": 420,
       "width": 420
      }
     },
     "output_type": "display_data"
    }
   ],
   "source": [
    "autoplot(ap, Passengers) + ggtitle('Air Passengers (Training Data 1949-1958)') +\n",
    "  autolayer(seasonal_adj, season_adjust, col='red') +\n",
    "  geom_line(aes(y=sa_trend), color='red', linetype='dashed')"
   ]
  },
  {
   "cell_type": "code",
   "execution_count": 104,
   "metadata": {
    "vscode": {
     "languageId": "r"
    }
   },
   "outputs": [
    {
     "data": {
      "image/png": "[encoded data removed]",
      "text/plain": [
       "plot without title"
      ]
     },
     "metadata": {
      "image/png": {
       "height": 420,
       "width": 420
      }
     },
     "output_type": "display_data"
    }
   ],
   "source": [
    "ggplot() +\n",
    "    geom_line(data=seasonal_adj, aes(Month,season_adjust, colour='X13'))+\n",
    "    geom_line(data=ap_dc_comp, aes(x=Month, y=season_adjust, colour = \"Additive\")) +\n",
    "    geom_line(data=log_dc_comp, aes(x=Month, y=exp_seasadj, colour ='Log Additive')) +\n",
    "    ylab('Air Passengers') +\n",
    "    guides(colour=guide_legend(title=\"\")) +\n",
    "    ggtitle('Seasonal Adjustment Comparison')"
   ]
  },
  {
   "cell_type": "code",
   "execution_count": 105,
   "metadata": {
    "vscode": {
     "languageId": "r"
    }
   },
   "outputs": [
    {
     "data": {
      "image/png": "[encoded data removed]",
      "text/plain": [
       "plot without title"
      ]
     },
     "metadata": {
      "image/png": {
       "height": 420,
       "width": 420
      }
     },
     "output_type": "display_data"
    }
   ],
   "source": [
    "seasonal_adj %>% ACF(diff(season_adjust)) %>% autoplot()"
   ]
  },
  {
   "cell_type": "markdown",
   "metadata": {},
   "source": [
    "- Future seasonal adjustments usually published in-advance and reran periodically  \n",
    "- Show link to BLS (https://www.bls.gov/cpi/seasonal-adjustment/home.htm)"
   ]
  },
  {
   "cell_type": "markdown",
   "metadata": {},
   "source": []
  }
 ],
 "metadata": {
  "kernelspec": {
   "display_name": "R",
   "language": "R",
   "name": "ir"
  },
  "language_info": {
   "codemirror_mode": "r",
   "file_extension": ".r",
   "mimetype": "text/x-r-source",
   "name": "R",
   "pygments_lexer": "r",
   "version": "4.3.1"
  }
 },
 "nbformat": 4,
 "nbformat_minor": 2
}
