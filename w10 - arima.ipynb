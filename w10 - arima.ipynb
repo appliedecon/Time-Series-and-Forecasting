{
 "cells": [
  {
   "cell_type": "markdown",
   "metadata": {},
   "source": [
    "# ARIMA"
   ]
  },
  {
   "cell_type": "code",
   "execution_count": 1,
   "metadata": {
    "vscode": {
     "languageId": "r"
    }
   },
   "outputs": [
    {
     "name": "stderr",
     "output_type": "stream",
     "text": [
      "Warning message:\n",
      "\"package 'ggplot2' was built under R version 4.3.2\"\n"
     ]
    }
   ],
   "source": [
    "suppressMessages(library(tidyverse))\n",
    "suppressMessages(library(tsibble))\n",
    "suppressMessages(library(fable))\n",
    "suppressMessages(library(tsibble))\n",
    "suppressMessages(library(fabletools))\n",
    "suppressMessages(library(feasts))\n",
    "suppressMessages(library(lubridate))\n",
    "suppressMessages(library(scales))\n",
    "suppressMessages(library(fpp3))\n",
    "suppressMessages(library(gridExtra))"
   ]
  },
  {
   "cell_type": "markdown",
   "metadata": {},
   "source": [
    "## Stationary"
   ]
  },
  {
   "cell_type": "markdown",
   "metadata": {},
   "source": [
    "### Google Price Level"
   ]
  },
  {
   "cell_type": "code",
   "execution_count": null,
   "metadata": {
    "vscode": {
     "languageId": "r"
    }
   },
   "outputs": [],
   "source": [
    "goog <- gafa_stock %>% filter(Symbol == 'GOOG') %>% filter(Date >= as.Date('2018-01-01'))\n",
    "\n",
    "goog %>% autoplot(Close) + labs(x='', y='', title='Google Stock Price ($)')"
   ]
  },
  {
   "cell_type": "code",
   "execution_count": null,
   "metadata": {
    "vscode": {
     "languageId": "r"
    }
   },
   "outputs": [],
   "source": [
    "goog %>% gg_tsdisplay(Close)"
   ]
  },
  {
   "cell_type": "code",
   "execution_count": null,
   "metadata": {
    "vscode": {
     "languageId": "r"
    }
   },
   "outputs": [],
   "source": [
    "goog %>% features(Close, ljung_box, lag=10)"
   ]
  },
  {
   "cell_type": "code",
   "execution_count": null,
   "metadata": {
    "vscode": {
     "languageId": "r"
    }
   },
   "outputs": [],
   "source": [
    "goog %>% features(Close, ljung_box, lag=10)"
   ]
  },
  {
   "cell_type": "markdown",
   "metadata": {},
   "source": [
    "### Change or Difference in Google's Price"
   ]
  },
  {
   "cell_type": "code",
   "execution_count": null,
   "metadata": {
    "vscode": {
     "languageId": "r"
    }
   },
   "outputs": [],
   "source": [
    "goog %>% autoplot(difference(Close))+ labs(x='', y='', title='Change in Google Stock Price ($)')"
   ]
  },
  {
   "cell_type": "code",
   "execution_count": null,
   "metadata": {
    "vscode": {
     "languageId": "r"
    }
   },
   "outputs": [],
   "source": [
    "goog %>% gg_tsdisplay(difference(Close))"
   ]
  },
  {
   "cell_type": "code",
   "execution_count": null,
   "metadata": {
    "vscode": {
     "languageId": "r"
    }
   },
   "outputs": [],
   "source": [
    "goog %>% features(difference(Close), ljung_box, lag=10)"
   ]
  },
  {
   "cell_type": "markdown",
   "metadata": {},
   "source": [
    "### Differenced-Log in Google's Stock Price"
   ]
  },
  {
   "cell_type": "code",
   "execution_count": null,
   "metadata": {
    "vscode": {
     "languageId": "r"
    }
   },
   "outputs": [],
   "source": [
    "goog %>% gg_tsdisplay(difference(log(Close)))"
   ]
  },
  {
   "cell_type": "code",
   "execution_count": null,
   "metadata": {
    "vscode": {
     "languageId": "r"
    }
   },
   "outputs": [],
   "source": [
    "goog %>% features(difference(log(Close),differences=1), ljung_box, lags=10)"
   ]
  },
  {
   "cell_type": "markdown",
   "metadata": {},
   "source": [
    "## Seasonal Differencing"
   ]
  },
  {
   "cell_type": "code",
   "execution_count": null,
   "metadata": {
    "vscode": {
     "languageId": "r"
    }
   },
   "outputs": [],
   "source": [
    "drugs <- PBS |>\n",
    "  filter(ATC2 == \"H02\") |>\n",
    "  summarise(Cost = sum(Cost)/1e6) |>\n",
    "  transmute(\n",
    "    `Sales ($million)` = Cost,\n",
    "    `Log sales` = log(Cost),\n",
    "    `Annual change in log sales` = difference(log(Cost), 12),\n",
    "    `Doubly differenced log sales` =\n",
    "                     difference(difference(log(Cost), 12), 1)\n",
    "  ) |>\n",
    "  pivot_longer(-Month, names_to=\"Type\", values_to=\"Sales\") |>\n",
    "  mutate(\n",
    "    Type = factor(Type, levels = c(\n",
    "      \"Sales ($million)\",\n",
    "      \"Log sales\",\n",
    "      \"Annual change in log sales\",\n",
    "      \"Doubly differenced log sales\"))\n",
    "  )\n",
    "\n",
    "  drugs %>%\n",
    "  ggplot(aes(x = Month, y = Sales)) +\n",
    "  geom_line() +\n",
    "  facet_grid(vars(Type), scales = \"free_y\") +\n",
    "  labs(title = \"Corticosteroid drug sales\", y = NULL)"
   ]
  },
  {
   "cell_type": "code",
   "execution_count": null,
   "metadata": {
    "vscode": {
     "languageId": "r"
    }
   },
   "outputs": [],
   "source": [
    "drugs %>% filter(Type == \"Annual change in log sales\") %>% gg_tsdisplay()"
   ]
  },
  {
   "cell_type": "code",
   "execution_count": null,
   "metadata": {
    "vscode": {
     "languageId": "r"
    }
   },
   "outputs": [],
   "source": [
    "drugs %>% filter(Type == \"Annual change in log sales\") %>%\n",
    "features(Sales, ljung_box, lags=12)"
   ]
  },
  {
   "cell_type": "code",
   "execution_count": null,
   "metadata": {
    "vscode": {
     "languageId": "r"
    }
   },
   "outputs": [],
   "source": [
    "drugs %>% filter(Type == \"Doubly differenced log sales\") %>% gg_tsdisplay()"
   ]
  },
  {
   "cell_type": "code",
   "execution_count": null,
   "metadata": {
    "vscode": {
     "languageId": "r"
    }
   },
   "outputs": [],
   "source": [
    "drugs %>% filter(Type == \"Doubly differenced log sales\") %>%\n",
    "features(Sales, ljung_box, lags=12)"
   ]
  },
  {
   "cell_type": "markdown",
   "metadata": {},
   "source": [
    "## Unit Root Tests"
   ]
  },
  {
   "cell_type": "code",
   "execution_count": null,
   "metadata": {
    "vscode": {
     "languageId": "r"
    }
   },
   "outputs": [],
   "source": [
    "goog %>% features(Close, unitroot_kpss)"
   ]
  },
  {
   "cell_type": "code",
   "execution_count": null,
   "metadata": {
    "vscode": {
     "languageId": "r"
    }
   },
   "outputs": [],
   "source": [
    "goog %>% features(difference(Close), unitroot_kpss)"
   ]
  },
  {
   "cell_type": "code",
   "execution_count": null,
   "metadata": {
    "vscode": {
     "languageId": "r"
    }
   },
   "outputs": [],
   "source": [
    "goog %>% features(Close, unitroot_ndiffs)"
   ]
  },
  {
   "cell_type": "markdown",
   "metadata": {},
   "source": [
    "## ARMA Example"
   ]
  },
  {
   "cell_type": "code",
   "execution_count": null,
   "metadata": {
    "vscode": {
     "languageId": "r"
    }
   },
   "outputs": [],
   "source": [
    "usa <- global_economy %>% filter(Code == \"USA\")\n",
    "usa %>% gg_tsdisplay(CPI, plot_type = 'partial') + labs(title='US CPI')"
   ]
  },
  {
   "cell_type": "code",
   "execution_count": null,
   "metadata": {
    "vscode": {
     "languageId": "r"
    }
   },
   "outputs": [],
   "source": [
    "usa %>% model(ARIMA(CPI)) %>% report()"
   ]
  },
  {
   "cell_type": "markdown",
   "metadata": {},
   "source": [
    "## Modeling Processing Using CPI"
   ]
  },
  {
   "cell_type": "code",
   "execution_count": 2,
   "metadata": {
    "vscode": {
     "languageId": "r"
    }
   },
   "outputs": [
    {
     "data": {
      "text/html": [
       "<table class=\"dataframe\">\n",
       "<caption>A tbl_ts: 6 × 2</caption>\n",
       "<thead>\n",
       "\t<tr><th scope=col>DATE</th><th scope=col>Price Index</th></tr>\n",
       "\t<tr><th scope=col>&lt;mth&gt;</th><th scope=col>&lt;dbl&gt;</th></tr>\n",
       "</thead>\n",
       "<tbody>\n",
       "\t<tr><td>1947 Jan</td><td>21.48</td></tr>\n",
       "\t<tr><td>1947 Feb</td><td>21.62</td></tr>\n",
       "\t<tr><td>1947 Mar</td><td>22.00</td></tr>\n",
       "\t<tr><td>1947 Apr</td><td>22.00</td></tr>\n",
       "\t<tr><td>1947 May</td><td>21.95</td></tr>\n",
       "\t<tr><td>1947 Jun</td><td>22.08</td></tr>\n",
       "</tbody>\n",
       "</table>\n"
      ],
      "text/latex": [
       "A tbl\\_ts: 6 × 2\n",
       "\\begin{tabular}{ll}\n",
       " DATE & Price Index\\\\\n",
       " <mth> & <dbl>\\\\\n",
       "\\hline\n",
       "\t 1947 Jan & 21.48\\\\\n",
       "\t 1947 Feb & 21.62\\\\\n",
       "\t 1947 Mar & 22.00\\\\\n",
       "\t 1947 Apr & 22.00\\\\\n",
       "\t 1947 May & 21.95\\\\\n",
       "\t 1947 Jun & 22.08\\\\\n",
       "\\end{tabular}\n"
      ],
      "text/markdown": [
       "\n",
       "A tbl_ts: 6 × 2\n",
       "\n",
       "| DATE &lt;mth&gt; | Price Index &lt;dbl&gt; |\n",
       "|---|---|\n",
       "| 1947 Jan | 21.48 |\n",
       "| 1947 Feb | 21.62 |\n",
       "| 1947 Mar | 22.00 |\n",
       "| 1947 Apr | 22.00 |\n",
       "| 1947 May | 21.95 |\n",
       "| 1947 Jun | 22.08 |\n",
       "\n"
      ],
      "text/plain": [
       "  DATE     Price Index\n",
       "1 1947 Jan 21.48      \n",
       "2 1947 Feb 21.62      \n",
       "3 1947 Mar 22.00      \n",
       "4 1947 Apr 22.00      \n",
       "5 1947 May 21.95      \n",
       "6 1947 Jun 22.08      "
      ]
     },
     "metadata": {},
     "output_type": "display_data"
    }
   ],
   "source": [
    "cpi <- read.csv('data/CPIAUCSL.csv') %>%\n",
    "mutate(DATE = yearmonth(as.Date(DATE))) %>%\n",
    "as_tsibble(index=DATE) %>%\n",
    "rename(`Price Index` = CPIAUCSL)\n",
    "\n",
    "cpi %>% head()"
   ]
  },
  {
   "cell_type": "markdown",
   "metadata": {},
   "source": [
    "### Plot the data and observe"
   ]
  },
  {
   "cell_type": "code",
   "execution_count": 3,
   "metadata": {
    "vscode": {
     "languageId": "r"
    }
   },
   "outputs": [
    {
     "data": {
      "image/png": "[encoded data removed]",
      "text/plain": [
       "plot without title"
      ]
     },
     "metadata": {
      "image/png": {
       "height": 420,
       "width": 420
      }
     },
     "output_type": "display_data"
    }
   ],
   "source": [
    "cpi %>% autoplot(`Price Index`) + labs(title='US CPI')"
   ]
  },
  {
   "cell_type": "code",
   "execution_count": 4,
   "metadata": {
    "vscode": {
     "languageId": "r"
    }
   },
   "outputs": [
    {
     "name": "stderr",
     "output_type": "stream",
     "text": [
      "Warning message:\n",
      "\"\u001b[1m\u001b[22mRemoved 1 row containing missing values (`geom_line()`).\"\n"
     ]
    },
    {
     "data": {
      "image/png": "[encoded data removed]",
      "text/plain": [
       "plot without title"
      ]
     },
     "metadata": {
      "image/png": {
       "height": 420,
       "width": 420
      }
     },
     "output_type": "display_data"
    }
   ],
   "source": [
    "cpi %>% autoplot(difference(`Price Index`)) + labs(title='US CPI', y='Change in Index')"
   ]
  },
  {
   "cell_type": "markdown",
   "metadata": {},
   "source": [
    "### Need to remove the exponential trend, take the log of the time series"
   ]
  },
  {
   "cell_type": "code",
   "execution_count": 5,
   "metadata": {
    "vscode": {
     "languageId": "r"
    }
   },
   "outputs": [
    {
     "data": {
      "image/png": "[encoded data removed]",
      "text/plain": [
       "plot without title"
      ]
     },
     "metadata": {
      "image/png": {
       "height": 420,
       "width": 420
      }
     },
     "output_type": "display_data"
    }
   ],
   "source": [
    "cpi %>% autoplot(log(`Price Index`)) + labs(title='US CPI', y='Log Price Index')"
   ]
  },
  {
   "cell_type": "code",
   "execution_count": 6,
   "metadata": {
    "vscode": {
     "languageId": "r"
    }
   },
   "outputs": [
    {
     "name": "stderr",
     "output_type": "stream",
     "text": [
      "Warning message:\n",
      "\"\u001b[1m\u001b[22mRemoved 1 row containing missing values (`geom_line()`).\"\n"
     ]
    },
    {
     "data": {
      "image/png": "[encoded data removed]",
      "text/plain": [
       "plot without title"
      ]
     },
     "metadata": {
      "image/png": {
       "height": 420,
       "width": 420
      }
     },
     "output_type": "display_data"
    }
   ],
   "source": [
    "cpi %>% autoplot(difference(log(`Price Index`))) + labs(title='US CPI', y='Differenced Log Price Index')"
   ]
  },
  {
   "cell_type": "markdown",
   "metadata": {},
   "source": [
    "### Determine number of differences"
   ]
  },
  {
   "cell_type": "code",
   "execution_count": 7,
   "metadata": {
    "vscode": {
     "languageId": "r"
    }
   },
   "outputs": [
    {
     "data": {
      "text/html": [
       "<table class=\"dataframe\">\n",
       "<caption>A tibble: 1 × 1</caption>\n",
       "<thead>\n",
       "\t<tr><th scope=col>ndiffs</th></tr>\n",
       "\t<tr><th scope=col>&lt;int&gt;</th></tr>\n",
       "</thead>\n",
       "<tbody>\n",
       "\t<tr><td>2</td></tr>\n",
       "</tbody>\n",
       "</table>\n"
      ],
      "text/latex": [
       "A tibble: 1 × 1\n",
       "\\begin{tabular}{l}\n",
       " ndiffs\\\\\n",
       " <int>\\\\\n",
       "\\hline\n",
       "\t 2\\\\\n",
       "\\end{tabular}\n"
      ],
      "text/markdown": [
       "\n",
       "A tibble: 1 × 1\n",
       "\n",
       "| ndiffs &lt;int&gt; |\n",
       "|---|\n",
       "| 2 |\n",
       "\n"
      ],
      "text/plain": [
       "  ndiffs\n",
       "1 2     "
      ]
     },
     "metadata": {},
     "output_type": "display_data"
    }
   ],
   "source": [
    "cpi %>% features(log(`Price Index`), unitroot_ndiffs)"
   ]
  },
  {
   "cell_type": "code",
   "execution_count": 8,
   "metadata": {
    "vscode": {
     "languageId": "r"
    }
   },
   "outputs": [
    {
     "name": "stderr",
     "output_type": "stream",
     "text": [
      "Warning message:\n",
      "\"\u001b[1m\u001b[22mRemoved 2 rows containing missing values (`geom_line()`).\"\n"
     ]
    },
    {
     "data": {
      "image/png": "[encoded data removed]",
      "text/plain": [
       "plot without title"
      ]
     },
     "metadata": {
      "image/png": {
       "height": 420,
       "width": 420
      }
     },
     "output_type": "display_data"
    }
   ],
   "source": [
    "cpi %>% autoplot(difference(log(`Price Index`), differences=2)) + labs(title='US CPI', y='2nd Difference Log Price Index')"
   ]
  },
  {
   "cell_type": "markdown",
   "metadata": {},
   "source": [
    "### ACF and PACFs on Differenced Data to Determine p, q seed"
   ]
  },
  {
   "cell_type": "code",
   "execution_count": 9,
   "metadata": {
    "vscode": {
     "languageId": "r"
    }
   },
   "outputs": [
    {
     "name": "stderr",
     "output_type": "stream",
     "text": [
      "Warning message:\n",
      "\"\u001b[1m\u001b[22mRemoved 2 rows containing missing values (`geom_line()`).\"\n",
      "Warning message:\n",
      "\"\u001b[1m\u001b[22mRemoved 2 rows containing missing values (`geom_point()`).\"\n"
     ]
    },
    {
     "data": {
      "image/png": "[encoded data removed]",
      "text/plain": [
       "plot without title"
      ]
     },
     "metadata": {
      "image/png": {
       "height": 420,
       "width": 420
      }
     },
     "output_type": "display_data"
    }
   ],
   "source": [
    "cpi %>% gg_tsdisplay(difference(log(`Price Index`), differences=2), plot_type = 'partial') + labs(y='')"
   ]
  },
  {
   "cell_type": "markdown",
   "metadata": {},
   "source": [
    "### Model around a ARIMA(0,2,2) seed"
   ]
  },
  {
   "cell_type": "code",
   "execution_count": 10,
   "metadata": {
    "vscode": {
     "languageId": "r"
    }
   },
   "outputs": [
    {
     "name": "stderr",
     "output_type": "stream",
     "text": [
      "Warning message in sqrt(diag(best$var.coef)):\n",
      "\"NaNs produced\"\n"
     ]
    },
    {
     "name": "stdout",
     "output_type": "stream",
     "text": [
      "Series: Price Index \n",
      "Model: ARIMA(1,2,3) \n",
      "Transformation: log(`Price Index`) \n",
      "\n",
      "Coefficients:\n",
      "          ar1     ma1      ma2      ma3\n",
      "      -0.7265  0.1665  -0.6602  -0.1801\n",
      "s.e.      NaN     NaN      NaN   0.0179\n",
      "\n",
      "sigma^2 estimated as 7.373e-06:  log likelihood=4120.06\n",
      "AIC=-8230.12   AICc=-8230.05   BIC=-8206.01\n"
     ]
    }
   ],
   "source": [
    "cpi %>%\n",
    "model(ARIMA(log(`Price Index`) ~ pdq(0:1,1:2,1:3)+PDQ(0,0,0))) %>% report()"
   ]
  },
  {
   "cell_type": "code",
   "execution_count": 11,
   "metadata": {
    "vscode": {
     "languageId": "r"
    }
   },
   "outputs": [
    {
     "name": "stderr",
     "output_type": "stream",
     "text": [
      "Warning message in sqrt(diag(best$var.coef)):\n",
      "\"NaNs produced\"\n"
     ]
    },
    {
     "data": {
      "image/png": "[encoded data removed]",
      "text/plain": [
       "plot without title"
      ]
     },
     "metadata": {
      "image/png": {
       "height": 420,
       "width": 420
      }
     },
     "output_type": "display_data"
    }
   ],
   "source": [
    "cpi_arima <- cpi %>%\n",
    "model(ARIMA(log(`Price Index`) ~ 0 + pdq(0:1,1:2,1:3)+PDQ(0,0,0)))\n",
    "\n",
    "cpi_arima %>% gg_tsresiduals()"
   ]
  },
  {
   "cell_type": "code",
   "execution_count": 12,
   "metadata": {
    "vscode": {
     "languageId": "r"
    }
   },
   "outputs": [
    {
     "data": {
      "image/png": "[encoded data removed]",
      "text/plain": [
       "plot without title"
      ]
     },
     "metadata": {
      "image/png": {
       "height": 420,
       "width": 420
      }
     },
     "output_type": "display_data"
    }
   ],
   "source": [
    "gg_arma(cpi_arima)"
   ]
  },
  {
   "cell_type": "markdown",
   "metadata": {},
   "source": [
    "### Compare to Seasonal Model"
   ]
  },
  {
   "cell_type": "code",
   "execution_count": 13,
   "metadata": {
    "vscode": {
     "languageId": "r"
    }
   },
   "outputs": [
    {
     "name": "stderr",
     "output_type": "stream",
     "text": [
      "Warning message in sqrt(diag(best$var.coef)):\n",
      "\"NaNs produced\"\n",
      "Warning message in sqrt(diag(best$var.coef)):\n",
      "\"NaNs produced\"\n",
      "Warning message in report.mdl_df(.):\n",
      "\"Model reporting is only supported for individual models, so a glance will be shown. To see the report for a specific model, use `select()` and `filter()` to identify a single model.\"\n"
     ]
    },
    {
     "data": {
      "text/html": [
       "<table class=\"dataframe\">\n",
       "<caption>A tibble: 2 × 2</caption>\n",
       "<thead>\n",
       "\t<tr><th scope=col>.model</th><th scope=col>AICc</th></tr>\n",
       "\t<tr><th scope=col>&lt;chr&gt;</th><th scope=col>&lt;dbl&gt;</th></tr>\n",
       "</thead>\n",
       "<tbody>\n",
       "\t<tr><td>Non Seasonal ARIMA</td><td>-8230.051</td></tr>\n",
       "\t<tr><td>Seasonal ARIMA    </td><td>-8257.856</td></tr>\n",
       "</tbody>\n",
       "</table>\n"
      ],
      "text/latex": [
       "A tibble: 2 × 2\n",
       "\\begin{tabular}{ll}\n",
       " .model & AICc\\\\\n",
       " <chr> & <dbl>\\\\\n",
       "\\hline\n",
       "\t Non Seasonal ARIMA & -8230.051\\\\\n",
       "\t Seasonal ARIMA     & -8257.856\\\\\n",
       "\\end{tabular}\n"
      ],
      "text/markdown": [
       "\n",
       "A tibble: 2 × 2\n",
       "\n",
       "| .model &lt;chr&gt; | AICc &lt;dbl&gt; |\n",
       "|---|---|\n",
       "| Non Seasonal ARIMA | -8230.051 |\n",
       "| Seasonal ARIMA     | -8257.856 |\n",
       "\n"
      ],
      "text/plain": [
       "  .model             AICc     \n",
       "1 Non Seasonal ARIMA -8230.051\n",
       "2 Seasonal ARIMA     -8257.856"
      ]
     },
     "metadata": {},
     "output_type": "display_data"
    }
   ],
   "source": [
    "cpi_sarima <- cpi %>%\n",
    "model(\n",
    "    `Non Seasonal ARIMA` = ARIMA(log(`Price Index`) ~ 0+ pdq(1,2,3) + PDQ(0,0,0)),\n",
    "    `Seasonal ARIMA` = ARIMA(log(`Price Index`) ~ 0+ pdq(1,2,3)+PDQ(1,0,0))\n",
    ")\n",
    "\n",
    "cpi_sarima %>% report() %>% select(.model, AICc)"
   ]
  },
  {
   "cell_type": "code",
   "execution_count": 14,
   "metadata": {
    "vscode": {
     "languageId": "r"
    }
   },
   "outputs": [
    {
     "name": "stdout",
     "output_type": "stream",
     "text": [
      "Series: Price Index \n",
      "Model: ARIMA(1,2,3) \n",
      "Transformation: log(`Price Index`) \n",
      "\n",
      "Coefficients:\n",
      "          ar1     ma1      ma2      ma3\n",
      "      -0.7265  0.1665  -0.6602  -0.1801\n",
      "s.e.      NaN     NaN      NaN   0.0179\n",
      "\n",
      "sigma^2 estimated as 7.373e-06:  log likelihood=4120.06\n",
      "AIC=-8230.12   AICc=-8230.05   BIC=-8206.01\n"
     ]
    }
   ],
   "source": [
    "cpi_sarima %>% select(`Non Seasonal ARIMA`) %>% report()"
   ]
  },
  {
   "cell_type": "code",
   "execution_count": 15,
   "metadata": {
    "vscode": {
     "languageId": "r"
    }
   },
   "outputs": [
    {
     "name": "stdout",
     "output_type": "stream",
     "text": [
      "Series: Price Index \n",
      "Model: ARIMA(1,2,3)(1,0,0)[12] \n",
      "Transformation: log(`Price Index`) \n",
      "\n",
      "Coefficients:\n",
      "          ar1     ma1      ma2     ma3     sar1\n",
      "      -0.6655  0.1118  -0.6136  -0.162  -0.1893\n",
      "s.e.      NaN     NaN      NaN     NaN   0.0343\n",
      "\n",
      "sigma^2 estimated as 7.142e-06:  log likelihood=4134.97\n",
      "AIC=-8257.95   AICc=-8257.86   BIC=-8229.02\n"
     ]
    }
   ],
   "source": [
    "cpi_sarima %>% select(`Seasonal ARIMA`) %>% report()"
   ]
  },
  {
   "cell_type": "code",
   "execution_count": null,
   "metadata": {
    "vscode": {
     "languageId": "r"
    }
   },
   "outputs": [],
   "source": [
    "cpi_sarima %>% select(`Seasonal ARIMA`) %>% gg_tsresiduals()"
   ]
  },
  {
   "cell_type": "markdown",
   "metadata": {},
   "source": [
    "### Compare to Automate Modeling"
   ]
  },
  {
   "cell_type": "code",
   "execution_count": null,
   "metadata": {
    "vscode": {
     "languageId": "r"
    }
   },
   "outputs": [],
   "source": [
    "cpi_auto <- cpi %>%\n",
    "model(ARIMA(log(`Price Index`))) \n",
    "\n",
    "cpi_auto %>% report()"
   ]
  },
  {
   "cell_type": "code",
   "execution_count": null,
   "metadata": {
    "vscode": {
     "languageId": "r"
    }
   },
   "outputs": [],
   "source": [
    "cpi_auto %>% gg_tsresiduals()"
   ]
  },
  {
   "cell_type": "code",
   "execution_count": null,
   "metadata": {
    "vscode": {
     "languageId": "r"
    }
   },
   "outputs": [],
   "source": [
    "augment(cpi_auto) |> features(.innov, ljung_box, lag = 12, dof = 3)"
   ]
  },
  {
   "cell_type": "markdown",
   "metadata": {},
   "source": [
    "### Forecast Using the Best Model (the automatic selection)"
   ]
  },
  {
   "cell_type": "code",
   "execution_count": null,
   "metadata": {
    "vscode": {
     "languageId": "r"
    }
   },
   "outputs": [],
   "source": [
    "cpi_auto %>% forecast(h=48) %>% autoplot(cpi) + labs(title='US CPI Forecasts')"
   ]
  },
  {
   "cell_type": "markdown",
   "metadata": {},
   "source": [
    "### ARIMA vs ETS"
   ]
  },
  {
   "cell_type": "code",
   "execution_count": null,
   "metadata": {
    "vscode": {
     "languageId": "r"
    }
   },
   "outputs": [],
   "source": [
    "cpi_training <- cpi %>% filter_index(. ~ 'Dec 2020')\n",
    "cpi_test <- cpi %>% filter_index('Jan 2021' ~ .)\n",
    "\n",
    "cpi_models <- cpi_training %>%\n",
    "model(\n",
    "    `ARIMA` = ARIMA(log(`Price Index`)),\n",
    "    `ETS` = ETS(log(`Price Index`))\n",
    ")\n",
    "\n",
    "cpi_models %>% report()"
   ]
  },
  {
   "cell_type": "code",
   "execution_count": null,
   "metadata": {
    "vscode": {
     "languageId": "r"
    }
   },
   "outputs": [],
   "source": [
    "cpi_models %>% select(ARIMA) %>% gg_tsresiduals() + labs(title='ARIMA')"
   ]
  },
  {
   "cell_type": "code",
   "execution_count": null,
   "metadata": {
    "vscode": {
     "languageId": "r"
    }
   },
   "outputs": [],
   "source": [
    "cpi_models %>% select(ETS) %>% gg_tsresiduals() + labs(title='ETS')"
   ]
  },
  {
   "cell_type": "code",
   "execution_count": null,
   "metadata": {
    "vscode": {
     "languageId": "r"
    }
   },
   "outputs": [],
   "source": [
    "bind_rows((cpi_models %>% accuracy()),cpi_models %>% forecast(cpi_test) %>% accuracy(cpi_test)) %>% select(-MASE, -RMSSE, -ME, -MAE, -MPE)"
   ]
  },
  {
   "cell_type": "code",
   "execution_count": null,
   "metadata": {
    "vscode": {
     "languageId": "r"
    }
   },
   "outputs": [],
   "source": [
    "cpi_models %>% select(ETS) %>% report() %>% glance()"
   ]
  },
  {
   "cell_type": "code",
   "execution_count": null,
   "metadata": {
    "vscode": {
     "languageId": "r"
    }
   },
   "outputs": [],
   "source": [
    "cpi_models %>% select(ETS) %>% forecast(cpi_test) %>% autoplot(cpi_training) +\n",
    "autolayer(cpi_test, `Price Index`, col='red')"
   ]
  },
  {
   "cell_type": "markdown",
   "metadata": {},
   "source": [
    "### Retrain and Out-of-Sample"
   ]
  },
  {
   "cell_type": "code",
   "execution_count": null,
   "metadata": {
    "vscode": {
     "languageId": "r"
    }
   },
   "outputs": [],
   "source": [
    "cpi %>% model(ETS(log(`Price Index`))) %>% report()"
   ]
  },
  {
   "cell_type": "code",
   "execution_count": null,
   "metadata": {
    "vscode": {
     "languageId": "r"
    }
   },
   "outputs": [],
   "source": [
    "cpi %>% model(ETS(log(`Price Index`))) %>% forecast(horizon=48) %>% autoplot(cpi) + labs(title='ETS 48-Month Forecasts')"
   ]
  },
  {
   "cell_type": "code",
   "execution_count": null,
   "metadata": {
    "vscode": {
     "languageId": "r"
    }
   },
   "outputs": [],
   "source": [
    "cpi %>% model(ETS(log(`Price Index`)~trend('A')+error('A')+season('N'))) %>% forecast(horizon=48) %>% autoplot(cpi) + labs(title='ETS 48-Month Forecasts')"
   ]
  },
  {
   "cell_type": "code",
   "execution_count": null,
   "metadata": {
    "vscode": {
     "languageId": "r"
    }
   },
   "outputs": [],
   "source": [
    "cpi %>% model(ARIMA(log(`Price Index`))) %>% forecast(horizon=48) %>% autoplot(cpi) + labs(title='ARIMA 48-Month Forecasts')"
   ]
  },
  {
   "cell_type": "markdown",
   "metadata": {},
   "source": [
    "### Retail Sales"
   ]
  },
  {
   "cell_type": "code",
   "execution_count": null,
   "metadata": {
    "vscode": {
     "languageId": "r"
    }
   },
   "outputs": [],
   "source": [
    "retail <- read.csv('data/RSXFSN.csv')\n",
    "retail |> head(1)"
   ]
  },
  {
   "cell_type": "markdown",
   "metadata": {},
   "source": [
    "#### Tidying\n",
    "Tidy the data and calculate the year-over-year change."
   ]
  },
  {
   "cell_type": "code",
   "execution_count": null,
   "metadata": {
    "vscode": {
     "languageId": "r"
    }
   },
   "outputs": [],
   "source": [
    "retail <- retail |>\n",
    "rename(Sales = RSXFSN) |>\n",
    "mutate(SalesYOY = Sales/lag(Sales,n = 12)-1) |>\n",
    "mutate(DATE = yearmonth(as.Date(DATE))) |>\n",
    "filter(!is.na(SalesYOY)) %>%\n",
    "as_tsibble(index = DATE)\n",
    "\n",
    "retail |> head(1)"
   ]
  },
  {
   "cell_type": "markdown",
   "metadata": {},
   "source": [
    "### Basic Plot of the Series"
   ]
  },
  {
   "cell_type": "code",
   "execution_count": null,
   "metadata": {
    "vscode": {
     "languageId": "r"
    }
   },
   "outputs": [],
   "source": [
    "retail |> autoplot(Sales) +\n",
    "labs(title = 'Retail Sales', x='', y='')"
   ]
  },
  {
   "cell_type": "code",
   "execution_count": null,
   "metadata": {
    "vscode": {
     "languageId": "r"
    }
   },
   "outputs": [],
   "source": [
    "retail |> features(Sales, unitroot_kpss)"
   ]
  },
  {
   "cell_type": "code",
   "execution_count": null,
   "metadata": {
    "vscode": {
     "languageId": "r"
    }
   },
   "outputs": [],
   "source": [
    "retail |> autoplot(SalesYOY) +\n",
    "labs(title = 'Retail Sales - Year-over-Year', x='', y='Percent Change') +\n",
    "scale_y_continuous(labels=scales::percent) +\n",
    "geom_hline(yintercept = 0)"
   ]
  },
  {
   "cell_type": "code",
   "execution_count": null,
   "metadata": {
    "vscode": {
     "languageId": "r"
    }
   },
   "outputs": [],
   "source": [
    "retail |> features(SalesYOY, unitroot_kpss)"
   ]
  },
  {
   "cell_type": "markdown",
   "metadata": {},
   "source": [
    "### Determine the ARIMA Terms Based on ACF and PACF"
   ]
  },
  {
   "cell_type": "code",
   "execution_count": null,
   "metadata": {
    "vscode": {
     "languageId": "r"
    }
   },
   "outputs": [],
   "source": [
    "g1 <- retail |> ACF(SalesYOY) |> autoplot()\n",
    "g2 <- retail |> PACF(SalesYOY) |> autoplot()\n",
    "\n",
    "grid.arrange(g1, g2, ncol=2)"
   ]
  },
  {
   "cell_type": "markdown",
   "metadata": {},
   "source": [
    "### Split into Training and Test"
   ]
  },
  {
   "cell_type": "code",
   "execution_count": null,
   "metadata": {
    "vscode": {
     "languageId": "r"
    }
   },
   "outputs": [],
   "source": [
    "retail_tr <- retail |> filter_index(. ~ 'Dec 2022')\n",
    "retail_ts <- retail |> filter_index('Jan 2023' ~ .)"
   ]
  },
  {
   "cell_type": "markdown",
   "metadata": {},
   "source": [
    "### Fit Models"
   ]
  },
  {
   "cell_type": "code",
   "execution_count": null,
   "metadata": {
    "vscode": {
     "languageId": "r"
    }
   },
   "outputs": [],
   "source": [
    "retail_mdl <- retail_tr |>\n",
    "model(\n",
    "    'ARIMA' = ARIMA(SalesYOY),\n",
    "    'ETS' = ETS(SalesYOY),\n",
    "    'Naive' = NAIVE(SalesYOY)\n",
    ")\n",
    "\n",
    "retail_mdl |> select(ARIMA) |> report() "
   ]
  },
  {
   "cell_type": "code",
   "execution_count": null,
   "metadata": {
    "vscode": {
     "languageId": "r"
    }
   },
   "outputs": [],
   "source": [
    "retail_mdl  |> accuracy() |> select(.model, RMSE, MAPE)"
   ]
  },
  {
   "cell_type": "markdown",
   "metadata": {},
   "source": [
    "### Inspect Residuals"
   ]
  },
  {
   "cell_type": "code",
   "execution_count": null,
   "metadata": {
    "vscode": {
     "languageId": "r"
    }
   },
   "outputs": [],
   "source": [
    "retail_mdl |> select('ARIMA') |> gg_tsresiduals()"
   ]
  },
  {
   "cell_type": "code",
   "execution_count": null,
   "metadata": {
    "vscode": {
     "languageId": "r"
    }
   },
   "outputs": [],
   "source": [
    "retail_mdl |> select('ETS') |> gg_tsresiduals()"
   ]
  },
  {
   "cell_type": "code",
   "execution_count": null,
   "metadata": {
    "vscode": {
     "languageId": "r"
    }
   },
   "outputs": [],
   "source": [
    "retail_mdl |> select('Naive') |> gg_tsresiduals()"
   ]
  },
  {
   "cell_type": "markdown",
   "metadata": {},
   "source": [
    "### Evaluate Forecasts"
   ]
  },
  {
   "cell_type": "code",
   "execution_count": null,
   "metadata": {
    "vscode": {
     "languageId": "r"
    }
   },
   "outputs": [],
   "source": [
    "retail_mdl_fcst <- retail_mdl |>\n",
    "forecast(retail_ts) \n",
    "\n",
    "retail_mdl_fcst |> accuracy(retail_ts) |> select(.model, RMSE, MAPE)"
   ]
  },
  {
   "cell_type": "code",
   "execution_count": null,
   "metadata": {
    "vscode": {
     "languageId": "r"
    }
   },
   "outputs": [],
   "source": [
    "retail_mdl_fcst |> autoplot(level=NULL) +\n",
    "autolayer(retail, SalesYOY) +\n",
    "labs(title='Retail Sales Year-over-Year Forecast', x='', y='Percent (%)') +\n",
    "geom_vline(xintercept = as.Date('2023-01-01'), linetype='dashed') +\n",
    "geom_hline(yintercept = 0) +\n",
    "scale_y_continuous(labels=scales::percent)"
   ]
  },
  {
   "cell_type": "markdown",
   "metadata": {},
   "source": [
    "### Retrain and Forecast Out-of-Sample"
   ]
  },
  {
   "cell_type": "code",
   "execution_count": null,
   "metadata": {
    "vscode": {
     "languageId": "r"
    }
   },
   "outputs": [],
   "source": [
    "retail_mdl_fnl <- retail |>\n",
    "model(\n",
    "    'ARIMA' = ARIMA(SalesYOY)\n",
    ")\n",
    "\n",
    "retail_mdl_fnl %>% report()"
   ]
  },
  {
   "cell_type": "code",
   "execution_count": null,
   "metadata": {
    "vscode": {
     "languageId": "r"
    }
   },
   "outputs": [],
   "source": [
    "retail_mdl_fnl |> forecast(h=12) |>\n",
    "autoplot() + \n",
    "autolayer(retail, SalesYOY) +\n",
    "labs(title='Retail Sales Year-over-Year Forecast', x='', y='Percent (%)')"
   ]
  }
 ],
 "metadata": {
  "kernelspec": {
   "display_name": "R",
   "language": "R",
   "name": "ir"
  },
  "language_info": {
   "codemirror_mode": "r",
   "file_extension": ".r",
   "mimetype": "text/x-r-source",
   "name": "R",
   "pygments_lexer": "r",
   "version": "4.3.1"
  }
 },
 "nbformat": 4,
 "nbformat_minor": 2
}
