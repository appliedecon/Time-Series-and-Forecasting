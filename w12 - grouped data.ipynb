{
 "cells": [
  {
   "cell_type": "markdown",
   "metadata": {},
   "source": [
    "### Nested Time Series"
   ]
  },
  {
   "cell_type": "code",
   "execution_count": 2,
   "metadata": {
    "vscode": {
     "languageId": "r"
    }
   },
   "outputs": [],
   "source": [
    "suppressMessages(library(tidyverse))\n",
    "suppressMessages(library(tsibble))\n",
    "suppressMessages(library(fable))\n",
    "suppressMessages(library(tsibble))\n",
    "suppressMessages(library(fabletools))\n",
    "suppressMessages(library(feasts))\n",
    "suppressMessages(library(lubridate))\n",
    "suppressMessages(library(scales))\n",
    "suppressMessages(library(fpp3))\n",
    "suppressMessages(library(gridExtra))"
   ]
  },
  {
   "cell_type": "code",
   "execution_count": null,
   "metadata": {
    "vscode": {
     "languageId": "r"
    }
   },
   "outputs": [],
   "source": [
    "tsibble::tourism %>% head()"
   ]
  },
  {
   "cell_type": "code",
   "execution_count": null,
   "metadata": {
    "vscode": {
     "languageId": "r"
    }
   },
   "outputs": [],
   "source": [
    "tourism <- tsibble::tourism |>\n",
    "  mutate(State = recode(State,\n",
    "    `New South Wales` = \"NSW\",\n",
    "    `Northern Territory` = \"NT\",\n",
    "    `Queensland` = \"QLD\",\n",
    "    `South Australia` = \"SA\",\n",
    "    `Tasmania` = \"TAS\",\n",
    "    `Victoria` = \"VIC\",\n",
    "    `Western Australia` = \"WA\"\n",
    "  ))\n",
    "\n",
    "tourism_hts <- tourism |>\n",
    "aggregate_key(State / Region, Trips = sum(Trips))\n",
    "\n",
    "tourism_hts %>% head()"
   ]
  },
  {
   "cell_type": "code",
   "execution_count": null,
   "metadata": {
    "vscode": {
     "languageId": "r"
    }
   },
   "outputs": [],
   "source": [
    "tourism_hts %>% filter(State == 'WA', !is_aggregated(Region)) %>% head(10)"
   ]
  },
  {
   "cell_type": "code",
   "execution_count": null,
   "metadata": {
    "vscode": {
     "languageId": "r"
    }
   },
   "outputs": [],
   "source": [
    "tourism_hts |>\n",
    "  filter(is_aggregated(Region)) |>\n",
    "  autoplot(Trips) +\n",
    "  labs(y = \"Trips ('000)\",\n",
    "       title = \"Australian tourism: national and states\") +\n",
    "  facet_wrap(vars(State), scales = \"free_y\", ncol = 3) +\n",
    "  theme(legend.position = \"none\")"
   ]
  },
  {
   "cell_type": "code",
   "execution_count": null,
   "metadata": {
    "vscode": {
     "languageId": "r"
    }
   },
   "outputs": [],
   "source": [
    "tourism_hts |>\n",
    "  autoplot(Trips) +\n",
    "  labs(y = \"Trips ('000)\",\n",
    "       title = \"Australian tourism: national, states, and regions\") +\n",
    "  facet_wrap(vars(State), scales = \"free_y\", ncol = 3) +\n",
    "  theme(legend.position = \"none\")"
   ]
  },
  {
   "cell_type": "code",
   "execution_count": null,
   "metadata": {
    "vscode": {
     "languageId": "r"
    }
   },
   "outputs": [],
   "source": [
    "tourism_hts |>\n",
    "  filter(State == \"NT\" | State == \"QLD\" |\n",
    "         State == \"TAS\" | State == \"VIC\", is_aggregated(Region)) |>\n",
    "  select(-Region) |>\n",
    "  mutate(State = factor(State, levels=c(\"QLD\",\"VIC\",\"NT\",\"TAS\"))) |>\n",
    "  gg_season(Trips) +\n",
    "  facet_wrap(vars(State), nrow = 2, scales = \"free_y\")+\n",
    "  labs(y = \"Trips ('000)\")"
   ]
  },
  {
   "cell_type": "markdown",
   "metadata": {},
   "source": [
    "### Grouped Data"
   ]
  },
  {
   "cell_type": "code",
   "execution_count": null,
   "metadata": {
    "vscode": {
     "languageId": "r"
    }
   },
   "outputs": [],
   "source": [
    "prison <- readr::read_csv(\"https://OTexts.com/fpp3/extrafiles/prison_population.csv\") |>\n",
    "  mutate(Quarter = yearquarter(Date)) |>\n",
    "  select(-Date)  |>\n",
    "  as_tsibble(key = c(Gender, Legal, State, Indigenous),\n",
    "             index = Quarter) |>\n",
    "  relocate(Quarter)"
   ]
  },
  {
   "cell_type": "code",
   "execution_count": null,
   "metadata": {
    "vscode": {
     "languageId": "r"
    }
   },
   "outputs": [],
   "source": [
    "prison %>% head()"
   ]
  },
  {
   "cell_type": "code",
   "execution_count": null,
   "metadata": {
    "vscode": {
     "languageId": "r"
    }
   },
   "outputs": [],
   "source": [
    "prisoners_gts <- prison %>%\n",
    "    aggregate_key(Gender * Legal * State, Count = sum(Count)/1e3)"
   ]
  },
  {
   "cell_type": "code",
   "execution_count": null,
   "metadata": {
    "vscode": {
     "languageId": "r"
    }
   },
   "outputs": [],
   "source": [
    "prisoners_gts %>% head()"
   ]
  },
  {
   "cell_type": "code",
   "execution_count": null,
   "metadata": {
    "vscode": {
     "languageId": "r"
    }
   },
   "outputs": [],
   "source": [
    "prisoners_gts |>\n",
    "  filter(is_aggregated(Gender), is_aggregated(Legal),\n",
    "         is_aggregated(State)) |>\n",
    "  autoplot(Count) +\n",
    "  labs(y = \"Number of prisoners ('000)\")"
   ]
  },
  {
   "cell_type": "code",
   "execution_count": null,
   "metadata": {
    "vscode": {
     "languageId": "r"
    }
   },
   "outputs": [],
   "source": [
    "options(repr.plot.width=15, repr.plot.height=8)\n",
    "\n",
    "prisoners_gts |>\n",
    "  filter(!is_aggregated(Gender), is_aggregated(Legal),\n",
    "         is_aggregated(State)) |>\n",
    "  mutate(Gender = as.character(Gender)) |>\n",
    "  ggplot(aes(x = Quarter, y = Count)) +\n",
    "  stat_summary(fun = sum, geom = \"line\") +\n",
    "  labs(title = \"Prison population by ender\",\n",
    "       y = \"Number of prisoners ('000)\") +\n",
    "  facet_wrap(~ as.character(Gender), nrow = 1) +\n",
    "  theme(axis.text.x = element_text(angle = 90, hjust = 1))"
   ]
  },
  {
   "cell_type": "code",
   "execution_count": null,
   "metadata": {
    "vscode": {
     "languageId": "r"
    }
   },
   "outputs": [],
   "source": [
    "options(repr.plot.width=15, repr.plot.height=8)\n",
    "\n",
    "prisoners_gts |>\n",
    "  filter(!is_aggregated(Gender), !is_aggregated(Legal),\n",
    "         !is_aggregated(State)) |>\n",
    "  mutate(Gender = as.character(Gender)) |>\n",
    "  ggplot(aes(x = Quarter, y = Count,\n",
    "             group = Gender, colour=Gender)) +\n",
    "  stat_summary(fun = sum, geom = \"line\") +\n",
    "  labs(title = \"Prison population by state and gender\",\n",
    "       y = \"Number of prisoners ('000)\") +\n",
    "  facet_wrap(~ as.character(State),\n",
    "             nrow = 1) +\n",
    "  theme(axis.text.x = element_text(angle = 90, hjust = 1))"
   ]
  },
  {
   "cell_type": "code",
   "execution_count": null,
   "metadata": {
    "vscode": {
     "languageId": "r"
    }
   },
   "outputs": [],
   "source": [
    "options(repr.plot.width=15, repr.plot.height=8)\n",
    "\n",
    "prisoners_gts |>\n",
    "  filter(!is_aggregated(Gender), !is_aggregated(Legal),\n",
    "         is_aggregated(State)) |>\n",
    "  mutate(Gender = as.character(Gender)) |>\n",
    "  ggplot(aes(x = Quarter, y = Count,\n",
    "             group = Gender, colour=Gender)) +\n",
    "  stat_summary(fun = sum, geom = \"line\") +\n",
    "  labs(title = \"Prison population by state and legal\",\n",
    "       y = \"Number of prisoners ('000)\") +\n",
    "  facet_wrap(~ as.character(Legal), nrow = 1) +\n",
    "  theme(axis.text.x = element_text(angle = 90, hjust = 1))"
   ]
  },
  {
   "cell_type": "markdown",
   "metadata": {},
   "source": [
    "### Crossed Data Example with Tourism"
   ]
  },
  {
   "cell_type": "code",
   "execution_count": null,
   "metadata": {
    "vscode": {
     "languageId": "r"
    }
   },
   "outputs": [],
   "source": [
    "tourism_full <- tourism |>\n",
    "  aggregate_key((State/Region) * Purpose, Trips = sum(Trips))\n",
    "\n",
    "tourism_full %>% head()"
   ]
  },
  {
   "cell_type": "code",
   "execution_count": null,
   "metadata": {
    "vscode": {
     "languageId": "r"
    }
   },
   "outputs": [],
   "source": [
    "tourism_full |>\n",
    "filter(!is_aggregated(State), is_aggregated(Region), is_aggregated(Purpose)) |>\n",
    "mutate(State = as.character(State)) |>\n",
    "ggplot(aes(x=Quarter, y=Trips, group=State, colour=State)) +\n",
    "stat_summary(fun = sum, geom = \"line\") +\n",
    "facet_wrap(as.character(Purpose) ~ ., scales = \"free_y\", ncol = 1)  + \n",
    "labs(y = \"Trips ('000)\", title = \"Australian tourism: State and Purpose\")"
   ]
  },
  {
   "cell_type": "markdown",
   "metadata": {},
   "source": [
    "### Bottom-ups Forecast for Tourism\n",
    "State to National Forecasts"
   ]
  },
  {
   "cell_type": "code",
   "execution_count": null,
   "metadata": {
    "vscode": {
     "languageId": "r"
    }
   },
   "outputs": [],
   "source": [
    "tourism_states <- tourism |>\n",
    "  aggregate_key(State, Trips = sum(Trips))\n",
    "\n",
    "tourism_states %>% head()"
   ]
  },
  {
   "cell_type": "code",
   "execution_count": null,
   "metadata": {
    "vscode": {
     "languageId": "r"
    }
   },
   "outputs": [],
   "source": [
    "tourism_states |> count(State)"
   ]
  },
  {
   "cell_type": "code",
   "execution_count": null,
   "metadata": {
    "vscode": {
     "languageId": "r"
    }
   },
   "outputs": [],
   "source": [
    "tourism_states |>\n",
    "  filter(!is_aggregated(State)) |>\n",
    "  autoplot(Trips) +\n",
    "  labs(y = \"Trips ('000)\",\n",
    "       title = \"Australian tourism: national and states\") +\n",
    "  facet_wrap(vars(State), scales = \"free_y\", ncol = 2) +\n",
    "  theme(legend.position = \"none\")"
   ]
  },
  {
   "cell_type": "markdown",
   "metadata": {},
   "source": [
    "Could produce the forecasts and simply sum to get the aggregates:"
   ]
  },
  {
   "cell_type": "code",
   "execution_count": null,
   "metadata": {
    "vscode": {
     "languageId": "r"
    }
   },
   "outputs": [],
   "source": [
    "fcasts_state <- tourism_states |>\n",
    "  filter(!is_aggregated(State)) |>\n",
    "  model(ets = ETS(Trips)) |>\n",
    "  forecast()\n",
    "\n",
    "# Sum bottom-level forecasts to get top-level forecasts\n",
    "fcasts_national <- fcasts_state |>\n",
    "  summarise(value = sum(Trips), .mean = mean(value))"
   ]
  },
  {
   "cell_type": "code",
   "execution_count": null,
   "metadata": {
    "vscode": {
     "languageId": "r"
    }
   },
   "outputs": [],
   "source": [
    "fcasts_state %>% autoplot(tourism_states)  +\n",
    "  theme(legend.position = \"none\")"
   ]
  },
  {
   "cell_type": "code",
   "execution_count": null,
   "metadata": {
    "vscode": {
     "languageId": "r"
    }
   },
   "outputs": [],
   "source": [
    "fcasts_national %>% autoplot()"
   ]
  },
  {
   "cell_type": "markdown",
   "metadata": {},
   "source": [
    "Or use reconciliation which is going to be more generalized:"
   ]
  },
  {
   "cell_type": "code",
   "execution_count": null,
   "metadata": {
    "vscode": {
     "languageId": "r"
    }
   },
   "outputs": [],
   "source": [
    "fcast_both <- tourism_states |>\n",
    "  model(ets = ETS(Trips)) |>\n",
    "  reconcile(bu = bottom_up(ets)) |>\n",
    "  forecast()\n",
    "\n",
    "fcast_both %>% filter(is_aggregated(State)) %>% autoplot(tourism_states) + facet_wrap(. ~ .model, ncol=1)"
   ]
  },
  {
   "cell_type": "markdown",
   "metadata": {},
   "source": [
    "### Comparing Top-down Methods"
   ]
  },
  {
   "cell_type": "code",
   "execution_count": null,
   "metadata": {
    "vscode": {
     "languageId": "r"
    }
   },
   "outputs": [],
   "source": [
    "tourism_states |>\n",
    "  model(ets = ETS(Trips)) |>\n",
    "  reconcile(td = top_down(ets, method = 'average_proportions')) |>\n",
    "  forecast() |>\n",
    "  filter(!is_aggregated(State), .model == 'td') |>\n",
    "  autoplot(tourism_states)  +\n",
    "  theme(legend.position = \"none\") +\n",
    "  labs(title='Average Historical Proportions')"
   ]
  },
  {
   "cell_type": "code",
   "execution_count": null,
   "metadata": {
    "vscode": {
     "languageId": "r"
    }
   },
   "outputs": [],
   "source": [
    "tourism_states |>\n",
    "  model(ets = ETS(Trips)) |>\n",
    "  reconcile(td = top_down(ets, method = 'proportion_averages')) |>\n",
    "  forecast() |>\n",
    "  filter(!is_aggregated(State), .model == 'td') |>\n",
    "  autoplot(tourism_states)  +\n",
    "  theme(legend.position = \"none\") +\n",
    "  labs(title='Proportions of Historical Averages')"
   ]
  },
  {
   "cell_type": "code",
   "execution_count": null,
   "metadata": {
    "vscode": {
     "languageId": "r"
    }
   },
   "outputs": [],
   "source": [
    "tourism_states |>\n",
    "  model(ets = ETS(Trips)) |>\n",
    "  reconcile(td = top_down(ets, method = 'forecast_proportions')) |>\n",
    "  forecast() |>\n",
    "  filter(!is_aggregated(State), .model == 'td') |>\n",
    "  autoplot(tourism_states)  +\n",
    "  theme(legend.position = \"none\") +\n",
    "  labs(title='Proportions of Forecasts')"
   ]
  },
  {
   "cell_type": "markdown",
   "metadata": {},
   "source": [
    "### Comparing Reconciliations with Tourism Data\n",
    "Now four level (Aggregate, State, Region, Purpose)"
   ]
  },
  {
   "cell_type": "code",
   "execution_count": null,
   "metadata": {
    "vscode": {
     "languageId": "r"
    }
   },
   "outputs": [],
   "source": [
    "tourism_full <- tourism |>\n",
    "  aggregate_key((State/Region) * Purpose, Trips = sum(Trips))\n",
    "\n",
    "fit <- tourism_full |>\n",
    "  filter(year(Quarter) <= 2015) |>\n",
    "  model(base = ETS(Trips)) |>\n",
    "  reconcile(\n",
    "    bu = bottom_up(base),\n",
    "    ols = min_trace(base, method = \"ols\"),\n",
    "    mint = min_trace(base, method = \"mint_shrink\")\n",
    "  )\n",
    "\n",
    "fc <- fit |> forecast(h = \"2 years\")"
   ]
  },
  {
   "cell_type": "code",
   "execution_count": null,
   "metadata": {
    "vscode": {
     "languageId": "r"
    }
   },
   "outputs": [],
   "source": [
    "fit %>% nrow()"
   ]
  },
  {
   "cell_type": "code",
   "execution_count": null,
   "metadata": {
    "vscode": {
     "languageId": "r"
    }
   },
   "outputs": [],
   "source": [
    "fc |>\n",
    "  filter(is_aggregated(Region), is_aggregated(Purpose)) |>\n",
    "  autoplot(\n",
    "    tourism_full |> filter(year(Quarter) >= 2011),\n",
    "    level = NULL\n",
    "  ) +\n",
    "  labs(y = \"Trips ('000)\", title='State Forecasts') +\n",
    "  theme(legend.position = \"none\") +\n",
    "  facet_wrap(vars(State), scales = \"free_y\")"
   ]
  },
  {
   "cell_type": "code",
   "execution_count": null,
   "metadata": {
    "vscode": {
     "languageId": "r"
    }
   },
   "outputs": [],
   "source": [
    "fc |>\n",
    "  filter(is_aggregated(State), !is_aggregated(Purpose)) |>\n",
    "  autoplot(\n",
    "    tourism_full |> filter(year(Quarter) >= 2011),\n",
    "    level = NULL\n",
    "  ) +\n",
    "  labs(y = \"Trips ('000)\", title='Purpose') +\n",
    "  facet_wrap(vars(Purpose), scales = \"free_y\")"
   ]
  },
  {
   "cell_type": "code",
   "execution_count": null,
   "metadata": {
    "vscode": {
     "languageId": "r"
    }
   },
   "outputs": [],
   "source": [
    "# aggregate state, purpose\n",
    "fc |>\n",
    "  filter(is_aggregated(State), is_aggregated(Purpose)) |>\n",
    "  accuracy(\n",
    "    data = tourism_full,\n",
    "    measures = list(rmse = RMSE, mase = MASE)\n",
    "  ) |>\n",
    "  group_by(.model) |>\n",
    "  summarise(rmse = mean(rmse), mase = mean(mase))"
   ]
  },
  {
   "cell_type": "code",
   "execution_count": null,
   "metadata": {
    "vscode": {
     "languageId": "r"
    }
   },
   "outputs": [],
   "source": [
    "# across all levels\n",
    "fc |>\n",
    "  accuracy(\n",
    "    data = tourism_full,\n",
    "    measures = list(rmse = RMSE, mase = MASE)\n",
    "  ) |>\n",
    "  group_by(.model) |>\n",
    "  summarise(rmse = mean(rmse), mase = mean(mase))"
   ]
  },
  {
   "cell_type": "markdown",
   "metadata": {},
   "source": [
    "### Reconciliation on Prisoner Data"
   ]
  },
  {
   "cell_type": "code",
   "execution_count": null,
   "metadata": {
    "vscode": {
     "languageId": "r"
    }
   },
   "outputs": [],
   "source": [
    "prison_sg <- prison %>%\n",
    "    aggregate_key(Gender * State, Count = sum(Count)/1e3)\n",
    "\n",
    "prison_sg %>% head()"
   ]
  },
  {
   "cell_type": "code",
   "execution_count": null,
   "metadata": {
    "vscode": {
     "languageId": "r"
    }
   },
   "outputs": [],
   "source": [
    "prison_sg |>\n",
    "  filter(is_aggregated(Gender), is_aggregated(State)) |>\n",
    "  autoplot(Count) +\n",
    "  labs(y = \"Number of prisoners ('000)\")"
   ]
  },
  {
   "cell_type": "code",
   "execution_count": null,
   "metadata": {
    "vscode": {
     "languageId": "r"
    }
   },
   "outputs": [],
   "source": [
    "fit_sg <- prison_sg |>\n",
    "  filter(year(Quarter) <= 2014) |>\n",
    "  model(base = ETS(Count)) |>\n",
    "  reconcile(\n",
    "    bottom_up = bottom_up(base),\n",
    "    MinT = min_trace(base, method = \"mint_shrink\")\n",
    "  )\n",
    " \n",
    "fc <- fit_sg |> forecast(h = 8)\n",
    "\n",
    "fc |>\n",
    "  filter(is_aggregated(State), is_aggregated(Gender)) |>\n",
    "  autoplot(prison_sg, alpha = 0.7, level = 90) +\n",
    "  labs(y = \"Number of prisoners ('000)\",\n",
    "       title = \"Australian prison population (total)\")"
   ]
  },
  {
   "cell_type": "code",
   "execution_count": null,
   "metadata": {
    "vscode": {
     "languageId": "r"
    }
   },
   "outputs": [],
   "source": [
    "fc |>\n",
    "  filter(\n",
    "    !is_aggregated(State), is_aggregated(Gender)\n",
    "  ) |>\n",
    "  autoplot(\n",
    "    prison_sg |> filter(year(Quarter) >= 2010),\n",
    "    alpha = 0.7, level = 90\n",
    "  ) +\n",
    "  labs(title = \"Prison population (by state)\",\n",
    "       y = \"Number of prisoners ('000)\") +\n",
    "  facet_wrap(vars(State), scales = \"free_y\", ncol = 4) +\n",
    "  theme(axis.text.x = element_text(angle = 90, hjust = 1))"
   ]
  },
  {
   "cell_type": "code",
   "execution_count": null,
   "metadata": {
    "vscode": {
     "languageId": "r"
    }
   },
   "outputs": [],
   "source": [
    "fc |>\n",
    "  filter(is_aggregated(State), is_aggregated(Gender)) |>\n",
    "  accuracy(data = prison_sg,\n",
    "           measures = list(mase = MASE,\n",
    "                           ss = skill_score(CRPS)\n",
    "                           )\n",
    "           ) |>\n",
    "  group_by(.model) |>\n",
    "  summarise(mase = mean(mase), sspc = mean(ss) * 100)"
   ]
  },
  {
   "cell_type": "markdown",
   "metadata": {},
   "source": [
    "### Case-Shiller Home Sales Pair Counts"
   ]
  },
  {
   "cell_type": "code",
   "execution_count": 3,
   "metadata": {
    "vscode": {
     "languageId": "r"
    }
   },
   "outputs": [
    {
     "data": {
      "text/html": [
       "<table class=\"dataframe\">\n",
       "<caption>A tibble: 6 × 24</caption>\n",
       "<thead>\n",
       "\t<tr><th scope=col>YEAR</th><th scope=col>MONTH</th><th scope=col>PHXR</th><th scope=col>LXXR</th><th scope=col>SDXR</th><th scope=col>SFXR</th><th scope=col>DNXR</th><th scope=col>WDXR</th><th scope=col>MIXR</th><th scope=col>TPXR</th><th scope=col>⋯</th><th scope=col>MNXR</th><th scope=col>CRXR</th><th scope=col>LVXR</th><th scope=col>NYXR</th><th scope=col>CEXR</th><th scope=col>POXR</th><th scope=col>DAXR</th><th scope=col>SEXR</th><th scope=col>CSXR</th><th scope=col>CS20R</th></tr>\n",
       "\t<tr><th scope=col>&lt;dbl&gt;</th><th scope=col>&lt;dbl&gt;</th><th scope=col>&lt;dbl&gt;</th><th scope=col>&lt;dbl&gt;</th><th scope=col>&lt;dbl&gt;</th><th scope=col>&lt;dbl&gt;</th><th scope=col>&lt;dbl&gt;</th><th scope=col>&lt;dbl&gt;</th><th scope=col>&lt;dbl&gt;</th><th scope=col>&lt;dbl&gt;</th><th scope=col>⋯</th><th scope=col>&lt;dbl&gt;</th><th scope=col>&lt;dbl&gt;</th><th scope=col>&lt;dbl&gt;</th><th scope=col>&lt;dbl&gt;</th><th scope=col>&lt;dbl&gt;</th><th scope=col>&lt;dbl&gt;</th><th scope=col>&lt;dbl&gt;</th><th scope=col>&lt;dbl&gt;</th><th scope=col>&lt;dbl&gt;</th><th scope=col>&lt;dbl&gt;</th></tr>\n",
       "</thead>\n",
       "<tbody>\n",
       "\t<tr><td>2000</td><td>1</td><td>4724</td><td> 9971</td><td>2695</td><td>4385</td><td>3529</td><td>4366</td><td>7224</td><td>3447</td><td>⋯</td><td>3765</td><td>1494</td><td>1437</td><td>8938</td><td>1708</td><td>2009</td><td>119</td><td>2665</td><td>48862</td><td> 76273</td></tr>\n",
       "\t<tr><td>2000</td><td>2</td><td>4776</td><td> 9384</td><td>2554</td><td>4113</td><td>3239</td><td>4013</td><td>7107</td><td>3204</td><td>⋯</td><td>3251</td><td>1426</td><td>1393</td><td>8352</td><td>1496</td><td>1887</td><td>153</td><td>2490</td><td>45328</td><td> 70994</td></tr>\n",
       "\t<tr><td>2000</td><td>3</td><td>5395</td><td> 9908</td><td>2899</td><td>4291</td><td>3451</td><td>3964</td><td>6839</td><td>3074</td><td>⋯</td><td>2710</td><td>1499</td><td>1514</td><td>8378</td><td>1577</td><td>2016</td><td>209</td><td>2892</td><td>46403</td><td> 72795</td></tr>\n",
       "\t<tr><td>2000</td><td>4</td><td>4277</td><td>11281</td><td>3386</td><td>4973</td><td>3125</td><td>4684</td><td>7871</td><td>3897</td><td>⋯</td><td>2753</td><td>1837</td><td>1788</td><td>7836</td><td>2004</td><td>2326</td><td>301</td><td>3606</td><td>50872</td><td> 79561</td></tr>\n",
       "\t<tr><td>2000</td><td>5</td><td>4540</td><td>12944</td><td>3796</td><td>5644</td><td>3277</td><td>5960</td><td>9060</td><td>4666</td><td>⋯</td><td>3179</td><td>2124</td><td>2078</td><td>8370</td><td>2577</td><td>2719</td><td>390</td><td>4057</td><td>58826</td><td> 92584</td></tr>\n",
       "\t<tr><td>2000</td><td>6</td><td>4737</td><td>13459</td><td>3838</td><td>5867</td><td>3791</td><td>7005</td><td>9519</td><td>4879</td><td>⋯</td><td>4033</td><td>2261</td><td>2192</td><td>9858</td><td>3053</td><td>3040</td><td>477</td><td>4232</td><td>65095</td><td>102644</td></tr>\n",
       "</tbody>\n",
       "</table>\n"
      ],
      "text/latex": [
       "A tibble: 6 × 24\n",
       "\\begin{tabular}{lllllllllllllllllllll}\n",
       " YEAR & MONTH & PHXR & LXXR & SDXR & SFXR & DNXR & WDXR & MIXR & TPXR & ⋯ & MNXR & CRXR & LVXR & NYXR & CEXR & POXR & DAXR & SEXR & CSXR & CS20R\\\\\n",
       " <dbl> & <dbl> & <dbl> & <dbl> & <dbl> & <dbl> & <dbl> & <dbl> & <dbl> & <dbl> & ⋯ & <dbl> & <dbl> & <dbl> & <dbl> & <dbl> & <dbl> & <dbl> & <dbl> & <dbl> & <dbl>\\\\\n",
       "\\hline\n",
       "\t 2000 & 1 & 4724 &  9971 & 2695 & 4385 & 3529 & 4366 & 7224 & 3447 & ⋯ & 3765 & 1494 & 1437 & 8938 & 1708 & 2009 & 119 & 2665 & 48862 &  76273\\\\\n",
       "\t 2000 & 2 & 4776 &  9384 & 2554 & 4113 & 3239 & 4013 & 7107 & 3204 & ⋯ & 3251 & 1426 & 1393 & 8352 & 1496 & 1887 & 153 & 2490 & 45328 &  70994\\\\\n",
       "\t 2000 & 3 & 5395 &  9908 & 2899 & 4291 & 3451 & 3964 & 6839 & 3074 & ⋯ & 2710 & 1499 & 1514 & 8378 & 1577 & 2016 & 209 & 2892 & 46403 &  72795\\\\\n",
       "\t 2000 & 4 & 4277 & 11281 & 3386 & 4973 & 3125 & 4684 & 7871 & 3897 & ⋯ & 2753 & 1837 & 1788 & 7836 & 2004 & 2326 & 301 & 3606 & 50872 &  79561\\\\\n",
       "\t 2000 & 5 & 4540 & 12944 & 3796 & 5644 & 3277 & 5960 & 9060 & 4666 & ⋯ & 3179 & 2124 & 2078 & 8370 & 2577 & 2719 & 390 & 4057 & 58826 &  92584\\\\\n",
       "\t 2000 & 6 & 4737 & 13459 & 3838 & 5867 & 3791 & 7005 & 9519 & 4879 & ⋯ & 4033 & 2261 & 2192 & 9858 & 3053 & 3040 & 477 & 4232 & 65095 & 102644\\\\\n",
       "\\end{tabular}\n"
      ],
      "text/markdown": [
       "\n",
       "A tibble: 6 × 24\n",
       "\n",
       "| YEAR &lt;dbl&gt; | MONTH &lt;dbl&gt; | PHXR &lt;dbl&gt; | LXXR &lt;dbl&gt; | SDXR &lt;dbl&gt; | SFXR &lt;dbl&gt; | DNXR &lt;dbl&gt; | WDXR &lt;dbl&gt; | MIXR &lt;dbl&gt; | TPXR &lt;dbl&gt; | ⋯ ⋯ | MNXR &lt;dbl&gt; | CRXR &lt;dbl&gt; | LVXR &lt;dbl&gt; | NYXR &lt;dbl&gt; | CEXR &lt;dbl&gt; | POXR &lt;dbl&gt; | DAXR &lt;dbl&gt; | SEXR &lt;dbl&gt; | CSXR &lt;dbl&gt; | CS20R &lt;dbl&gt; |\n",
       "|---|---|---|---|---|---|---|---|---|---|---|---|---|---|---|---|---|---|---|---|---|\n",
       "| 2000 | 1 | 4724 |  9971 | 2695 | 4385 | 3529 | 4366 | 7224 | 3447 | ⋯ | 3765 | 1494 | 1437 | 8938 | 1708 | 2009 | 119 | 2665 | 48862 |  76273 |\n",
       "| 2000 | 2 | 4776 |  9384 | 2554 | 4113 | 3239 | 4013 | 7107 | 3204 | ⋯ | 3251 | 1426 | 1393 | 8352 | 1496 | 1887 | 153 | 2490 | 45328 |  70994 |\n",
       "| 2000 | 3 | 5395 |  9908 | 2899 | 4291 | 3451 | 3964 | 6839 | 3074 | ⋯ | 2710 | 1499 | 1514 | 8378 | 1577 | 2016 | 209 | 2892 | 46403 |  72795 |\n",
       "| 2000 | 4 | 4277 | 11281 | 3386 | 4973 | 3125 | 4684 | 7871 | 3897 | ⋯ | 2753 | 1837 | 1788 | 7836 | 2004 | 2326 | 301 | 3606 | 50872 |  79561 |\n",
       "| 2000 | 5 | 4540 | 12944 | 3796 | 5644 | 3277 | 5960 | 9060 | 4666 | ⋯ | 3179 | 2124 | 2078 | 8370 | 2577 | 2719 | 390 | 4057 | 58826 |  92584 |\n",
       "| 2000 | 6 | 4737 | 13459 | 3838 | 5867 | 3791 | 7005 | 9519 | 4879 | ⋯ | 4033 | 2261 | 2192 | 9858 | 3053 | 3040 | 477 | 4232 | 65095 | 102644 |\n",
       "\n"
      ],
      "text/plain": [
       "  YEAR MONTH PHXR LXXR  SDXR SFXR DNXR WDXR MIXR TPXR ⋯ MNXR CRXR LVXR NYXR\n",
       "1 2000 1     4724  9971 2695 4385 3529 4366 7224 3447 ⋯ 3765 1494 1437 8938\n",
       "2 2000 2     4776  9384 2554 4113 3239 4013 7107 3204 ⋯ 3251 1426 1393 8352\n",
       "3 2000 3     5395  9908 2899 4291 3451 3964 6839 3074 ⋯ 2710 1499 1514 8378\n",
       "4 2000 4     4277 11281 3386 4973 3125 4684 7871 3897 ⋯ 2753 1837 1788 7836\n",
       "5 2000 5     4540 12944 3796 5644 3277 5960 9060 4666 ⋯ 3179 2124 2078 8370\n",
       "6 2000 6     4737 13459 3838 5867 3791 7005 9519 4879 ⋯ 4033 2261 2192 9858\n",
       "  CEXR POXR DAXR SEXR CSXR  CS20R \n",
       "1 1708 2009 119  2665 48862  76273\n",
       "2 1496 1887 153  2490 45328  70994\n",
       "3 1577 2016 209  2892 46403  72795\n",
       "4 2004 2326 301  3606 50872  79561\n",
       "5 2577 2719 390  4057 58826  92584\n",
       "6 3053 3040 477  4232 65095 102644"
      ]
     },
     "metadata": {},
     "output_type": "display_data"
    }
   ],
   "source": [
    "sp <- readxl::read_excel('data/cs_salespairs.xls', skip=1)\n",
    "sp <- sp[complete.cases(sp), ]\n",
    "sp %>% head()"
   ]
  },
  {
   "cell_type": "code",
   "execution_count": 4,
   "metadata": {
    "vscode": {
     "languageId": "r"
    }
   },
   "outputs": [
    {
     "data": {
      "text/html": [
       "<table class=\"dataframe\">\n",
       "<caption>A tibble: 6 × 22</caption>\n",
       "<thead>\n",
       "\t<tr><th scope=col>YEAR</th><th scope=col>MONTH</th><th scope=col>PHXR</th><th scope=col>LXXR</th><th scope=col>SDXR</th><th scope=col>SFXR</th><th scope=col>DNXR</th><th scope=col>WDXR</th><th scope=col>MIXR</th><th scope=col>TPXR</th><th scope=col>⋯</th><th scope=col>BOXR</th><th scope=col>DEXR</th><th scope=col>MNXR</th><th scope=col>CRXR</th><th scope=col>LVXR</th><th scope=col>NYXR</th><th scope=col>CEXR</th><th scope=col>POXR</th><th scope=col>DAXR</th><th scope=col>SEXR</th></tr>\n",
       "\t<tr><th scope=col>&lt;dbl&gt;</th><th scope=col>&lt;dbl&gt;</th><th scope=col>&lt;dbl&gt;</th><th scope=col>&lt;dbl&gt;</th><th scope=col>&lt;dbl&gt;</th><th scope=col>&lt;dbl&gt;</th><th scope=col>&lt;dbl&gt;</th><th scope=col>&lt;dbl&gt;</th><th scope=col>&lt;dbl&gt;</th><th scope=col>&lt;dbl&gt;</th><th scope=col>⋯</th><th scope=col>&lt;dbl&gt;</th><th scope=col>&lt;dbl&gt;</th><th scope=col>&lt;dbl&gt;</th><th scope=col>&lt;dbl&gt;</th><th scope=col>&lt;dbl&gt;</th><th scope=col>&lt;dbl&gt;</th><th scope=col>&lt;dbl&gt;</th><th scope=col>&lt;dbl&gt;</th><th scope=col>&lt;dbl&gt;</th><th scope=col>&lt;dbl&gt;</th></tr>\n",
       "</thead>\n",
       "<tbody>\n",
       "\t<tr><td>2000</td><td>1</td><td>4724</td><td> 9971</td><td>2695</td><td>4385</td><td>3529</td><td>4366</td><td>7224</td><td>3447</td><td>⋯</td><td>2872</td><td>3385</td><td>3765</td><td>1494</td><td>1437</td><td>8938</td><td>1708</td><td>2009</td><td>119</td><td>2665</td></tr>\n",
       "\t<tr><td>2000</td><td>2</td><td>4776</td><td> 9384</td><td>2554</td><td>4113</td><td>3239</td><td>4013</td><td>7107</td><td>3204</td><td>⋯</td><td>2506</td><td>3225</td><td>3251</td><td>1426</td><td>1393</td><td>8352</td><td>1496</td><td>1887</td><td>153</td><td>2490</td></tr>\n",
       "\t<tr><td>2000</td><td>3</td><td>5395</td><td> 9908</td><td>2899</td><td>4291</td><td>3451</td><td>3964</td><td>6839</td><td>3074</td><td>⋯</td><td>2469</td><td>3272</td><td>2710</td><td>1499</td><td>1514</td><td>8378</td><td>1577</td><td>2016</td><td>209</td><td>2892</td></tr>\n",
       "\t<tr><td>2000</td><td>4</td><td>4277</td><td>11281</td><td>3386</td><td>4973</td><td>3125</td><td>4684</td><td>7871</td><td>3897</td><td>⋯</td><td>2744</td><td>3392</td><td>2753</td><td>1837</td><td>1788</td><td>7836</td><td>2004</td><td>2326</td><td>301</td><td>3606</td></tr>\n",
       "\t<tr><td>2000</td><td>5</td><td>4540</td><td>12944</td><td>3796</td><td>5644</td><td>3277</td><td>5960</td><td>9060</td><td>4666</td><td>⋯</td><td>3298</td><td>4330</td><td>3179</td><td>2124</td><td>2078</td><td>8370</td><td>2577</td><td>2719</td><td>390</td><td>4057</td></tr>\n",
       "\t<tr><td>2000</td><td>6</td><td>4737</td><td>13459</td><td>3838</td><td>5867</td><td>3791</td><td>7005</td><td>9519</td><td>4879</td><td>⋯</td><td>4135</td><td>4944</td><td>4033</td><td>2261</td><td>2192</td><td>9858</td><td>3053</td><td>3040</td><td>477</td><td>4232</td></tr>\n",
       "</tbody>\n",
       "</table>\n"
      ],
      "text/latex": [
       "A tibble: 6 × 22\n",
       "\\begin{tabular}{lllllllllllllllllllll}\n",
       " YEAR & MONTH & PHXR & LXXR & SDXR & SFXR & DNXR & WDXR & MIXR & TPXR & ⋯ & BOXR & DEXR & MNXR & CRXR & LVXR & NYXR & CEXR & POXR & DAXR & SEXR\\\\\n",
       " <dbl> & <dbl> & <dbl> & <dbl> & <dbl> & <dbl> & <dbl> & <dbl> & <dbl> & <dbl> & ⋯ & <dbl> & <dbl> & <dbl> & <dbl> & <dbl> & <dbl> & <dbl> & <dbl> & <dbl> & <dbl>\\\\\n",
       "\\hline\n",
       "\t 2000 & 1 & 4724 &  9971 & 2695 & 4385 & 3529 & 4366 & 7224 & 3447 & ⋯ & 2872 & 3385 & 3765 & 1494 & 1437 & 8938 & 1708 & 2009 & 119 & 2665\\\\\n",
       "\t 2000 & 2 & 4776 &  9384 & 2554 & 4113 & 3239 & 4013 & 7107 & 3204 & ⋯ & 2506 & 3225 & 3251 & 1426 & 1393 & 8352 & 1496 & 1887 & 153 & 2490\\\\\n",
       "\t 2000 & 3 & 5395 &  9908 & 2899 & 4291 & 3451 & 3964 & 6839 & 3074 & ⋯ & 2469 & 3272 & 2710 & 1499 & 1514 & 8378 & 1577 & 2016 & 209 & 2892\\\\\n",
       "\t 2000 & 4 & 4277 & 11281 & 3386 & 4973 & 3125 & 4684 & 7871 & 3897 & ⋯ & 2744 & 3392 & 2753 & 1837 & 1788 & 7836 & 2004 & 2326 & 301 & 3606\\\\\n",
       "\t 2000 & 5 & 4540 & 12944 & 3796 & 5644 & 3277 & 5960 & 9060 & 4666 & ⋯ & 3298 & 4330 & 3179 & 2124 & 2078 & 8370 & 2577 & 2719 & 390 & 4057\\\\\n",
       "\t 2000 & 6 & 4737 & 13459 & 3838 & 5867 & 3791 & 7005 & 9519 & 4879 & ⋯ & 4135 & 4944 & 4033 & 2261 & 2192 & 9858 & 3053 & 3040 & 477 & 4232\\\\\n",
       "\\end{tabular}\n"
      ],
      "text/markdown": [
       "\n",
       "A tibble: 6 × 22\n",
       "\n",
       "| YEAR &lt;dbl&gt; | MONTH &lt;dbl&gt; | PHXR &lt;dbl&gt; | LXXR &lt;dbl&gt; | SDXR &lt;dbl&gt; | SFXR &lt;dbl&gt; | DNXR &lt;dbl&gt; | WDXR &lt;dbl&gt; | MIXR &lt;dbl&gt; | TPXR &lt;dbl&gt; | ⋯ ⋯ | BOXR &lt;dbl&gt; | DEXR &lt;dbl&gt; | MNXR &lt;dbl&gt; | CRXR &lt;dbl&gt; | LVXR &lt;dbl&gt; | NYXR &lt;dbl&gt; | CEXR &lt;dbl&gt; | POXR &lt;dbl&gt; | DAXR &lt;dbl&gt; | SEXR &lt;dbl&gt; |\n",
       "|---|---|---|---|---|---|---|---|---|---|---|---|---|---|---|---|---|---|---|---|---|\n",
       "| 2000 | 1 | 4724 |  9971 | 2695 | 4385 | 3529 | 4366 | 7224 | 3447 | ⋯ | 2872 | 3385 | 3765 | 1494 | 1437 | 8938 | 1708 | 2009 | 119 | 2665 |\n",
       "| 2000 | 2 | 4776 |  9384 | 2554 | 4113 | 3239 | 4013 | 7107 | 3204 | ⋯ | 2506 | 3225 | 3251 | 1426 | 1393 | 8352 | 1496 | 1887 | 153 | 2490 |\n",
       "| 2000 | 3 | 5395 |  9908 | 2899 | 4291 | 3451 | 3964 | 6839 | 3074 | ⋯ | 2469 | 3272 | 2710 | 1499 | 1514 | 8378 | 1577 | 2016 | 209 | 2892 |\n",
       "| 2000 | 4 | 4277 | 11281 | 3386 | 4973 | 3125 | 4684 | 7871 | 3897 | ⋯ | 2744 | 3392 | 2753 | 1837 | 1788 | 7836 | 2004 | 2326 | 301 | 3606 |\n",
       "| 2000 | 5 | 4540 | 12944 | 3796 | 5644 | 3277 | 5960 | 9060 | 4666 | ⋯ | 3298 | 4330 | 3179 | 2124 | 2078 | 8370 | 2577 | 2719 | 390 | 4057 |\n",
       "| 2000 | 6 | 4737 | 13459 | 3838 | 5867 | 3791 | 7005 | 9519 | 4879 | ⋯ | 4135 | 4944 | 4033 | 2261 | 2192 | 9858 | 3053 | 3040 | 477 | 4232 |\n",
       "\n"
      ],
      "text/plain": [
       "  YEAR MONTH PHXR LXXR  SDXR SFXR DNXR WDXR MIXR TPXR ⋯ BOXR DEXR MNXR CRXR\n",
       "1 2000 1     4724  9971 2695 4385 3529 4366 7224 3447 ⋯ 2872 3385 3765 1494\n",
       "2 2000 2     4776  9384 2554 4113 3239 4013 7107 3204 ⋯ 2506 3225 3251 1426\n",
       "3 2000 3     5395  9908 2899 4291 3451 3964 6839 3074 ⋯ 2469 3272 2710 1499\n",
       "4 2000 4     4277 11281 3386 4973 3125 4684 7871 3897 ⋯ 2744 3392 2753 1837\n",
       "5 2000 5     4540 12944 3796 5644 3277 5960 9060 4666 ⋯ 3298 4330 3179 2124\n",
       "6 2000 6     4737 13459 3838 5867 3791 7005 9519 4879 ⋯ 4135 4944 4033 2261\n",
       "  LVXR NYXR CEXR POXR DAXR SEXR\n",
       "1 1437 8938 1708 2009 119  2665\n",
       "2 1393 8352 1496 1887 153  2490\n",
       "3 1514 8378 1577 2016 209  2892\n",
       "4 1788 7836 2004 2326 301  3606\n",
       "5 2078 8370 2577 2719 390  4057\n",
       "6 2192 9858 3053 3040 477  4232"
      ]
     },
     "metadata": {},
     "output_type": "display_data"
    }
   ],
   "source": [
    "city_sp <- sp %>% select(-CSXR, -CS20R)\n",
    "city_sp %>% head()"
   ]
  },
  {
   "cell_type": "code",
   "execution_count": 5,
   "metadata": {
    "vscode": {
     "languageId": "r"
    }
   },
   "outputs": [
    {
     "data": {
      "text/html": [
       "<table class=\"dataframe\">\n",
       "<caption>A tbl_ts: 6 × 3</caption>\n",
       "<thead>\n",
       "\t<tr><th scope=col>Month</th><th scope=col>City</th><th scope=col>Sales</th></tr>\n",
       "\t<tr><th scope=col>&lt;mth&gt;</th><th scope=col>&lt;chr*&gt;</th><th scope=col>&lt;dbl&gt;</th></tr>\n",
       "</thead>\n",
       "<tbody>\n",
       "\t<tr><td>2000 Jan</td><td>&lt;aggregated&gt;</td><td> 76273</td></tr>\n",
       "\t<tr><td>2000 Feb</td><td>&lt;aggregated&gt;</td><td> 70994</td></tr>\n",
       "\t<tr><td>2000 Mar</td><td>&lt;aggregated&gt;</td><td> 72795</td></tr>\n",
       "\t<tr><td>2000 Apr</td><td>&lt;aggregated&gt;</td><td> 79561</td></tr>\n",
       "\t<tr><td>2000 May</td><td>&lt;aggregated&gt;</td><td> 92584</td></tr>\n",
       "\t<tr><td>2000 Jun</td><td>&lt;aggregated&gt;</td><td>102644</td></tr>\n",
       "</tbody>\n",
       "</table>\n"
      ],
      "text/latex": [
       "A tbl\\_ts: 6 × 3\n",
       "\\begin{tabular}{lll}\n",
       " Month & City & Sales\\\\\n",
       " <mth> & <chr*> & <dbl>\\\\\n",
       "\\hline\n",
       "\t 2000 Jan & <aggregated> &  76273\\\\\n",
       "\t 2000 Feb & <aggregated> &  70994\\\\\n",
       "\t 2000 Mar & <aggregated> &  72795\\\\\n",
       "\t 2000 Apr & <aggregated> &  79561\\\\\n",
       "\t 2000 May & <aggregated> &  92584\\\\\n",
       "\t 2000 Jun & <aggregated> & 102644\\\\\n",
       "\\end{tabular}\n"
      ],
      "text/markdown": [
       "\n",
       "A tbl_ts: 6 × 3\n",
       "\n",
       "| Month &lt;mth&gt; | City &lt;chr*&gt; | Sales &lt;dbl&gt; |\n",
       "|---|---|---|\n",
       "| 2000 Jan | &lt;aggregated&gt; |  76273 |\n",
       "| 2000 Feb | &lt;aggregated&gt; |  70994 |\n",
       "| 2000 Mar | &lt;aggregated&gt; |  72795 |\n",
       "| 2000 Apr | &lt;aggregated&gt; |  79561 |\n",
       "| 2000 May | &lt;aggregated&gt; |  92584 |\n",
       "| 2000 Jun | &lt;aggregated&gt; | 102644 |\n",
       "\n"
      ],
      "text/plain": [
       "  Month    City         Sales \n",
       "1 2000 Jan <aggregated>  76273\n",
       "2 2000 Feb <aggregated>  70994\n",
       "3 2000 Mar <aggregated>  72795\n",
       "4 2000 Apr <aggregated>  79561\n",
       "5 2000 May <aggregated>  92584\n",
       "6 2000 Jun <aggregated> 102644"
      ]
     },
     "metadata": {},
     "output_type": "display_data"
    }
   ],
   "source": [
    "sales_ts <- city_sp %>% \n",
    "pivot_longer(cols = 3:22, names_to = 'City', values_to = 'Sales') %>%\n",
    "mutate(Month = yearmonth(as.Date(paste(YEAR,MONTH,1,sep='-')))) %>%\n",
    "select(-YEAR, -MONTH) %>%\n",
    "as_tsibble(index=Month, key=City) %>%\n",
    "aggregate_key(City, Sales = sum(Sales))\n",
    "\n",
    "sales_ts %>% head()\n"
   ]
  },
  {
   "cell_type": "code",
   "execution_count": 6,
   "metadata": {
    "vscode": {
     "languageId": "r"
    }
   },
   "outputs": [
    {
     "data": {
      "image/png": "[encoded data removed]",
      "text/plain": [
       "plot without title"
      ]
     },
     "metadata": {
      "image/png": {
       "height": 420,
       "width": 420
      }
     },
     "output_type": "display_data"
    }
   ],
   "source": [
    "sales_ts %>%\n",
    "filter(is_aggregated(City)) %>%\n",
    "autoplot(Sales) +\n",
    "labs(title='National Sales Pairs', x='', y='Sales Pair Counts')"
   ]
  },
  {
   "cell_type": "code",
   "execution_count": 8,
   "metadata": {
    "vscode": {
     "languageId": "r"
    }
   },
   "outputs": [
    {
     "name": "stderr",
     "output_type": "stream",
     "text": [
      "Warning message:\n",
      "\"\u001b[1m\u001b[22mRemoved 1 row containing missing values (`geom_line()`).\"\n"
     ]
    },
    {
     "data": {
      "image/png": "[encoded data removed]",
      "text/plain": [
       "plot without title"
      ]
     },
     "metadata": {
      "image/png": {
       "height": 420,
       "width": 420
      }
     },
     "output_type": "display_data"
    }
   ],
   "source": [
    "sales_ts %>%\n",
    "filter(is_aggregated(City)) %>%\n",
    "gg_season(difference(Sales)) +\n",
    "labs(title = 'Change in Sales Pair', x='', y='Change in Sales Pairs')"
   ]
  },
  {
   "cell_type": "code",
   "execution_count": 10,
   "metadata": {
    "vscode": {
     "languageId": "r"
    }
   },
   "outputs": [
    {
     "data": {
      "image/png": "[encoded data removed]",
      "text/plain": [
       "plot without title"
      ]
     },
     "metadata": {
      "image/png": {
       "height": 420,
       "width": 420
      }
     },
     "output_type": "display_data"
    }
   ],
   "source": [
    "sales_ts %>%\n",
    "filter(!is_aggregated(City)) %>%\n",
    "autoplot(Sales) +\n",
    "labs(title='National Sales Pairs', x='', y='Sales Pair Counts') +\n",
    "facet_wrap(. ~ City,nrow = 5, ncol = 4)"
   ]
  },
  {
   "cell_type": "markdown",
   "metadata": {},
   "source": [
    "#### Split to Training and test"
   ]
  },
  {
   "cell_type": "code",
   "execution_count": 11,
   "metadata": {
    "vscode": {
     "languageId": "r"
    }
   },
   "outputs": [],
   "source": [
    "sp_training <- sales_ts %>% filter_index(. ~ '2021 Dec')\n",
    "sp_test <- sales_ts %>% filter_index('2022 Jan' ~ .)"
   ]
  },
  {
   "cell_type": "code",
   "execution_count": 12,
   "metadata": {
    "vscode": {
     "languageId": "r"
    }
   },
   "outputs": [
    {
     "name": "stderr",
     "output_type": "stream",
     "text": [
      "Warning message in sqrt(diag(best$var.coef)):\n",
      "\"NaNs produced\"\n"
     ]
    }
   ],
   "source": [
    "sp_models <- sp_training %>%\n",
    "model('ETS' = ETS(Sales), 'ARIMA' = ARIMA(Sales)) %>%\n",
    "reconcile(bu = bottom_up(ARIMA), MinT = min_trace(ARIMA, method = \"mint_shrink\"))"
   ]
  },
  {
   "cell_type": "code",
   "execution_count": 13,
   "metadata": {
    "vscode": {
     "languageId": "r"
    }
   },
   "outputs": [
    {
     "data": {
      "text/html": [
       "<table class=\"dataframe\">\n",
       "<caption>A mdl_df: 6 × 5</caption>\n",
       "<thead>\n",
       "\t<tr><th scope=col>City</th><th scope=col>ETS</th><th scope=col>ARIMA</th><th scope=col>bu</th><th scope=col>MinT</th></tr>\n",
       "\t<tr><th scope=col>&lt;chr*&gt;</th><th scope=col>&lt;model&gt;</th><th scope=col>&lt;model&gt;</th><th scope=col>&lt;model&gt;</th><th scope=col>&lt;model&gt;</th></tr>\n",
       "</thead>\n",
       "<tbody>\n",
       "\t<tr><td>ATXR</td><td>&lt;ETS(M,Ad,M)&gt;</td><td>&lt;ARIMA(1,0,2)(0,1,1)[12]&gt;</td><td>&lt;ARIMA(1,0,2)(0,1,1)[12]&gt;</td><td>&lt;ARIMA(1,0,2)(0,1,1)[12]&gt;</td></tr>\n",
       "\t<tr><td>BOXR</td><td>&lt;ETS(M,Ad,M)&gt;</td><td>&lt;ARIMA(1,0,2)(1,1,2)[12]&gt;</td><td>&lt;ARIMA(1,0,2)(1,1,2)[12]&gt;</td><td>&lt;ARIMA(1,0,2)(1,1,2)[12]&gt;</td></tr>\n",
       "\t<tr><td>CEXR</td><td>&lt;ETS(M,N,M)&gt;</td><td>&lt;ARIMA(0,1,5)(0,1,1)[12]&gt;</td><td>&lt;ARIMA(0,1,5)(0,1,1)[12]&gt;</td><td>&lt;ARIMA(0,1,5)(0,1,1)[12]&gt;</td></tr>\n",
       "\t<tr><td>CHXR</td><td>&lt;ETS(M,Ad,M)&gt;</td><td>&lt;ARIMA(2,1,3)(0,1,1)[12]&gt;</td><td>&lt;ARIMA(2,1,3)(0,1,1)[12]&gt;</td><td>&lt;ARIMA(2,1,3)(0,1,1)[12]&gt;</td></tr>\n",
       "\t<tr><td>CRXR</td><td>&lt;ETS(M,Ad,M)&gt;</td><td>&lt;ARIMA(1,0,2)(1,1,2)[12]&gt;</td><td>&lt;ARIMA(1,0,2)(1,1,2)[12]&gt;</td><td>&lt;ARIMA(1,0,2)(1,1,2)[12]&gt;</td></tr>\n",
       "\t<tr><td>DAXR</td><td>&lt;ETS(M,Ad,M)&gt;</td><td>&lt;ARIMA(2,0,3)(0,1,1)[12] w/ drift&gt;</td><td>&lt;ARIMA(2,0,3)(0,1,1)[12] w/ drift&gt;</td><td>&lt;ARIMA(2,0,3)(0,1,1)[12] w/ drift&gt;</td></tr>\n",
       "</tbody>\n",
       "</table>\n"
      ],
      "text/latex": [
       "A mdl\\_df: 6 × 5\n",
       "\\begin{tabular}{lllll}\n",
       " City & ETS & ARIMA & bu & MinT\\\\\n",
       " <chr*> & <model> & <model> & <model> & <model>\\\\\n",
       "\\hline\n",
       "\t ATXR & <ETS(M,Ad,M)> & <ARIMA(1,0,2)(0,1,1){[}12{]}> & <ARIMA(1,0,2)(0,1,1){[}12{]}> & <ARIMA(1,0,2)(0,1,1){[}12{]}>\\\\\n",
       "\t BOXR & <ETS(M,Ad,M)> & <ARIMA(1,0,2)(1,1,2){[}12{]}> & <ARIMA(1,0,2)(1,1,2){[}12{]}> & <ARIMA(1,0,2)(1,1,2){[}12{]}>\\\\\n",
       "\t CEXR & <ETS(M,N,M)> & <ARIMA(0,1,5)(0,1,1){[}12{]}> & <ARIMA(0,1,5)(0,1,1){[}12{]}> & <ARIMA(0,1,5)(0,1,1){[}12{]}>\\\\\n",
       "\t CHXR & <ETS(M,Ad,M)> & <ARIMA(2,1,3)(0,1,1){[}12{]}> & <ARIMA(2,1,3)(0,1,1){[}12{]}> & <ARIMA(2,1,3)(0,1,1){[}12{]}>\\\\\n",
       "\t CRXR & <ETS(M,Ad,M)> & <ARIMA(1,0,2)(1,1,2){[}12{]}> & <ARIMA(1,0,2)(1,1,2){[}12{]}> & <ARIMA(1,0,2)(1,1,2){[}12{]}>\\\\\n",
       "\t DAXR & <ETS(M,Ad,M)> & <ARIMA(2,0,3)(0,1,1){[}12{]} w/ drift> & <ARIMA(2,0,3)(0,1,1){[}12{]} w/ drift> & <ARIMA(2,0,3)(0,1,1){[}12{]} w/ drift>\\\\\n",
       "\\end{tabular}\n"
      ],
      "text/markdown": [
       "\n",
       "A mdl_df: 6 × 5\n",
       "\n",
       "| City &lt;chr*&gt; | ETS &lt;model&gt; | ARIMA &lt;model&gt; | bu &lt;model&gt; | MinT &lt;model&gt; |\n",
       "|---|---|---|---|---|\n",
       "| ATXR | &lt;ETS(M,Ad,M)&gt; | &lt;ARIMA(1,0,2)(0,1,1)[12]&gt; | &lt;ARIMA(1,0,2)(0,1,1)[12]&gt; | &lt;ARIMA(1,0,2)(0,1,1)[12]&gt; |\n",
       "| BOXR | &lt;ETS(M,Ad,M)&gt; | &lt;ARIMA(1,0,2)(1,1,2)[12]&gt; | &lt;ARIMA(1,0,2)(1,1,2)[12]&gt; | &lt;ARIMA(1,0,2)(1,1,2)[12]&gt; |\n",
       "| CEXR | &lt;ETS(M,N,M)&gt; | &lt;ARIMA(0,1,5)(0,1,1)[12]&gt; | &lt;ARIMA(0,1,5)(0,1,1)[12]&gt; | &lt;ARIMA(0,1,5)(0,1,1)[12]&gt; |\n",
       "| CHXR | &lt;ETS(M,Ad,M)&gt; | &lt;ARIMA(2,1,3)(0,1,1)[12]&gt; | &lt;ARIMA(2,1,3)(0,1,1)[12]&gt; | &lt;ARIMA(2,1,3)(0,1,1)[12]&gt; |\n",
       "| CRXR | &lt;ETS(M,Ad,M)&gt; | &lt;ARIMA(1,0,2)(1,1,2)[12]&gt; | &lt;ARIMA(1,0,2)(1,1,2)[12]&gt; | &lt;ARIMA(1,0,2)(1,1,2)[12]&gt; |\n",
       "| DAXR | &lt;ETS(M,Ad,M)&gt; | &lt;ARIMA(2,0,3)(0,1,1)[12] w/ drift&gt; | &lt;ARIMA(2,0,3)(0,1,1)[12] w/ drift&gt; | &lt;ARIMA(2,0,3)(0,1,1)[12] w/ drift&gt; |\n",
       "\n"
      ],
      "text/plain": [
       "  City ETS           ARIMA                             \n",
       "1 ATXR <ETS(M,Ad,M)> <ARIMA(1,0,2)(0,1,1)[12]>         \n",
       "2 BOXR <ETS(M,Ad,M)> <ARIMA(1,0,2)(1,1,2)[12]>         \n",
       "3 CEXR <ETS(M,N,M)>  <ARIMA(0,1,5)(0,1,1)[12]>         \n",
       "4 CHXR <ETS(M,Ad,M)> <ARIMA(2,1,3)(0,1,1)[12]>         \n",
       "5 CRXR <ETS(M,Ad,M)> <ARIMA(1,0,2)(1,1,2)[12]>         \n",
       "6 DAXR <ETS(M,Ad,M)> <ARIMA(2,0,3)(0,1,1)[12] w/ drift>\n",
       "  bu                                 MinT                              \n",
       "1 <ARIMA(1,0,2)(0,1,1)[12]>          <ARIMA(1,0,2)(0,1,1)[12]>         \n",
       "2 <ARIMA(1,0,2)(1,1,2)[12]>          <ARIMA(1,0,2)(1,1,2)[12]>         \n",
       "3 <ARIMA(0,1,5)(0,1,1)[12]>          <ARIMA(0,1,5)(0,1,1)[12]>         \n",
       "4 <ARIMA(2,1,3)(0,1,1)[12]>          <ARIMA(2,1,3)(0,1,1)[12]>         \n",
       "5 <ARIMA(1,0,2)(1,1,2)[12]>          <ARIMA(1,0,2)(1,1,2)[12]>         \n",
       "6 <ARIMA(2,0,3)(0,1,1)[12] w/ drift> <ARIMA(2,0,3)(0,1,1)[12] w/ drift>"
      ]
     },
     "metadata": {},
     "output_type": "display_data"
    }
   ],
   "source": [
    "sp_models %>%\n",
    "head()"
   ]
  },
  {
   "cell_type": "markdown",
   "metadata": {},
   "source": [
    "#### Training Accuracy"
   ]
  },
  {
   "cell_type": "code",
   "execution_count": 14,
   "metadata": {
    "vscode": {
     "languageId": "r"
    }
   },
   "outputs": [
    {
     "data": {
      "image/png": "[encoded data removed]",
      "text/plain": [
       "plot without title"
      ]
     },
     "metadata": {
      "image/png": {
       "height": 420,
       "width": 420
      }
     },
     "output_type": "display_data"
    }
   ],
   "source": [
    "sp_models %>%\n",
    "select(-bu, -MinT) %>%\n",
    "filter(!is_aggregated(City)) %>%\n",
    "accuracy() %>% \n",
    "select(City, .model, RMSE) %>%\n",
    "rename(Model = .model) %>%\n",
    "ungroup() %>%\n",
    "pivot_wider(names_from = Model, values_from = RMSE) %>%\n",
    "ggplot(aes(x=ETS, y=ARIMA)) + geom_point() + geom_abline(intercept = 0, slope=1) +\n",
    "annotate('text', x=200, y=400, label='ETS Lower RMSE') +\n",
    "annotate('text', x=500, y=200, label='ARIMA Lower RMSE') +\n",
    "labs(title='Training Accuracy for each City (RMSE)', x='ETS RMSE', y='ARIMA RMSE')\n"
   ]
  },
  {
   "cell_type": "code",
   "execution_count": 15,
   "metadata": {
    "vscode": {
     "languageId": "r"
    }
   },
   "outputs": [
    {
     "data": {
      "text/html": [
       "<table class=\"dataframe\">\n",
       "<caption>A tibble: 2 × 3</caption>\n",
       "<thead>\n",
       "\t<tr><th scope=col>City</th><th scope=col>.model</th><th scope=col>RMSE</th></tr>\n",
       "\t<tr><th scope=col>&lt;chr*&gt;</th><th scope=col>&lt;chr&gt;</th><th scope=col>&lt;dbl&gt;</th></tr>\n",
       "</thead>\n",
       "<tbody>\n",
       "\t<tr><td>&lt;aggregated&gt;</td><td><span style=white-space:pre-wrap>ETS  </span></td><td>4397.115</td></tr>\n",
       "\t<tr><td>&lt;aggregated&gt;</td><td>ARIMA</td><td>3469.482</td></tr>\n",
       "</tbody>\n",
       "</table>\n"
      ],
      "text/latex": [
       "A tibble: 2 × 3\n",
       "\\begin{tabular}{lll}\n",
       " City & .model & RMSE\\\\\n",
       " <chr*> & <chr> & <dbl>\\\\\n",
       "\\hline\n",
       "\t <aggregated> & ETS   & 4397.115\\\\\n",
       "\t <aggregated> & ARIMA & 3469.482\\\\\n",
       "\\end{tabular}\n"
      ],
      "text/markdown": [
       "\n",
       "A tibble: 2 × 3\n",
       "\n",
       "| City &lt;chr*&gt; | .model &lt;chr&gt; | RMSE &lt;dbl&gt; |\n",
       "|---|---|---|\n",
       "| &lt;aggregated&gt; | ETS   | 4397.115 |\n",
       "| &lt;aggregated&gt; | ARIMA | 3469.482 |\n",
       "\n"
      ],
      "text/plain": [
       "  City         .model RMSE    \n",
       "1 <aggregated> ETS    4397.115\n",
       "2 <aggregated> ARIMA  3469.482"
      ]
     },
     "metadata": {},
     "output_type": "display_data"
    }
   ],
   "source": [
    "sp_models %>%\n",
    "select(-bu, -MinT) %>%\n",
    "accuracy() %>% \n",
    "filter(is_aggregated(City)) %>%\n",
    "select(City, .model, RMSE)"
   ]
  },
  {
   "cell_type": "markdown",
   "metadata": {},
   "source": [
    "#### Test Accuracy"
   ]
  },
  {
   "cell_type": "code",
   "execution_count": 16,
   "metadata": {
    "vscode": {
     "languageId": "r"
    }
   },
   "outputs": [],
   "source": [
    "sp_forecasts <- sp_models %>%\n",
    "forecast(sp_test)"
   ]
  },
  {
   "cell_type": "code",
   "execution_count": 17,
   "metadata": {
    "vscode": {
     "languageId": "r"
    }
   },
   "outputs": [
    {
     "data": {
      "image/png": "[encoded data removed]",
      "text/plain": [
       "plot without title"
      ]
     },
     "metadata": {
      "image/png": {
       "height": 420,
       "width": 420
      }
     },
     "output_type": "display_data"
    }
   ],
   "source": [
    "sp_forecasts %>%\n",
    "accuracy(sp_test) %>% \n",
    "filter(!is_aggregated(City)) %>%\n",
    "select(City, .model, RMSE) %>%\n",
    "rename(Model = .model) %>%\n",
    "ungroup() %>%\n",
    "pivot_wider(names_from = Model, values_from = RMSE) %>%\n",
    "ggplot(aes(x=ETS, y=ARIMA)) + geom_point() + geom_abline(intercept = 0, slope=1) +\n",
    "annotate('text', x=2000, y=4000, label='ETS Lower RMSE') +\n",
    "annotate('text', x=4000, y=500, label='ARIMA Lower RMSE') +\n",
    "labs(title='Test Accuracy for each City (RMSE)', x='ETS RMSE', y='ARIMA RMSE')"
   ]
  },
  {
   "cell_type": "code",
   "execution_count": 18,
   "metadata": {
    "vscode": {
     "languageId": "r"
    }
   },
   "outputs": [
    {
     "data": {
      "text/html": [
       "<table class=\"dataframe\">\n",
       "<caption>A tibble: 4 × 3</caption>\n",
       "<thead>\n",
       "\t<tr><th scope=col>City</th><th scope=col>.model</th><th scope=col>RMSE</th></tr>\n",
       "\t<tr><th scope=col>&lt;chr*&gt;</th><th scope=col>&lt;chr&gt;</th><th scope=col>&lt;dbl&gt;</th></tr>\n",
       "</thead>\n",
       "<tbody>\n",
       "\t<tr><td>&lt;aggregated&gt;</td><td>ARIMA</td><td>29870.53</td></tr>\n",
       "\t<tr><td>&lt;aggregated&gt;</td><td><span style=white-space:pre-wrap>ETS  </span></td><td>50492.67</td></tr>\n",
       "\t<tr><td>&lt;aggregated&gt;</td><td>MinT </td><td>39564.81</td></tr>\n",
       "\t<tr><td>&lt;aggregated&gt;</td><td><span style=white-space:pre-wrap>bu   </span></td><td>41739.63</td></tr>\n",
       "</tbody>\n",
       "</table>\n"
      ],
      "text/latex": [
       "A tibble: 4 × 3\n",
       "\\begin{tabular}{lll}\n",
       " City & .model & RMSE\\\\\n",
       " <chr*> & <chr> & <dbl>\\\\\n",
       "\\hline\n",
       "\t <aggregated> & ARIMA & 29870.53\\\\\n",
       "\t <aggregated> & ETS   & 50492.67\\\\\n",
       "\t <aggregated> & MinT  & 39564.81\\\\\n",
       "\t <aggregated> & bu    & 41739.63\\\\\n",
       "\\end{tabular}\n"
      ],
      "text/markdown": [
       "\n",
       "A tibble: 4 × 3\n",
       "\n",
       "| City &lt;chr*&gt; | .model &lt;chr&gt; | RMSE &lt;dbl&gt; |\n",
       "|---|---|---|\n",
       "| &lt;aggregated&gt; | ARIMA | 29870.53 |\n",
       "| &lt;aggregated&gt; | ETS   | 50492.67 |\n",
       "| &lt;aggregated&gt; | MinT  | 39564.81 |\n",
       "| &lt;aggregated&gt; | bu    | 41739.63 |\n",
       "\n"
      ],
      "text/plain": [
       "  City         .model RMSE    \n",
       "1 <aggregated> ARIMA  29870.53\n",
       "2 <aggregated> ETS    50492.67\n",
       "3 <aggregated> MinT   39564.81\n",
       "4 <aggregated> bu     41739.63"
      ]
     },
     "metadata": {},
     "output_type": "display_data"
    }
   ],
   "source": [
    "sp_forecasts %>%\n",
    "accuracy(sp_test) %>% \n",
    "filter(is_aggregated(City)) %>%\n",
    "select(City, .model, RMSE)"
   ]
  },
  {
   "cell_type": "code",
   "execution_count": 19,
   "metadata": {
    "vscode": {
     "languageId": "r"
    }
   },
   "outputs": [
    {
     "data": {
      "image/png": "[encoded data removed]",
      "text/plain": [
       "plot without title"
      ]
     },
     "metadata": {
      "image/png": {
       "height": 420,
       "width": 420
      }
     },
     "output_type": "display_data"
    }
   ],
   "source": [
    "sp_forecasts %>%\n",
    "filter(!is_aggregated(City), .model == 'MinT') %>%\n",
    "autoplot(sales_ts %>% filter_index('2018 Jan' ~ .)) +\n",
    "facet_wrap(vars(City), scales='free_y')"
   ]
  },
  {
   "cell_type": "code",
   "execution_count": 20,
   "metadata": {
    "vscode": {
     "languageId": "r"
    }
   },
   "outputs": [
    {
     "data": {
      "image/png": "[encoded data removed]",
      "text/plain": [
       "plot without title"
      ]
     },
     "metadata": {
      "image/png": {
       "height": 420,
       "width": 420
      }
     },
     "output_type": "display_data"
    }
   ],
   "source": [
    "sp_forecasts %>%\n",
    "filter(is_aggregated(City)) %>%\n",
    "autoplot(sales_ts %>% filter_index('2018 Jan' ~ .)) +\n",
    "facet_wrap(vars(.model))"
   ]
  },
  {
   "cell_type": "markdown",
   "metadata": {},
   "source": [
    "#### Retrain for Out-of-Sample"
   ]
  },
  {
   "cell_type": "code",
   "execution_count": 21,
   "metadata": {
    "vscode": {
     "languageId": "r"
    }
   },
   "outputs": [
    {
     "data": {
      "image/png": "[encoded data removed]",
      "text/plain": [
       "plot without title"
      ]
     },
     "metadata": {
      "image/png": {
       "height": 420,
       "width": 420
      }
     },
     "output_type": "display_data"
    }
   ],
   "source": [
    "final_sales_model <- sales_ts %>%\n",
    "model('ARIMA' = ARIMA(Sales)) %>%\n",
    "reconcile(MinT = min_trace(ARIMA, method = \"mint_shrink\"))\n",
    "\n",
    "final_sales_forecasts <- final_sales_model %>% forecast(h='12 months')\n",
    "\n",
    "final_sales_forecasts %>%\n",
    "filter(!is_aggregated(City), .model == 'MinT') %>%\n",
    "autoplot(sales_ts %>% filter_index('2018 Jan' ~ .)) +\n",
    "facet_wrap(vars(City), scales='free_y')"
   ]
  },
  {
   "cell_type": "code",
   "execution_count": 22,
   "metadata": {
    "vscode": {
     "languageId": "r"
    }
   },
   "outputs": [
    {
     "data": {
      "image/png": "[encoded data removed]",
      "text/plain": [
       "plot without title"
      ]
     },
     "metadata": {
      "image/png": {
       "height": 420,
       "width": 420
      }
     },
     "output_type": "display_data"
    }
   ],
   "source": [
    "final_sales_forecasts %>%\n",
    "filter(is_aggregated(City)) %>%\n",
    "autoplot(sales_ts %>% filter_index('2018 Jan' ~ .)) +\n",
    "facet_wrap(vars(.model), nrow=1)"
   ]
  }
 ],
 "metadata": {
  "kernelspec": {
   "display_name": "R",
   "language": "R",
   "name": "ir"
  },
  "language_info": {
   "codemirror_mode": "r",
   "file_extension": ".r",
   "mimetype": "text/x-r-source",
   "name": "R",
   "pygments_lexer": "r",
   "version": "4.3.1"
  }
 },
 "nbformat": 4,
 "nbformat_minor": 2
}
