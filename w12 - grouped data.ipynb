{
 "cells": [
  {
   "cell_type": "markdown",
   "metadata": {},
   "source": [
    "### Nested Time Series"
   ]
  },
  {
   "cell_type": "code",
   "execution_count": 1,
   "metadata": {
    "vscode": {
     "languageId": "r"
    }
   },
   "outputs": [
    {
     "name": "stderr",
     "output_type": "stream",
     "text": [
      "Warning message:\n",
      "\"package 'ggplot2' was built under R version 4.3.2\"\n"
     ]
    }
   ],
   "source": [
    "suppressMessages(library(tidyverse))\n",
    "suppressMessages(library(tsibble))\n",
    "suppressMessages(library(fable))\n",
    "suppressMessages(library(tsibble))\n",
    "suppressMessages(library(fabletools))\n",
    "suppressMessages(library(feasts))\n",
    "suppressMessages(library(lubridate))\n",
    "suppressMessages(library(scales))\n",
    "suppressMessages(library(fpp3))\n",
    "suppressMessages(library(gridExtra))"
   ]
  },
  {
   "cell_type": "code",
   "execution_count": null,
   "metadata": {
    "vscode": {
     "languageId": "r"
    }
   },
   "outputs": [],
   "source": [
    "tsibble::tourism %>% head()"
   ]
  },
  {
   "cell_type": "code",
   "execution_count": null,
   "metadata": {
    "vscode": {
     "languageId": "r"
    }
   },
   "outputs": [],
   "source": [
    "tourism <- tsibble::tourism |>\n",
    "  mutate(State = recode(State,\n",
    "    `New South Wales` = \"NSW\",\n",
    "    `Northern Territory` = \"NT\",\n",
    "    `Queensland` = \"QLD\",\n",
    "    `South Australia` = \"SA\",\n",
    "    `Tasmania` = \"TAS\",\n",
    "    `Victoria` = \"VIC\",\n",
    "    `Western Australia` = \"WA\"\n",
    "  ))\n",
    "\n",
    "tourism_hts <- tourism |>\n",
    "aggregate_key(State / Region, Trips = sum(Trips))\n",
    "\n",
    "tourism_hts %>% head()"
   ]
  },
  {
   "cell_type": "code",
   "execution_count": null,
   "metadata": {
    "vscode": {
     "languageId": "r"
    }
   },
   "outputs": [],
   "source": [
    "tourism_hts %>% filter(State == 'WA', !is_aggregated(Region)) %>% head(10)"
   ]
  },
  {
   "cell_type": "code",
   "execution_count": null,
   "metadata": {
    "vscode": {
     "languageId": "r"
    }
   },
   "outputs": [],
   "source": [
    "tourism_hts |>\n",
    "  filter(is_aggregated(Region)) |>\n",
    "  autoplot(Trips) +\n",
    "  labs(y = \"Trips ('000)\",\n",
    "       title = \"Australian tourism: national and states\") +\n",
    "  facet_wrap(vars(State), scales = \"free_y\", ncol = 3) +\n",
    "  theme(legend.position = \"none\")"
   ]
  },
  {
   "cell_type": "code",
   "execution_count": null,
   "metadata": {
    "vscode": {
     "languageId": "r"
    }
   },
   "outputs": [],
   "source": [
    "tourism_hts |>\n",
    "  autoplot(Trips) +\n",
    "  labs(y = \"Trips ('000)\",\n",
    "       title = \"Australian tourism: national, states, and regions\") +\n",
    "  facet_wrap(vars(State), scales = \"free_y\", ncol = 3) +\n",
    "  theme(legend.position = \"none\")"
   ]
  },
  {
   "cell_type": "code",
   "execution_count": null,
   "metadata": {
    "vscode": {
     "languageId": "r"
    }
   },
   "outputs": [],
   "source": [
    "tourism_hts |>\n",
    "  filter(State == \"NT\" | State == \"QLD\" |\n",
    "         State == \"TAS\" | State == \"VIC\", is_aggregated(Region)) |>\n",
    "  select(-Region) |>\n",
    "  mutate(State = factor(State, levels=c(\"QLD\",\"VIC\",\"NT\",\"TAS\"))) |>\n",
    "  gg_season(Trips) +\n",
    "  facet_wrap(vars(State), nrow = 2, scales = \"free_y\")+\n",
    "  labs(y = \"Trips ('000)\")"
   ]
  },
  {
   "cell_type": "markdown",
   "metadata": {},
   "source": [
    "### Grouped Data"
   ]
  },
  {
   "cell_type": "code",
   "execution_count": null,
   "metadata": {
    "vscode": {
     "languageId": "r"
    }
   },
   "outputs": [],
   "source": [
    "prison <- readr::read_csv(\"https://OTexts.com/fpp3/extrafiles/prison_population.csv\") |>\n",
    "  mutate(Quarter = yearquarter(Date)) |>\n",
    "  select(-Date)  |>\n",
    "  as_tsibble(key = c(Gender, Legal, State, Indigenous),\n",
    "             index = Quarter) |>\n",
    "  relocate(Quarter)"
   ]
  },
  {
   "cell_type": "code",
   "execution_count": null,
   "metadata": {
    "vscode": {
     "languageId": "r"
    }
   },
   "outputs": [],
   "source": [
    "prison %>% head()"
   ]
  },
  {
   "cell_type": "code",
   "execution_count": null,
   "metadata": {
    "vscode": {
     "languageId": "r"
    }
   },
   "outputs": [],
   "source": [
    "prisoners_gts <- prison %>%\n",
    "    aggregate_key(Gender * Legal * State, Count = sum(Count)/1e3)"
   ]
  },
  {
   "cell_type": "code",
   "execution_count": null,
   "metadata": {
    "vscode": {
     "languageId": "r"
    }
   },
   "outputs": [],
   "source": [
    "prisoners_gts %>% head()"
   ]
  },
  {
   "cell_type": "code",
   "execution_count": null,
   "metadata": {
    "vscode": {
     "languageId": "r"
    }
   },
   "outputs": [],
   "source": [
    "prisoners_gts |>\n",
    "  filter(is_aggregated(Gender), is_aggregated(Legal),\n",
    "         is_aggregated(State)) |>\n",
    "  autoplot(Count) +\n",
    "  labs(y = \"Number of prisoners ('000)\")"
   ]
  },
  {
   "cell_type": "code",
   "execution_count": null,
   "metadata": {
    "vscode": {
     "languageId": "r"
    }
   },
   "outputs": [],
   "source": [
    "options(repr.plot.width=15, repr.plot.height=8)\n",
    "\n",
    "prisoners_gts |>\n",
    "  filter(!is_aggregated(Gender), is_aggregated(Legal),\n",
    "         is_aggregated(State)) |>\n",
    "  mutate(Gender = as.character(Gender)) |>\n",
    "  ggplot(aes(x = Quarter, y = Count)) +\n",
    "  stat_summary(fun = sum, geom = \"line\") +\n",
    "  labs(title = \"Prison population by ender\",\n",
    "       y = \"Number of prisoners ('000)\") +\n",
    "  facet_wrap(~ as.character(Gender), nrow = 1) +\n",
    "  theme(axis.text.x = element_text(angle = 90, hjust = 1))"
   ]
  },
  {
   "cell_type": "code",
   "execution_count": null,
   "metadata": {
    "vscode": {
     "languageId": "r"
    }
   },
   "outputs": [],
   "source": [
    "options(repr.plot.width=15, repr.plot.height=8)\n",
    "\n",
    "prisoners_gts |>\n",
    "  filter(!is_aggregated(Gender), !is_aggregated(Legal),\n",
    "         !is_aggregated(State)) |>\n",
    "  mutate(Gender = as.character(Gender)) |>\n",
    "  ggplot(aes(x = Quarter, y = Count,\n",
    "             group = Gender, colour=Gender)) +\n",
    "  stat_summary(fun = sum, geom = \"line\") +\n",
    "  labs(title = \"Prison population by state and gender\",\n",
    "       y = \"Number of prisoners ('000)\") +\n",
    "  facet_wrap(~ as.character(State),\n",
    "             nrow = 1) +\n",
    "  theme(axis.text.x = element_text(angle = 90, hjust = 1))"
   ]
  },
  {
   "cell_type": "code",
   "execution_count": null,
   "metadata": {
    "vscode": {
     "languageId": "r"
    }
   },
   "outputs": [],
   "source": [
    "options(repr.plot.width=15, repr.plot.height=8)\n",
    "\n",
    "prisoners_gts |>\n",
    "  filter(!is_aggregated(Gender), !is_aggregated(Legal),\n",
    "         is_aggregated(State)) |>\n",
    "  mutate(Gender = as.character(Gender)) |>\n",
    "  ggplot(aes(x = Quarter, y = Count,\n",
    "             group = Gender, colour=Gender)) +\n",
    "  stat_summary(fun = sum, geom = \"line\") +\n",
    "  labs(title = \"Prison population by state and legal\",\n",
    "       y = \"Number of prisoners ('000)\") +\n",
    "  facet_wrap(~ as.character(Legal), nrow = 1) +\n",
    "  theme(axis.text.x = element_text(angle = 90, hjust = 1))"
   ]
  },
  {
   "cell_type": "markdown",
   "metadata": {},
   "source": [
    "### Crossed Data Example with Tourism"
   ]
  },
  {
   "cell_type": "code",
   "execution_count": null,
   "metadata": {
    "vscode": {
     "languageId": "r"
    }
   },
   "outputs": [],
   "source": [
    "tourism_full <- tourism |>\n",
    "  aggregate_key((State/Region) * Purpose, Trips = sum(Trips))\n",
    "\n",
    "tourism_full %>% head()"
   ]
  },
  {
   "cell_type": "code",
   "execution_count": null,
   "metadata": {
    "vscode": {
     "languageId": "r"
    }
   },
   "outputs": [],
   "source": [
    "tourism_full |>\n",
    "filter(!is_aggregated(State), is_aggregated(Region), is_aggregated(Purpose)) |>\n",
    "mutate(State = as.character(State)) |>\n",
    "ggplot(aes(x=Quarter, y=Trips, group=State, colour=State)) +\n",
    "stat_summary(fun = sum, geom = \"line\") +\n",
    "facet_wrap(as.character(Purpose) ~ ., scales = \"free_y\", ncol = 1)  + \n",
    "labs(y = \"Trips ('000)\", title = \"Australian tourism: State and Purpose\")"
   ]
  },
  {
   "cell_type": "markdown",
   "metadata": {},
   "source": [
    "### Bottom-ups Forecast for Tourism\n",
    "State to National Forecasts"
   ]
  },
  {
   "cell_type": "code",
   "execution_count": null,
   "metadata": {
    "vscode": {
     "languageId": "r"
    }
   },
   "outputs": [],
   "source": [
    "tourism_states <- tourism |>\n",
    "  aggregate_key(State, Trips = sum(Trips))\n",
    "\n",
    "tourism_states %>% head()"
   ]
  },
  {
   "cell_type": "code",
   "execution_count": null,
   "metadata": {
    "vscode": {
     "languageId": "r"
    }
   },
   "outputs": [],
   "source": [
    "tourism_states |> count(State)"
   ]
  },
  {
   "cell_type": "code",
   "execution_count": null,
   "metadata": {
    "vscode": {
     "languageId": "r"
    }
   },
   "outputs": [],
   "source": [
    "tourism_states |>\n",
    "  filter(!is_aggregated(State)) |>\n",
    "  autoplot(Trips) +\n",
    "  labs(y = \"Trips ('000)\",\n",
    "       title = \"Australian tourism: national and states\") +\n",
    "  facet_wrap(vars(State), scales = \"free_y\", ncol = 2) +\n",
    "  theme(legend.position = \"none\")"
   ]
  },
  {
   "cell_type": "markdown",
   "metadata": {},
   "source": [
    "Could produce the forecasts and simply sum to get the aggregates:"
   ]
  },
  {
   "cell_type": "code",
   "execution_count": null,
   "metadata": {
    "vscode": {
     "languageId": "r"
    }
   },
   "outputs": [],
   "source": [
    "fcasts_state <- tourism_states |>\n",
    "  filter(!is_aggregated(State)) |>\n",
    "  model(ets = ETS(Trips)) |>\n",
    "  forecast()\n",
    "\n",
    "# Sum bottom-level forecasts to get top-level forecasts\n",
    "fcasts_national <- fcasts_state |>\n",
    "  summarise(value = sum(Trips), .mean = mean(value))"
   ]
  },
  {
   "cell_type": "code",
   "execution_count": null,
   "metadata": {
    "vscode": {
     "languageId": "r"
    }
   },
   "outputs": [],
   "source": [
    "fcasts_state %>% autoplot(tourism_states)  +\n",
    "  theme(legend.position = \"none\")"
   ]
  },
  {
   "cell_type": "code",
   "execution_count": null,
   "metadata": {
    "vscode": {
     "languageId": "r"
    }
   },
   "outputs": [],
   "source": [
    "fcasts_national %>% autoplot()"
   ]
  },
  {
   "cell_type": "markdown",
   "metadata": {},
   "source": [
    "Or use reconciliation which is going to be more generalized:"
   ]
  },
  {
   "cell_type": "code",
   "execution_count": null,
   "metadata": {
    "vscode": {
     "languageId": "r"
    }
   },
   "outputs": [],
   "source": [
    "fcast_both <- tourism_states |>\n",
    "  model(ets = ETS(Trips)) |>\n",
    "  reconcile(bu = bottom_up(ets)) |>\n",
    "  forecast()\n",
    "\n",
    "fcast_both %>% filter(is_aggregated(State)) %>% autoplot(tourism_states) + facet_wrap(. ~ .model, ncol=1)"
   ]
  },
  {
   "cell_type": "markdown",
   "metadata": {},
   "source": [
    "### Comparing Top-down Methods"
   ]
  },
  {
   "cell_type": "code",
   "execution_count": null,
   "metadata": {
    "vscode": {
     "languageId": "r"
    }
   },
   "outputs": [],
   "source": [
    "tourism_states |>\n",
    "  model(ets = ETS(Trips)) |>\n",
    "  reconcile(td = top_down(ets, method = 'average_proportions')) |>\n",
    "  forecast() |>\n",
    "  filter(!is_aggregated(State), .model == 'td') |>\n",
    "  autoplot(tourism_states)  +\n",
    "  theme(legend.position = \"none\") +\n",
    "  labs(title='Average Historical Proportions')"
   ]
  },
  {
   "cell_type": "code",
   "execution_count": null,
   "metadata": {
    "vscode": {
     "languageId": "r"
    }
   },
   "outputs": [],
   "source": [
    "tourism_states |>\n",
    "  model(ets = ETS(Trips)) |>\n",
    "  reconcile(td = top_down(ets, method = 'proportion_averages')) |>\n",
    "  forecast() |>\n",
    "  filter(!is_aggregated(State), .model == 'td') |>\n",
    "  autoplot(tourism_states)  +\n",
    "  theme(legend.position = \"none\") +\n",
    "  labs(title='Proportions of Historical Averages')"
   ]
  },
  {
   "cell_type": "code",
   "execution_count": null,
   "metadata": {
    "vscode": {
     "languageId": "r"
    }
   },
   "outputs": [],
   "source": [
    "tourism_states |>\n",
    "  model(ets = ETS(Trips)) |>\n",
    "  reconcile(td = top_down(ets, method = 'forecast_proportions')) |>\n",
    "  forecast() |>\n",
    "  filter(!is_aggregated(State), .model == 'td') |>\n",
    "  autoplot(tourism_states)  +\n",
    "  theme(legend.position = \"none\") +\n",
    "  labs(title='Proportions of Forecasts')"
   ]
  },
  {
   "cell_type": "markdown",
   "metadata": {},
   "source": [
    "### Comparing Reconciliations with Tourism Data\n",
    "Now four level (Aggregate, State, Region, Purpose)"
   ]
  },
  {
   "cell_type": "code",
   "execution_count": null,
   "metadata": {
    "vscode": {
     "languageId": "r"
    }
   },
   "outputs": [],
   "source": [
    "tourism_full <- tourism |>\n",
    "  aggregate_key((State/Region) * Purpose, Trips = sum(Trips))\n",
    "\n",
    "fit <- tourism_full |>\n",
    "  filter(year(Quarter) <= 2015) |>\n",
    "  model(base = ETS(Trips)) |>\n",
    "  reconcile(\n",
    "    bu = bottom_up(base),\n",
    "    ols = min_trace(base, method = \"ols\"),\n",
    "    mint = min_trace(base, method = \"mint_shrink\")\n",
    "  )\n",
    "\n",
    "fc <- fit |> forecast(h = \"2 years\")"
   ]
  },
  {
   "cell_type": "code",
   "execution_count": null,
   "metadata": {
    "vscode": {
     "languageId": "r"
    }
   },
   "outputs": [],
   "source": [
    "fit %>% nrow()"
   ]
  },
  {
   "cell_type": "code",
   "execution_count": null,
   "metadata": {
    "vscode": {
     "languageId": "r"
    }
   },
   "outputs": [],
   "source": [
    "fc |>\n",
    "  filter(is_aggregated(Region), is_aggregated(Purpose)) |>\n",
    "  autoplot(\n",
    "    tourism_full |> filter(year(Quarter) >= 2011),\n",
    "    level = NULL\n",
    "  ) +\n",
    "  labs(y = \"Trips ('000)\", title='State Forecasts') +\n",
    "  theme(legend.position = \"none\") +\n",
    "  facet_wrap(vars(State), scales = \"free_y\")"
   ]
  },
  {
   "cell_type": "code",
   "execution_count": null,
   "metadata": {
    "vscode": {
     "languageId": "r"
    }
   },
   "outputs": [],
   "source": [
    "fc |>\n",
    "  filter(is_aggregated(State), !is_aggregated(Purpose)) |>\n",
    "  autoplot(\n",
    "    tourism_full |> filter(year(Quarter) >= 2011),\n",
    "    level = NULL\n",
    "  ) +\n",
    "  labs(y = \"Trips ('000)\", title='Purpose') +\n",
    "  facet_wrap(vars(Purpose), scales = \"free_y\")"
   ]
  },
  {
   "cell_type": "code",
   "execution_count": null,
   "metadata": {
    "vscode": {
     "languageId": "r"
    }
   },
   "outputs": [],
   "source": [
    "# aggregate state, purpose\n",
    "fc |>\n",
    "  filter(is_aggregated(State), is_aggregated(Purpose)) |>\n",
    "  accuracy(\n",
    "    data = tourism_full,\n",
    "    measures = list(rmse = RMSE, mase = MASE)\n",
    "  ) |>\n",
    "  group_by(.model) |>\n",
    "  summarise(rmse = mean(rmse), mase = mean(mase))"
   ]
  },
  {
   "cell_type": "code",
   "execution_count": null,
   "metadata": {
    "vscode": {
     "languageId": "r"
    }
   },
   "outputs": [],
   "source": [
    "# across all levels\n",
    "fc |>\n",
    "  accuracy(\n",
    "    data = tourism_full,\n",
    "    measures = list(rmse = RMSE, mase = MASE)\n",
    "  ) |>\n",
    "  group_by(.model) |>\n",
    "  summarise(rmse = mean(rmse), mase = mean(mase))"
   ]
  },
  {
   "cell_type": "markdown",
   "metadata": {},
   "source": [
    "### Reconciliation on Prisoner Data"
   ]
  },
  {
   "cell_type": "code",
   "execution_count": null,
   "metadata": {
    "vscode": {
     "languageId": "r"
    }
   },
   "outputs": [],
   "source": [
    "prison_sg <- prison %>%\n",
    "    aggregate_key(Gender * State, Count = sum(Count)/1e3)\n",
    "\n",
    "prison_sg %>% head()"
   ]
  },
  {
   "cell_type": "code",
   "execution_count": null,
   "metadata": {
    "vscode": {
     "languageId": "r"
    }
   },
   "outputs": [],
   "source": [
    "prison_sg |>\n",
    "  filter(is_aggregated(Gender), is_aggregated(State)) |>\n",
    "  autoplot(Count) +\n",
    "  labs(y = \"Number of prisoners ('000)\")"
   ]
  },
  {
   "cell_type": "code",
   "execution_count": null,
   "metadata": {
    "vscode": {
     "languageId": "r"
    }
   },
   "outputs": [],
   "source": [
    "fit_sg <- prison_sg |>\n",
    "  filter(year(Quarter) <= 2014) |>\n",
    "  model(base = ETS(Count)) |>\n",
    "  reconcile(\n",
    "    bottom_up = bottom_up(base),\n",
    "    MinT = min_trace(base, method = \"mint_shrink\")\n",
    "  )\n",
    " \n",
    "fc <- fit_sg |> forecast(h = 8)\n",
    "\n",
    "fc |>\n",
    "  filter(is_aggregated(State), is_aggregated(Gender)) |>\n",
    "  autoplot(prison_sg, alpha = 0.7, level = 90) +\n",
    "  labs(y = \"Number of prisoners ('000)\",\n",
    "       title = \"Australian prison population (total)\")"
   ]
  },
  {
   "cell_type": "code",
   "execution_count": null,
   "metadata": {
    "vscode": {
     "languageId": "r"
    }
   },
   "outputs": [],
   "source": [
    "fc |>\n",
    "  filter(\n",
    "    !is_aggregated(State), is_aggregated(Gender)\n",
    "  ) |>\n",
    "  autoplot(\n",
    "    prison_sg |> filter(year(Quarter) >= 2010),\n",
    "    alpha = 0.7, level = 90\n",
    "  ) +\n",
    "  labs(title = \"Prison population (by state)\",\n",
    "       y = \"Number of prisoners ('000)\") +\n",
    "  facet_wrap(vars(State), scales = \"free_y\", ncol = 4) +\n",
    "  theme(axis.text.x = element_text(angle = 90, hjust = 1))"
   ]
  },
  {
   "cell_type": "code",
   "execution_count": null,
   "metadata": {
    "vscode": {
     "languageId": "r"
    }
   },
   "outputs": [],
   "source": [
    "fc |>\n",
    "  filter(is_aggregated(State), is_aggregated(Gender)) |>\n",
    "  accuracy(data = prison_sg,\n",
    "           measures = list(mase = MASE,\n",
    "                           ss = skill_score(CRPS)\n",
    "                           )\n",
    "           ) |>\n",
    "  group_by(.model) |>\n",
    "  summarise(mase = mean(mase), sspc = mean(ss) * 100)"
   ]
  },
  {
   "cell_type": "markdown",
   "metadata": {},
   "source": [
    "### Case-Shiller Home Sales Pair Counts"
   ]
  },
  {
   "cell_type": "code",
   "execution_count": null,
   "metadata": {
    "vscode": {
     "languageId": "r"
    }
   },
   "outputs": [],
   "source": [
    "sp <- readxl::read_excel('data/cs_salespairs.xls', skip=1)\n",
    "sp <- sp[complete.cases(sp), ]\n",
    "sp %>% head()"
   ]
  },
  {
   "cell_type": "code",
   "execution_count": null,
   "metadata": {
    "vscode": {
     "languageId": "r"
    }
   },
   "outputs": [],
   "source": [
    "city_sp <- sp %>% select(-CSXR, -CS20R)\n",
    "city_sp %>% head()"
   ]
  },
  {
   "cell_type": "code",
   "execution_count": null,
   "metadata": {
    "vscode": {
     "languageId": "r"
    }
   },
   "outputs": [],
   "source": [
    "sales_ts <- city_sp %>% \n",
    "pivot_longer(cols = 3:22, names_to = 'City', values_to = 'Sales') %>%\n",
    "mutate(Month = yearmonth(as.Date(paste(YEAR,MONTH,1,sep='-')))) %>%\n",
    "select(-YEAR, -MONTH) %>%\n",
    "as_tsibble(index=Month, key=City) %>%\n",
    "aggregate_key(City, Sales = sum(Sales))\n",
    "\n",
    "sales_ts %>% head()\n"
   ]
  },
  {
   "cell_type": "code",
   "execution_count": null,
   "metadata": {
    "vscode": {
     "languageId": "r"
    }
   },
   "outputs": [],
   "source": [
    "sales_ts %>%\n",
    "filter(is_aggregated(City)) %>%\n",
    "autoplot(Sales) +\n",
    "labs(title='National Sales Pairs', x='', y='Sales Pair Counts')"
   ]
  },
  {
   "cell_type": "code",
   "execution_count": null,
   "metadata": {
    "vscode": {
     "languageId": "r"
    }
   },
   "outputs": [],
   "source": [
    "sales_ts %>%\n",
    "filter(is_aggregated(City)) %>%\n",
    "gg_season(difference(Sales)) +\n",
    "labs(title = 'Change in Sales Pair', x='', y='Change in Sales Pairs')"
   ]
  },
  {
   "cell_type": "code",
   "execution_count": null,
   "metadata": {
    "vscode": {
     "languageId": "r"
    }
   },
   "outputs": [],
   "source": [
    "sales_ts %>%\n",
    "filter(!is_aggregated(City)) %>%\n",
    "autoplot(Sales) +\n",
    "labs(title='National Sales Pairs', x='', y='Sales Pair Counts') +\n",
    "facet_wrap(. ~ City,nrow = 5, ncol = 4, scales='free_y')"
   ]
  },
  {
   "cell_type": "markdown",
   "metadata": {},
   "source": [
    "#### Split to Training and test"
   ]
  },
  {
   "cell_type": "code",
   "execution_count": null,
   "metadata": {
    "vscode": {
     "languageId": "r"
    }
   },
   "outputs": [],
   "source": [
    "sp_training <- sales_ts %>% filter_index(. ~ '2021 Dec')\n",
    "sp_test <- sales_ts %>% filter_index('2022 Jan' ~ .)"
   ]
  },
  {
   "cell_type": "code",
   "execution_count": null,
   "metadata": {
    "vscode": {
     "languageId": "r"
    }
   },
   "outputs": [],
   "source": [
    "sp_models <- sp_training %>%\n",
    "model('ETS' = ETS(Sales), 'ARIMA' = ARIMA(Sales)) %>%\n",
    "reconcile(bu = bottom_up(ARIMA), MinT = min_trace(ARIMA, method = \"mint_shrink\"))"
   ]
  },
  {
   "cell_type": "code",
   "execution_count": null,
   "metadata": {
    "vscode": {
     "languageId": "r"
    }
   },
   "outputs": [],
   "source": [
    "sp_models %>%\n",
    "head()"
   ]
  },
  {
   "cell_type": "markdown",
   "metadata": {},
   "source": [
    "#### Training Accuracy"
   ]
  },
  {
   "cell_type": "code",
   "execution_count": null,
   "metadata": {
    "vscode": {
     "languageId": "r"
    }
   },
   "outputs": [],
   "source": [
    "sp_models %>%\n",
    "select(-bu, -MinT) %>%\n",
    "filter(!is_aggregated(City)) %>%\n",
    "accuracy() %>% \n",
    "select(City, .model, RMSE) %>%\n",
    "rename(Model = .model) %>%\n",
    "ungroup() %>%\n",
    "pivot_wider(names_from = Model, values_from = RMSE) %>%\n",
    "ggplot(aes(x=ETS, y=ARIMA)) + geom_point() + geom_abline(intercept = 0, slope=1) +\n",
    "annotate('text', x=200, y=400, label='ETS Lower RMSE') +\n",
    "annotate('text', x=500, y=200, label='ARIMA Lower RMSE') +\n",
    "labs(title='Training Accuracy for each City (RMSE)', x='ETS RMSE', y='ARIMA RMSE')\n"
   ]
  },
  {
   "cell_type": "code",
   "execution_count": null,
   "metadata": {
    "vscode": {
     "languageId": "r"
    }
   },
   "outputs": [],
   "source": [
    "sp_models %>%\n",
    "select(-bu, -MinT) %>%\n",
    "accuracy() %>% \n",
    "filter(is_aggregated(City)) %>%\n",
    "select(City, .model, RMSE)"
   ]
  },
  {
   "cell_type": "markdown",
   "metadata": {},
   "source": [
    "#### Test Accuracy"
   ]
  },
  {
   "cell_type": "code",
   "execution_count": null,
   "metadata": {
    "vscode": {
     "languageId": "r"
    }
   },
   "outputs": [],
   "source": [
    "sp_forecasts <- sp_models %>%\n",
    "forecast(sp_test)"
   ]
  },
  {
   "cell_type": "code",
   "execution_count": null,
   "metadata": {
    "vscode": {
     "languageId": "r"
    }
   },
   "outputs": [],
   "source": [
    "sp_forecasts %>%\n",
    "accuracy(sp_test) %>% \n",
    "filter(!is_aggregated(City)) %>%\n",
    "select(City, .model, RMSE) %>%\n",
    "rename(Model = .model) %>%\n",
    "ungroup() %>%\n",
    "pivot_wider(names_from = Model, values_from = RMSE) %>%\n",
    "ggplot(aes(x=ETS, y=ARIMA)) + geom_point() + geom_abline(intercept = 0, slope=1) +\n",
    "annotate('text', x=2000, y=4000, label='ETS Lower RMSE') +\n",
    "annotate('text', x=4000, y=500, label='ARIMA Lower RMSE') +\n",
    "labs(title='Test Accuracy for each City (RMSE)', x='ETS RMSE', y='ARIMA RMSE')"
   ]
  },
  {
   "cell_type": "code",
   "execution_count": null,
   "metadata": {
    "vscode": {
     "languageId": "r"
    }
   },
   "outputs": [],
   "source": [
    "sp_forecasts %>%\n",
    "accuracy(sp_test) %>% \n",
    "filter(is_aggregated(City)) %>%\n",
    "select(City, .model, RMSE)"
   ]
  },
  {
   "cell_type": "code",
   "execution_count": null,
   "metadata": {
    "vscode": {
     "languageId": "r"
    }
   },
   "outputs": [],
   "source": [
    "sp_forecasts %>%\n",
    "filter(!is_aggregated(City), .model == 'MinT') %>%\n",
    "autoplot(sales_ts %>% filter_index('2018 Jan' ~ .)) +\n",
    "facet_wrap(vars(City), scales='free_y')"
   ]
  },
  {
   "cell_type": "code",
   "execution_count": null,
   "metadata": {
    "vscode": {
     "languageId": "r"
    }
   },
   "outputs": [],
   "source": [
    "sp_forecasts %>%\n",
    "filter(is_aggregated(City)) %>%\n",
    "autoplot(sales_ts %>% filter_index('2018 Jan' ~ .)) +\n",
    "facet_wrap(vars(.model))"
   ]
  },
  {
   "cell_type": "markdown",
   "metadata": {},
   "source": [
    "#### Retrain for Out-of-Sample"
   ]
  },
  {
   "cell_type": "code",
   "execution_count": null,
   "metadata": {
    "vscode": {
     "languageId": "r"
    }
   },
   "outputs": [],
   "source": [
    "final_sales_model <- sales_ts %>%\n",
    "model('ARIMA' = ARIMA(Sales)) %>%\n",
    "reconcile(bu = bottom_up(ARIMA), MinT = min_trace(ARIMA, method = \"mint_shrink\"))\n",
    "\n",
    "final_sales_forecasts <- final_sales_model %>% forecast(h='12 months')\n",
    "\n",
    "final_sales_forecasts %>%\n",
    "filter(!is_aggregated(City), .model == 'MinT') %>%\n",
    "autoplot(sales_ts %>% filter_index('2018 Jan' ~ .)) +\n",
    "facet_wrap(vars(City), scales='free_y')"
   ]
  },
  {
   "cell_type": "code",
   "execution_count": null,
   "metadata": {
    "vscode": {
     "languageId": "r"
    }
   },
   "outputs": [],
   "source": [
    "final_sales_forecasts %>%\n",
    "filter(is_aggregated(City)) %>%\n",
    "autoplot(sales_ts %>% filter_index('2018 Jan' ~ .)) +\n",
    "facet_wrap(vars(.model), nrow=1)"
   ]
  }
 ],
 "metadata": {
  "kernelspec": {
   "display_name": "R",
   "language": "R",
   "name": "ir"
  },
  "language_info": {
   "codemirror_mode": "r",
   "file_extension": ".r",
   "mimetype": "text/x-r-source",
   "name": "R",
   "pygments_lexer": "r",
   "version": "4.3.1"
  }
 },
 "nbformat": 4,
 "nbformat_minor": 2
}
